{
 "cells": [
  {
   "cell_type": "markdown",
   "metadata": {},
   "source": [
    "<center><a href=\"https://www.nvidia.com/en-us/training/\"><img src=\"https://dli-lms.s3.amazonaws.com/assets/general/DLI_Header_White.png\" width=\"400\" height=\"186\" /></a></center>"
   ]
  },
  {
   "cell_type": "markdown",
   "metadata": {},
   "source": [
    "# <font color=\"#76b900\">**2:** LLM Architecture Intuitions</font>"
   ]
  },
  {
   "cell_type": "markdown",
   "metadata": {
    "id": "g2Dhs90vKb9d"
   },
   "source": [
    "In the last notebook, you touched the surface-level interface of the HuggingFace &#x1F917; pipelines and went a single layer deeper, seeing the abstractions associated with the pipeline and looking a little under the hood to how these components might be implemented. Namely, you should now be familiar with the `preprocess -> forward -> postprocess` abstraction which hides the complexity from the user and makes it easy to work with your models. In this notebook, we'll be looking a bit deeper to try and understand what techniques are being used to facilitate this reasoning.\n",
    "\n",
    "#### **Learning Objectives:**\n",
    "\n",
    "- Tokenization and embedding intuitions, specifically relating to how the data comes into our models and what properties the network can take advantage of.\n",
    "- Transformer encoder architectures for performing sequence-level reasoning for an n-sequence-in-n-sequence-out formulation."
   ]
  },
  {
   "cell_type": "markdown",
   "metadata": {
    "id": "8ii0e8yi-u_v"
   },
   "source": [
    "## 2.1. Getting The Model Inputs\n",
    "As we saw previously, the overall pipeline has to convert to and from the tensor representation using the `preprocess` and `postprocess` functionalities. Looking a little deeper, we can see that the preprocess method relies on the tokenizer, and we can assume that the postprocess does too, so let's look at that pipeline again:"
   ]
  },
  {
   "cell_type": "code",
   "execution_count": null,
   "metadata": {
    "colab": {
     "base_uri": "https://localhost:8080/"
    },
    "executionInfo": {
     "elapsed": 1864,
     "status": "ok",
     "timestamp": 1694317935956,
     "user": {
      "displayName": "Vadim Kudlay",
      "userId": "00553664172613290122"
     },
     "user_tz": 300
    },
    "id": "NzM4kxtk-uMO",
    "outputId": "5317efd6-4cf8-4611-e88b-963e11ef7f97",
    "tags": []
   },
   "outputs": [],
   "source": [
    "from transformers import BertTokenizer, BertModel, FillMaskPipeline, AutoModelForMaskedLM\n",
    "\n",
    "class MyMlmPipeline(FillMaskPipeline):\n",
    "    def __init__(self):\n",
    "        super().__init__(\n",
    "            tokenizer = BertTokenizer.from_pretrained('bert-base-uncased'),\n",
    "            model = AutoModelForMaskedLM.from_pretrained(\"bert-base-uncased\")\n",
    "        )\n",
    "\n",
    "    def __call__(self, string, verbose=False):\n",
    "        ## Verbose argument just there for our convenience\n",
    "        input_tensors = self.preprocess(string)\n",
    "        output_tensors = self.forward(input_tensors)\n",
    "        output = self.postprocess(output_tensors)\n",
    "        return output\n",
    "\n",
    "    def preprocess(self, string):\n",
    "        string = [string] if isinstance(string, str) else string\n",
    "        inputs = self.tokenizer(string, return_tensors=\"pt\")\n",
    "        return inputs\n",
    "\n",
    "    def forward(self, tensor_dict):\n",
    "        output_tensors = self.model.forward(**tensor_dict)\n",
    "        return {**output_tensors, **tensor_dict}\n",
    "\n",
    "    def postprocess(self, tensor_dict):\n",
    "        ## Very Task-specific; see FillMaskPipeline.postprocess\n",
    "        return super().postprocess(tensor_dict)\n",
    "\n",
    "\n",
    "class MyMlmSubPipeline(MyMlmPipeline):\n",
    "    def __call__(self, string, verbose=False):\n",
    "        ## Verbose argument just there for our convenience\n",
    "        input_tensors = self.preprocess(string)\n",
    "        return input_tensors\n",
    "        # output_tensors = self.forward(input_tensors)\n",
    "        # output = self.postprocess(output_tensors)\n",
    "        # return output\n",
    "\n",
    "\n",
    "unmasker = MyMlmSubPipeline()\n",
    "unmasker(\"Hello, Mr. Bert! How is it [MASK]?\", verbose=True)"
   ]
  },
  {
   "cell_type": "markdown",
   "metadata": {
    "id": "8L6p4TKN_f_r"
   },
   "source": [
    "This shows that the tokenizer is a conversion strategy for converting the input string to a series of tokens. A token is a symbolic representation of something, and is usually reasoned about as a class. Within the scope of language modeling, a token is usually a word, or a letter, or some other substring that can be used as a fundamental building block of a sentence. This is one of the more consistent things among all of the large language models you'll encounter, and also probably one of the conceptually-simplest. Still, it's nice to know what they are and how they operate."
   ]
  },
  {
   "cell_type": "markdown",
   "metadata": {
    "id": "OIAiFiYPAFyg"
   },
   "source": [
    "When given our string, the tokenizer responds with several components:\n",
    "- `input_ids`: These are just the IDs of the tokens that make up our sentence. Said tokens can be words, punctuation, letters, whatever. Just individual entries out of a set vocabulary, exactly like classes.\n",
    "    - Try the following:\n",
    "    ```python\n",
    "    msg = \"Hello world and have a great day!\"\n",
    "    unmasker.tokenizer.tokenize(msg)       ## See token boundaries\n",
    "    # x = unmasker.tokenizer.encode(msg)   ## See special tokens at end\n",
    "    # x = unmasker.tokenizer.decode(x)     ## See decoding\n",
    "    # print(x)\n",
    "    ```\n",
    "\n",
    "- `token_type_ids`: Added information that the BERT authors realized was useful. This is just an extra flag which tells BERT whether this is the first or the second sentence. This can be useful sometimes (and is a major part of the training objective of BERT specifically), but you'll probably never use it knowingly in practice.\n",
    "    - Try the following:\n",
    "    ```python\n",
    "    unmasker.tokenizer(\"Hello world!\", \"Have a great day!\")\n",
    "    ```\n",
    "\n",
    "- `attention_mask`: To be discussed later; It's a natural input to transformer components and regulates what tokens a specific token can pay attention to. For BERT, this is not necessary, but can be specified.\n",
    "\n",
    "As far as we will need to be concerned, the `input_ids` are the most important input segment for our model. Considering this, we can intuit how the LLMs approach the task of natural language processing; as reasoning about an **ordered sequence of tokens.** On one hand this should be somewhat reassuring, as classification is a common task in deep learning that you're probably well-familiar with. On the other, you may be a little less familiar with either the process of taking in classes as input or reasoning about sequences. We can go ahead and investigate the model to try to figure out what intuitions the language models might be using to make these problems tractible. "
   ]
  },
  {
   "cell_type": "code",
   "execution_count": null,
   "metadata": {
    "executionInfo": {
     "elapsed": 21,
     "status": "ok",
     "timestamp": 1694317935957,
     "user": {
      "displayName": "Vadim Kudlay",
      "userId": "00553664172613290122"
     },
     "user_tz": 300
    },
    "id": "ya5bxKUfGXy6"
   },
   "outputs": [],
   "source": [
    "## Feel free to run some code cells here"
   ]
  },
  {
   "cell_type": "markdown",
   "metadata": {
    "id": "uNGHSdojBUaa"
   },
   "source": [
    "## 2.2. Capturing Token Semantics\n",
    "\n",
    "We now know that natural language reasoning is a problem of inferring insights from an ordered sequence of tokens, so how would we approach that formulation? With regards to classes, we should already have some intuitions:\n",
    "\n",
    "- **On the output side**, we can output a probability distribution over the set of possible classes. For example, if we were predicting among `cat`, `dog`, and `bird`, we can output a 3-value vector with the intuitive meaning of `<is_cat, is_dog, is_bird>`. For ground-truth, you just use one-hot encodings where the realized instance is 1 and the other options are 0.\n",
    "- **On the input side**, we could also feed in a one-hot value if we want, but a more efficient strategy when you're primarily dealing with one-hots is to use an **Embedding Layer**, or a glorified matrix where the class index is the row to access. Whichever one you choose, you'll be keeping a record of the semantics associated with the class in your model architecture (either in the weights of the first layer or the weights of the lookup matrix).\n",
    "\n",
    "With that said, the LLM definitely has a strategy for this:"
   ]
  },
  {
   "cell_type": "code",
   "execution_count": null,
   "metadata": {
    "colab": {
     "base_uri": "https://localhost:8080/"
    },
    "executionInfo": {
     "elapsed": 16,
     "status": "ok",
     "timestamp": 1694317935957,
     "user": {
      "displayName": "Vadim Kudlay",
      "userId": "00553664172613290122"
     },
     "user_tz": 300
    },
    "id": "iU9a00WcGRdm",
    "outputId": "ce49d963-cb97-41ec-996a-38edd5f3bb97",
    "tags": []
   },
   "outputs": [],
   "source": [
    "model = unmasker.model\n",
    "# dir(model)\n",
    "# dir(model.bert)\n",
    "model.bert.embeddings\n",
    "# model.bert.embeddings.word_embeddings\n",
    "# model.bert.embeddings.position_embeddings\n",
    "# model.bert.embeddings.token_type_embeddings"
   ]
  },
  {
   "cell_type": "markdown",
   "metadata": {
    "id": "DgWJ8vhbGSJE"
   },
   "source": [
    "From this, we can identify the 3 components discussed in the presentation:\n",
    "- **Word Embeddings:** Semantic vectors representing the input tokens.\n",
    "- **Position Embeddings**: Semantic vectors representing the position of the words.\n",
    "- **Token Type Embedding**: Semantic vectors representing whether the token belongs to the first or second sentence.\n",
    "\n",
    "Notice how the `Embedding` component is constructed with the format:\n",
    "\n",
    "```\n",
    "Embedding(in_channel, out_channel)\n",
    "```\n",
    "\n",
    "We can see from this that BERT uses 768-dimensional embeddings, and can speculate on how they are obtained. The word embeddings seem to be coming from a 30,522-dimensional vector (the number of unique tokens in the vocabulary), the positional ones from 512, and the token types from just a few. Let's explore these a bit further."
   ]
  },
  {
   "cell_type": "markdown",
   "metadata": {
    "id": "CiB9VTXsH8WB"
   },
   "source": [
    "### Investigating the Word Embeddings\n",
    "\n",
    "Let's go ahead and take a look at the word embeddings:"
   ]
  },
  {
   "cell_type": "code",
   "execution_count": null,
   "metadata": {
    "colab": {
     "base_uri": "https://localhost:8080/"
    },
    "executionInfo": {
     "elapsed": 11,
     "status": "ok",
     "timestamp": 1694317935957,
     "user": {
      "displayName": "Vadim Kudlay",
      "userId": "00553664172613290122"
     },
     "user_tz": 300
    },
    "id": "GA3gjraKH9Kk",
    "outputId": "55858ed8-d0cf-40b5-a36b-16300f2ff008",
    "tags": []
   },
   "outputs": [],
   "source": [
    "import torch\n",
    "\n",
    "tokenizer = unmasker.tokenizer\n",
    "\n",
    "def get_word_embeddings(string):\n",
    "    tokens = tokenizer(string)['input_ids']\n",
    "    tokens = tokens[1:-1] ## Remove cls and sep tokens\n",
    "    tokens = torch.tensor(tokens)\n",
    "    return model.bert.embeddings.word_embeddings(tokens)\n",
    "\n",
    "## Pre-spaced to show where the tokens are. Same results without extra spaces\n",
    "string = \"Hello World From Me, my cat and my dog!\"\n",
    "tokens = [tokenizer.convert_ids_to_tokens(x) for x in tokenizer.encode(string)[1:-1]]\n",
    "embeddings = get_word_embeddings(string)\n",
    "print(embeddings.shape)\n",
    "embeddings"
   ]
  },
  {
   "cell_type": "markdown",
   "metadata": {
    "id": "D8LjH6fYIJzO"
   },
   "source": [
    "Given what we talked about with embedding vectors, we'd expect the word embedding vectors to capture some of the meanings of the tokens that span our intended natural language. To investigate it, we can go ahead and define some helper functions:"
   ]
  },
  {
   "cell_type": "code",
   "execution_count": null,
   "metadata": {
    "executionInfo": {
     "elapsed": 269,
     "status": "ok",
     "timestamp": 1694317936218,
     "user": {
      "displayName": "Vadim Kudlay",
      "userId": "00553664172613290122"
     },
     "user_tz": 300
    },
    "id": "AIzRFOk_ILr0",
    "tags": []
   },
   "outputs": [],
   "source": [
    "import torch\n",
    "import matplotlib.pyplot as plt\n",
    "import seaborn as sns\n",
    "import numpy as np\n",
    "\n",
    "def cosine_similarity(x1, x2):\n",
    "    \"\"\"Compute cosine similarity between two vectors.\"\"\"\n",
    "    dot_product = x1 @ x2.T\n",
    "    norm_x1 = torch.norm(x1, dim=-1)\n",
    "    norm_x2 = torch.norm(x2, dim=-1)\n",
    "    return dot_product / (norm_x1 * norm_x2)\n",
    "\n",
    "def scaled_dp_similarity(x1, x2):\n",
    "    \"\"\"Compute dot-product similarity between two vectors.\"\"\"\n",
    "    dot_product = x1 @ x2.T\n",
    "    d = torch.sqrt(torch.tensor(x1.shape[-1]))\n",
    "    return dot_product / d\n",
    "\n",
    "def softmax_similarity(x1, x2):\n",
    "    \"\"\"Compute softmaxed dp similarity between two vectors.\"\"\"\n",
    "    out = scaled_dp_similarity(x1, x2)\n",
    "    return torch.softmax(out, dim=1)\n",
    "\n",
    "def plot_mtx(matrix, name='', tokens=[]):\n",
    "    \"\"\"Compute similarity matrix for embeddings.\"\"\"\n",
    "    # Plot similarity matrix\n",
    "    plt.figure(figsize=(10, 8))\n",
    "    label_dict = {} if tokens is None else {'xticklabels' : tokens, 'yticklabels': tokens}\n",
    "    sns.heatmap(\n",
    "        np.round(matrix.detach().numpy(), 3),\n",
    "        annot=True, cmap='coolwarm',\n",
    "        # vmin=-1, vmax=1,\n",
    "        **label_dict\n",
    "    )\n",
    "    plt.title(f\"Embedding {name} Matrix\")\n",
    "    plt.yticks(rotation=0)\n",
    "    plt.show()"
   ]
  },
  {
   "cell_type": "markdown",
   "metadata": {
    "id": "uARirRUVIN-o"
   },
   "source": [
    "With these visualization and metric functions defined, we can view the similarities of the embeddings in different measurement spaces:\n",
    "\n",
    "- The following will compute the cosine similarity:\n",
    "  ```python\n",
    "  plot_mtx(cosine_similarity(embeddings, embeddings), 'Cosine Sim', tokens)\n",
    "  ```\n",
    "  You'll notice that we do get some pretty nice properties, and the result is a nice normalized matrix, but unfortunately this throws away distance-related information of the vectors.\n",
    "\n",
    "- As we'll soon see this idea being incorporated into the architecture, it's worth investigating what happens when we decide to transition to softmax-based similarity:\n",
    "  ```python\n",
    "  plot_mtx(softmax_similarity(embeddings, embeddings), 'Softmax(x1) Sim', tokens)\n",
    "  ```\n",
    "  You'll see that the matrix is no longer symetric since we're applying softmax on a per-row basis, but it does have a nice intuitive analogue when you format it as a matrix product:\n",
    "  **Relative to the others, how much does a token contribute to every other token?** This formulation will come up later as \"attention.\"\n",
    "\n",
    "  You'll also notice that the magnitudes are pretty small, but we can increase the magnitude of the embeddings and observe a much more polarizing similarity matrix.\n",
    "  ```python\n",
    "  plot_mtx(softmax_similarity(embeddings*10, embeddings*10), 'Softmax(x10) Sim', tokens)\n",
    "  ```\n",
    "  \n",
    "  Because the metric now factors magnitude into the decision process but keeps the output bounded and under control, this is a great choice when you actually want to inject similarity into optimization (again, foreshadowing).\n",
    "\n",
    "Regardless, the takehome message for word embeddings is roughly **\"learned vector representation for each token based on its meaning and usage in sentences.\"**"
   ]
  },
  {
   "cell_type": "code",
   "execution_count": null,
   "metadata": {
    "executionInfo": {
     "elapsed": 25,
     "status": "ok",
     "timestamp": 1694317936219,
     "user": {
      "displayName": "Vadim Kudlay",
      "userId": "00553664172613290122"
     },
     "user_tz": 300
    },
    "id": "Q5YPlm6PITLe",
    "tags": []
   },
   "outputs": [],
   "source": [
    "## Please run the code lines and observe what happens"
   ]
  },
  {
   "cell_type": "markdown",
   "metadata": {
    "id": "sReNjJpXIlSP"
   },
   "source": [
    "### Investigating the Positional Embeddings\n",
    "\n",
    "Now that we've seen the word embeddings, we can take a look at the positional embeddings:\n",
    "\n",
    "```python\n",
    "model.bert.embeddings.position_embeddings ## -> Embedding(512, 768)\n",
    "```\n",
    "\n",
    "In contrast to the word embeddings, there is a new input dimension: 512.\n",
    "\n",
    "This actually corresponds to the number of input tokens that the BERT model can take in. All modern language models have a limited amount of tokens that can be fed in as a single input entry, and so there are only 512 possible positions to account for for our model.  \n",
    "- **NOTE:** This limit is actually not a hard limit, and is implemented on a per-model basis due to steep performance degredation. More on this when we talk about attention."
   ]
  },
  {
   "cell_type": "code",
   "execution_count": null,
   "metadata": {
    "colab": {
     "base_uri": "https://localhost:8080/"
    },
    "executionInfo": {
     "elapsed": 24,
     "status": "ok",
     "timestamp": 1694317936219,
     "user": {
      "displayName": "Vadim Kudlay",
      "userId": "00553664172613290122"
     },
     "user_tz": 300
    },
    "id": "911tmdn5Iq0Z",
    "outputId": "8fdadbf3-76fd-4339-c16d-1c5698073317",
    "tags": []
   },
   "outputs": [],
   "source": [
    "def get_pos_embeddings(string):\n",
    "    ## NOTE: In the previous method, we removed surrounding tokens for illustration only.\n",
    "    ## For this one, we will not do the same since the index offset matters.\n",
    "    tokens = tokenizer(string)['input_ids']  \n",
    "    return model.bert.embeddings.position_embeddings(torch.arange(len(tokens)))\n",
    "\n",
    "## Pre-spaced to show where the tokens are. Same results without extra spaces\n",
    "string = \"Hello World From Me, my cat and my dog!\"\n",
    "pos_embeddings = get_pos_embeddings(string)\n",
    "print(pos_embeddings.shape)\n",
    "pos_embeddings"
   ]
  },
  {
   "cell_type": "markdown",
   "metadata": {
    "id": "cQ0n60xhIrro"
   },
   "source": [
    "The main difference you may have noticed is that instead of feeding in the tokens directly into the embedding layers, we're only feeding in a sequence of indices, literally via `torch.arange(n) = torch.tensor([0, 1, ..., n-1])`. The original \"Transformers Is All You Need\" paper used Positional \"Encoding\" which are pre-computed by a sinosoidal algorithm, but we can see that BERT just directly optimizes them instead. If it works, it works!\n",
    "\n",
    "You'll notice that the positional embedding has a more predictable and uniform cosine similarity plots compared to the word embeddings, which are all actually pretty consistent with a few key exceptions.\n",
    "\n",
    "```python\n",
    "plot_mtx(cosine_similarity(pos_embeddings, pos_embeddings), 'Cosine Sim', tokens)\n",
    "```\n",
    "\n",
    "**You're free to visualize a subset of the positional embeddings matrix below.**"
   ]
  },
  {
   "cell_type": "code",
   "execution_count": null,
   "metadata": {
    "executionInfo": {
     "elapsed": 22,
     "status": "ok",
     "timestamp": 1694317936219,
     "user": {
      "displayName": "Vadim Kudlay",
      "userId": "00553664172613290122"
     },
     "user_tz": 300
    },
    "id": "aW1lxTkoIvVx",
    "tags": []
   },
   "outputs": [],
   "source": [
    "## Please run the code lines and observe what happens"
   ]
  },
  {
   "cell_type": "markdown",
   "metadata": {
    "id": "EXwGMOOhI-WK"
   },
   "source": [
    "### The Tail-End of the Embedding\n",
    "\n",
    "To wrap up our embedding discussions, we do still have our **token_type_embedding** embeddings, but they follow roughly the same logic; just take in some extra semantic information about the sentence structure, and encode it in. The authors saw that this extra bit of information was necessary, so the overall embedding definition for BERT is:\n",
    "\n",
    "`embed = WordEmbed[token] + PosEmbed[pos] + TypeEmbed[pos]`"
   ]
  },
  {
   "cell_type": "code",
   "execution_count": null,
   "metadata": {
    "colab": {
     "base_uri": "https://localhost:8080/"
    },
    "executionInfo": {
     "elapsed": 21,
     "status": "ok",
     "timestamp": 1694317936219,
     "user": {
      "displayName": "Vadim Kudlay",
      "userId": "00553664172613290122"
     },
     "user_tz": 300
    },
    "id": "_R3BjEOkJBhs",
    "outputId": "7b89ff1a-81a6-41ab-81bb-e54bbb8fbcfe",
    "tags": []
   },
   "outputs": [],
   "source": [
    "model.bert.embeddings"
   ]
  },
  {
   "cell_type": "markdown",
   "metadata": {
    "id": "3qKG1domJDdU"
   },
   "source": [
    "Then at the end, the LayerNorm section and Dropout section are also included, and these will permiate your architectures going forward. A light discussion is sufficient to motivate them:\n",
    "\n",
    "- The [LayerNorm layer](https://pytorch.org/docs/stable/generated/torch.nn.LayerNorm.html) normalizes the data flowing through it so that each minibatch subscribes to a similar distribution. You've probably seen [BatchNorm](https://pytorch.org/docs/stable/generated/torch.nn.BatchNorm2d.html) from computer vision; this has a similar logic, but now the normalization covers the layer outputs instead of the batch.\n",
    "    - [Build Better Deep Learning Models with Batch and Layer Normalization | **PineCone.io**](https://www.pinecone.io/learn/batch-layer-normalization/)\n",
    "    - [**PowerNorm** paper](https://arxiv.org/abs/2003.07845): Contains a deeper analyzes of Batch/Layer Norm and problems for the LLM use-case\n",
    "- The [Dropout layer](https://pytorch.org/docs/stable/generated/torch.nn.Dropout.html) just masks out some of the values during training. You've probably seen this before, and the logic is the same as usual; prevent over-reliance on a selection of features and distribute the logic throughout the network.\n",
    "\n",
    "From here, it is useful to remind you that HuggingFace is an open-source platform! Though it is quite large, its logic becomes transparent when you know where to look. In this case, we can see the code for how all of these things come together in [`transformers/models/bert/modeling_bert.py`](https://github.com/huggingface/transformers/blob/0a365c3e6a0e174302debff4023182838607acf1/src/transformers/models/bert/modeling_bert.py#L180C11-L180C11). Perusing the source code can help answer ambiguities about technical details such as \"is this addition or concatenation\" (it's addition) or \"are there additional steps necessary to make this scheme work in practice\" (yes). Please check it out and try to appreciate how litte information is actually necessary for the model to perform its reasoning."
   ]
  },
  {
   "cell_type": "markdown",
   "metadata": {
    "id": "Lj7nG585JOnt"
   },
   "source": [
    "## 2.3. From Token-Level Reasoning to Passage-Level Reasoning\n",
    "\n",
    "**To summarize the key points of the LLM intake strategy:**\n",
    "\n",
    "- We take in a passage as an ordered sequence of tokens which we obtain by passing the string through the tokenizer.\n",
    "- We train up embeddings corresponding to the token features (meanings, positions, etc.), and incorporate them together (in this case, literally by adding them).  \n",
    "\n",
    "**With this, we have some obvious options for how to reason about our data:**\n",
    "\n",
    "- We can just take our sequence of tokens, and then reason about each one of those one-at-a-time. This is quite similar to what we did in classification tasks, so we know it does work. \n",
    "    - **Problem:** This isn't good enough for text passages since the tokens have to reason about the other tokens in the sequence.\n",
    "- On the other hand, we can try to reason about these things all at once by combining them and passing the data through dense layers\n",
    "    - **Problem:** This will create a dense neural network that is intractable to optimize.\n",
    "\n",
    "The LLM solution is to do something between those two options: Allow reasoning to be done on each token, but also allow for small opportunities in which the network can combine the token reasoning and consider the sequence as a whole! That's where the **transformer** components come in!\n",
    "\n",
    "### Transformer Attention\n",
    "\n",
    "**Transformers** are deep learning components described in the 2017 paper [*Attention Is All You Need*](https://arxiv.org/abs/1706.03762) for reasoning with language tasks, and the resulting architecture has been making its way into almost every state-of-the-art language modeling architecture since. This architecture uses an ***attention mechanism*** to create an interface where the other entries of the sequence can communicate semantic information to other tokens in the series.\n",
    "\n",
    "The formulation goes as follows: If we have semantic and positional information present in our embeddings, we can train a mapping from our embeddings into three semantic spaces $K$, $Q$, and $V$:\n",
    "\n",
    "- `Key` and `Query` are arguments to a similarity function (recall scaled softmax attention) to guage how much weight (or attention) should be given between any pair of sequence entries in the input.\n",
    "    - In practice, the inputs to a specific transformer block are latent embeddings of the original tokens.\n",
    "- `Value` is the information that should pass through to the next component, and is weighted by `SoftmaxAttention(Key, Query)` to produce an output that is positionally and semantically motivated.\n",
    "\n",
    "**In other words:** Given a semantic/position-rich sequence of $d_k$-element embeddings ($S$) and three dense layers ($K$, $Q$, and $V$) that operate per-sequence-entry, we can train a neural network to make semantic/position-driven predictions via the forward pass equation:\n",
    "\n",
    "$$\\text{Self-Attention} = \\text{SoftmaxAttention}(K_s, Q_s) \\cdot V_s$$$$= \\frac{K_s Q_s ^T}{\\sqrt{d_k}}V_s$$\n",
    "\n",
    "<div><img src=\"imgs/attention-logic.png\" width=\"1000\"/></div>\n",
    "\n",
    "**Key Observations:**\n",
    "\n",
    "- Since the embeddings have both semantic and positional information, this will be able to reason about both the general meanings and the word order of an input sequence.\n",
    "- Since scaled softmax attention is being used, the magnitude and cosine similarity of `Key` and `Query` all play a role in the decision-making process while the optimized result remains nicely-bounded.\n",
    "- Since sequence length dimension gets preserved by matrix multiplication, there is a nice interpretation to the resulting attention matrix: **\"What percentage of attention should each token pay to its surrounding tokens\"**.\n",
    "\n",
    "This flavor of attention is called **self-attention**, since all of the `Key`, `Query`, and `Value` vectors are inferred from the same sequence. Other flavors will be presented later as necessary."
   ]
  },
  {
   "cell_type": "markdown",
   "metadata": {
    "id": "ruqnhclbNli5"
   },
   "source": [
    "### Seeing Attention in the BERT Encoder\n",
    "\n",
    "Now that we've reviewed the logic of how self-attention works, let's look through the BERT encoder to see how our embeddings are treated:"
   ]
  },
  {
   "cell_type": "code",
   "execution_count": null,
   "metadata": {
    "colab": {
     "base_uri": "https://localhost:8080/"
    },
    "executionInfo": {
     "elapsed": 16,
     "status": "ok",
     "timestamp": 1694317936220,
     "user": {
      "displayName": "Vadim Kudlay",
      "userId": "00553664172613290122"
     },
     "user_tz": 300
    },
    "id": "17XfGL09NqwD",
    "outputId": "163de708-172f-4ae6-a334-29ccc447ac90"
   },
   "outputs": [],
   "source": [
    "unmasker.model.bert.encoder"
   ]
  },
  {
   "cell_type": "markdown",
   "metadata": {
    "id": "D1MBqwscNlCy"
   },
   "source": [
    "Let's just talk about these components:\n",
    "- `BertAttention`: This component takes a sequence of vectors (let's call it `x`) as input and gets the `Q`, `K`, and `V` components via `query(x)`, `key(x)`, and `value(x)`, respectively. As these are all $768$-dimensional vectors - and are thereby multiplicatively compatible under transpose - the layer performs the attention computation with a few key modifications:\n",
    "    - **Multi-Headed Attention:** This is talked about in lecture, but essentially $K$, $Q$, and $V$ are all slices up along the embedding dimension such that we get 12 trios with dimension $768/12 = 64$. This will give us 12 different attention results, and hence will allow the network to distribute attention in a variety of ways. At the end, just concatenate embedding-wise and you'll be back up to 768-features vectors.\n",
    "    - **Masked Attention:** This is less useful for BERT but explains what the `attention_mask` input is doing. Essentially, it's an boolean \"should-I-add-negative-infinity-to-the-attention\" mask to keep the model from attending to things it shouldn't. For inference purposes, this is usually not important barring the presence of padding tokens. When using off-the-shelf pipelines for inference, you can ignore attention masks in most cases and can assume that the pipeline will take care of it.\n",
    "    - **Residual Connections:** To help the network keep the token-level information propagating through the network (and to improve the overall gradient flow), most architectures add residual connections around the transformer components.\n",
    "\n",
    "- `BertSelfOutput -> BertIntermediate -> BertOutput`: These are all just token-level dense layers with non-linear activations and some `LayerNorm`/`Dropout` layers mixed in for regularization. Each element in the sequence is thereby ran through a MLP with dimension $768 \\to 768 \\to 3072 \\to 768$ to a new representation.\n",
    "\n",
    "And... there are 12 of these, stacked one after the other! Not too bad, huh?"
   ]
  },
  {
   "cell_type": "markdown",
   "metadata": {},
   "source": [
    "<div><img src=\"imgs/bert-construction.png\" width=\"800\"/></div>"
   ]
  },
  {
   "cell_type": "markdown",
   "metadata": {
    "id": "00X5bjwcNueo"
   },
   "source": [
    "### Visualizing The Attention Mechanism In Action\n",
    "\n",
    "Recall that there are 12 `SelfAttention` layers and each one has 12 attention heads reasoning about a different properties of the sequence. As such, we can request the realized attention values computed at each `SelfAttention` layer:"
   ]
  },
  {
   "cell_type": "code",
   "execution_count": null,
   "metadata": {
    "colab": {
     "base_uri": "https://localhost:8080/"
    },
    "executionInfo": {
     "elapsed": 250,
     "status": "ok",
     "timestamp": 1694317936460,
     "user": {
      "displayName": "Vadim Kudlay",
      "userId": "00553664172613290122"
     },
     "user_tz": 300
    },
    "id": "nSYojpqSN3Qk",
    "outputId": "fd57f19f-41d1-404c-9659-d750ed24c02b",
    "tags": []
   },
   "outputs": [],
   "source": [
    "import torch\n",
    "\n",
    "string = \"Hello Mr. Bert! How is it [MASK]?\"\n",
    "input_tensors = unmasker.preprocess(string)\n",
    "embeddings = unmasker.model.bert.embeddings(input_tensors['input_ids'])\n",
    "x = unmasker.model.bert.encoder(embeddings, input_tensors['attention_mask'], output_attentions=True)\n",
    "## NOTE, you can also feed it in as an argument on model construction\n",
    "\n",
    "print('', \"From encoder.forward():\", sep='\\n')\n",
    "for k,v in x.items():\n",
    "    if type(v) in (tuple, list):\n",
    "        print(f\" > '{k}' : {torch.stack(v).shape}\")\n",
    "    else:\n",
    "        print(f\" > '{k}' : {v.shape}\")\n"
   ]
  },
  {
   "cell_type": "markdown",
   "metadata": {
    "id": "BrQ5n7S5N0rt"
   },
   "source": [
    "As the transformer architecture largely avoids mixing semantics/position information outside of the attention mechanism. As such, you can claim that the attention localized at any head loosely considers the impact of the whole sequence on a particular sequence entry (aka token).\n",
    "\n",
    "To visualize this, we can use the [`BertViz` package](https://github.com/jessevig/bertviz) to display the attention associations from our last forward pass in an interactive grid! Please feel free to test this out with other input strings to see what changes.\n",
    "- See what happens to the dimensionality when you increase the number of tokens.\n",
    "- See what happens to the connections, and see if you see any patterns worth noting.\n",
    "- Why do you think the CLS and SEP tokens get so much attention in many of the attention heads?"
   ]
  },
  {
   "cell_type": "code",
   "execution_count": null,
   "metadata": {
    "colab": {
     "base_uri": "https://localhost:8080/",
     "height": 1000
    },
    "executionInfo": {
     "elapsed": 994,
     "status": "ok",
     "timestamp": 1694317956922,
     "user": {
      "displayName": "Vadim Kudlay",
      "userId": "00553664172613290122"
     },
     "user_tz": 300
    },
    "id": "z7FjdryUN6FY",
    "outputId": "8b479087-52a2-42f8-ced7-ee768fd18d1f",
    "tags": []
   },
   "outputs": [],
   "source": [
    "from bertviz import model_view\n",
    "\n",
    "import torch\n",
    "from transformers import pipeline\n",
    "\n",
    "string = \"Hello Mr. Bert! [MASK] should be fun!\"\n",
    "input_ids = unmasker.tokenizer.encode(string)\n",
    "input_tokens = unmasker.tokenizer.convert_ids_to_tokens(input_ids)\n",
    "\n",
    "input_tensors = unmasker.preprocess(string)\n",
    "embeddings = unmasker.model.bert.embeddings(input_tensors['input_ids'])\n",
    "x = unmasker.model.bert.encoder(embeddings, input_tensors['attention_mask'], output_attentions=True)\n",
    "\n",
    "model_view(x['attentions'], input_tokens)  # Display model view"
   ]
  },
  {
   "cell_type": "markdown",
   "metadata": {
    "id": "qihft1FJO7a2"
   },
   "source": [
    "## 2.4. Wrapping Up\n",
    "\n",
    "At this point, we've shows the core intuitions of how these models reason about text:\n",
    "\n",
    "- Embed the semantics and positions of the tokens.\n",
    "- Reason about the token components, mostly in isolation and with small and tight interfaces to consider the other tokens in the sequence.\n",
    "\n",
    "These several modifications are intuitive to understand and work well in practice, and just about every model we interact with will rely on this intuition. \n",
    "\n",
    "**In the next section, we'll find out more about how they are used in practice, and will see some of the other things we can do with it!**\n"
   ]
  },
  {
   "cell_type": "code",
   "execution_count": null,
   "metadata": {},
   "outputs": [],
   "source": [
    "## Please Run When You're Done!\n",
    "import IPython\n",
    "app = IPython.Application.instance()\n",
    "app.kernel.do_shutdown(True)"
   ]
  },
  {
   "cell_type": "markdown",
   "metadata": {},
   "source": [
    "<center><a href=\"https://www.nvidia.com/en-us/training/\"><img src=\"https://dli-lms.s3.amazonaws.com/assets/general/DLI_Header_White.png\" width=\"400\" height=\"186\" /></a></center>"
   ]
  }
 ],
 "metadata": {
  "colab": {
   "authorship_tag": "ABX9TyNrHvUEGbmmFHp3hETBA4dk",
   "provenance": [
    {
     "file_id": "16SWgOvVC9HUbtGzlmYWABbO2WXQaWN_w",
     "timestamp": 1694313364012
    }
   ]
  },
  "kernelspec": {
   "display_name": "Python 3 (ipykernel)",
   "language": "python",
   "name": "python3"
  },
  "language_info": {
   "codemirror_mode": {
    "name": "ipython",
    "version": 3
   },
   "file_extension": ".py",
   "mimetype": "text/x-python",
   "name": "python",
   "nbconvert_exporter": "python",
   "pygments_lexer": "ipython3",
   "version": "3.8.10"
  }
 },
 "nbformat": 4,
 "nbformat_minor": 4
}
