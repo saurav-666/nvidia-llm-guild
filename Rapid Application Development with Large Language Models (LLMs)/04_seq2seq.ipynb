{
 "cells": [
  {
   "cell_type": "markdown",
   "metadata": {},
   "source": [
    "<center><a href=\"https://www.nvidia.com/en-us/training/\"><img src=\"https://dli-lms.s3.amazonaws.com/assets/general/DLI_Header_White.png\" width=\"400\" height=\"186\" /></a></center>"
   ]
  },
  {
   "cell_type": "markdown",
   "metadata": {
    "tags": []
   },
   "source": [
    "# <font color=\"#76b900\">**4:** Encoder-Decoders for Seq2Seq</font>\n",
    "\n",
    "In the previous notebook, we looking into some tasks that a \"BERT-like\" encoder-only model was relatively well-equipped for. We saw first-hand the power of language modeling, but also noticed that there were some key restrictions - namely the per-token/per-passage reasoning limitations - that kept the model from being viable in some tasks. The zero-shot classification pipeline got around that by querying the encoder multiple times over to generate a value for each class. In this notebook, we'll extend this formulation to an architectural component that can generate ordered sequences in a similar fashion, and use it for generating unbounded responses. \n",
    "\n",
    "#### **Learning Objectives:**\n",
    "\n",
    "- Learn about encoder-decoder models, which use an encoder to encode a static context (i.e. question, instruction, etc) and a decoder to predict words.\n",
    "- Cover strategies used to make giant, general-purpose models that work on a variety of tasks.\n",
    "\n",
    "-----"
   ]
  },
  {
   "cell_type": "markdown",
   "metadata": {
    "id": "8ii0e8yi-u_v"
   },
   "source": [
    "## 4.1. The Machine Translation Task\n",
    "\n",
    "[**Machine Translation**](https://huggingface.co/tasks/translation) is a common term to describe... translating one language into another automatically using software. Yeah, it's not as rigorous of a term as you might be used to, but it's flashy and worth throwing out there because it is an extremely important task in this day and age! \n",
    "\n",
    "> <div><img src=\"imgs/task-translation.png\" width=\"800\"/></div>\n",
    ">\n",
    "> **Source: [Translation Task | HuggingFace](https://huggingface.co/tasks/translation)**\n",
    "\n",
    "Among the landscape of problems we can tackle with large language models, it's an instance of the **sequence-to-sequence**, or **seq2seq**, formulation.\n",
    "\n",
    "Previously, we learned that a BERT-like encoder architecture can be used to solve a simplified case of the problem when one of the following conditions is met:\n",
    "- The input and output sequence have the same number of entries, solvable via token prediction for each input token.\n",
    "- The output sequence is a subset of the input sequence, solvable via range prediction.\n",
    "\n",
    "You can also try to get creative with your formulations and can remove some of the hard limitations of this architecture, but those are still generally considered encoder-derivatives.\n",
    "\n",
    "We've been throwing the term around a lot, **encoder**, but you might not have noticed why it's called that. Considering the logic of the autoencoder, you might have intuited *(reasonably but not quite correctly)* that the encoder body is only defined to be the task-generic series of transformer blocks and that the output is necessarily a latent encoding with no human-interpretable meaning. By this formalization, the classification head is the \"decoder\" that generates human-reasonable outputs.\n",
    "\n",
    "This actually does make sense, but isn't really how the language modeling community likes to talk about it.\n",
    "- **Autoencoder Logic:** *Input Sample $\\to$ Latent Sequence $\\to$ Sample Insight/Reconstruction*\n",
    "- ***Language Model Logic:*** *Input Passage $\\to$ Latent Sequence $\\to$ Response Sequence*\n",
    "\n",
    "By that logic, we can see more-or-less that there is no natural ***response*** being generated in our BERT-like architecture; only insight about our data. Sure, the insight might be in the form of a probability distribution over the the input that forms a response, but ***we're not generating novel tokens***. \n",
    "\n",
    "**That's where the decoder comes in!**"
   ]
  },
  {
   "cell_type": "markdown",
   "metadata": {
    "id": "jiQ0tkJQDbG3"
   },
   "source": [
    "## 4.2. Pulling In The T5 Model\n",
    "\n",
    "We've mentioned what sorts of tasks we can't do with encoder-only models - namely seq2seq tasks like machine translation - so we can start our journey by just pulling one such model in and seeing how it works! Of course, we can find a model in the HuggingFace model repository, but how about we go to the [task page for machine translation](https://huggingface.co/tasks/translation) instead. Reading through, you'll notice some recommendations and high-level overviews, but can also see that there is pipeline support for it! In fact, you don't even need to specify the back-end model if you don't want to: `transformers` will make a selection for you (though we'll do it anyways):"
   ]
  },
  {
   "cell_type": "code",
   "execution_count": null,
   "metadata": {
    "colab": {
     "base_uri": "https://localhost:8080/",
     "height": 344,
     "referenced_widgets": [
      "a5b3b7a8120a44bdbe6144eb6d1ef3a3",
      "cd0109e8926d4e8f8f7264af1e174c1c",
      "412ae74c61eb49bea9c3658858b50ea9",
      "688beaaf66a34116825763ba491faf22",
      "48f31a3511be4aeab3a3568503898ff2",
      "b2c008e054eb4c3abadf3e7751e195c2",
      "7b80c76e65e241bc9335afb6cb6f76e9",
      "2a85d82c33e04d8b8ab62996afd45a78",
      "ccfb9137b09a4087b169e461c5dc8e0c",
      "8605b133811c409d9046bc666b142ce8",
      "3a26403e3b0d4b19ba96291f985fb41c",
      "9cb6bc84ce3548c88fdfee89ebd16027",
      "1043eede14a046aa9c08fc5310a309ee",
      "c4c9b0a00763411f84251d2bd5ea4be7",
      "41269f96f6e147c9a62b30e050230ae9",
      "acbc3116f8e64e379e8325e1eb23408c",
      "87211ecf012f465ca61576405716f4ae",
      "0f033d878a154a3e9595e2b98748c6a4",
      "c0e882c8aa444dac8965fed6b124366b",
      "e63ab680776747a9a37b1ae573da522d",
      "df520fb7f428449dbcc76a7950656ebe",
      "9f4130da5490446a9db325bf624360ec",
      "ad71c7b089574e9f97b341131cdd7735",
      "c492bf8ffe9e4823878f836fe63c081e",
      "f108e13198ce4b979503bfde278a6040",
      "88e90d2702c94304955179e36e189d6a",
      "6ab7f00200014e96a5793d996d918dc5",
      "337a2cb3aaff41ee87246e4f1ba23826",
      "0dc8b4f1b3f846a2870bacf7e475c875",
      "90e353a41cf342bab3f56d754fa6917d",
      "f526829ec1d345c38cc55c47b0a687d5",
      "9f15ecb854e84457b4581199f4286b31",
      "c44bae85439242da81b09de25e3dd6a9",
      "5ca5fe70f60542bab3fcb8cd63a32596",
      "e822f482c82e45888cdea1043f0b946f",
      "cac4e777e034464abbc7601f6c3e05bc",
      "e933e87300a3461c86338eb6e7e4b152",
      "dac3d16efe2a464db37e98f5d091193c",
      "fdd4ca3271354bfe86245737ca650e22",
      "1e779860fad44264b25b1d0ccfcdb5c3",
      "d08ac1efa02443ac84151ce2ba3d54c0",
      "93a6593a6f5d48fa82492cc964574063",
      "d88d2802236846359d6d3f9b1fa68fa9",
      "b05fb3775acf47d894871a3f95fe2fd6",
      "9e9b6b8c170041bda5231cade5e11d48",
      "4b699788e93e4b5281f550ee78ed0ddd",
      "de23c16f531c4d17bf5d8a1b82880183",
      "fe545047949445b291f79d0c8a0cab4b",
      "625fbcb95f1241f2a528025115cccb23",
      "a67f39d8379d4024957c8cd5dacbe5cb",
      "b6f917a0813343aea573d1488ebc7b14",
      "ece679963bed4fffa680647163d1f37d",
      "0afbfc6656cc4805a588fcc77b29ac45",
      "0c7af8fb4cb04ffd8b67be6bff90f53a",
      "07c61f5fa45842e19156067d4055c0bb"
     ]
    },
    "executionInfo": {
     "elapsed": 37923,
     "status": "ok",
     "timestamp": 1694463155452,
     "user": {
      "displayName": "Vadim Kudlay",
      "userId": "00553664172613290122"
     },
     "user_tz": 300
    },
    "id": "NzM4kxtk-uMO",
    "outputId": "9c283cab-592e-4a46-8a3f-08841bb4379e",
    "tags": []
   },
   "outputs": [],
   "source": [
    "from transformers import pipeline\n",
    "\n",
    "translator = pipeline('translation_en_to_fr', model='t5-base')\n",
    "translator(\"Hello World! How's it going?\")"
   ]
  },
  {
   "cell_type": "markdown",
   "metadata": {
    "id": "SQPlY5-_Xi1P"
   },
   "source": [
    "I would say \"Wow! It works! Can you believe it?\" but actually this is probably expected at this point. You've already come to expect that a large language model can get you good results on a lot of things, and you've probably seen google translate function before, so maybe this isn't that surprising. But it is pleasant to see that it can be done in a relatively-small number of parameters:\n",
    "```python\n",
    "(\n",
    "    translator.model.name_or_path,     ## 't5-base'\n",
    "    translator.model.num_parameters()  ## 222,903,552\n",
    ")\n",
    "```\n",
    "\n",
    "Let's go ahead and investigate this pipeline in a bit more detail:"
   ]
  },
  {
   "cell_type": "code",
   "execution_count": null,
   "metadata": {
    "colab": {
     "base_uri": "https://localhost:8080/"
    },
    "executionInfo": {
     "elapsed": 1468,
     "status": "ok",
     "timestamp": 1694463156899,
     "user": {
      "displayName": "Vadim Kudlay",
      "userId": "00553664172613290122"
     },
     "user_tz": 300
    },
    "id": "eKS8JpQQVAOi",
    "outputId": "be756a07-d894-4e4f-d8fe-a5c3f7db774c",
    "tags": []
   },
   "outputs": [],
   "source": [
    "text_en = \"Hello World! How's it going?\"\n",
    "resp_fr = translator(\"Hello World! How's it going?\")\n",
    "text_fr = resp_fr[0]['translation_text']\n",
    "\n",
    "tok = translator.tokenizer\n",
    "tokens_ins = [tok.decode(x) for x in tok.encode(text_en)]\n",
    "tokens_out = [tok.decode(x) for x in tok.encode(text_fr)]\n",
    "print(f\"Inputs of length {len(tokens_ins)}: {' | '.join(tokens_ins)}\")\n",
    "print(f\"Output of length {len(tokens_out)}: {' | '.join(tokens_out)}\")"
   ]
  },
  {
   "cell_type": "markdown",
   "metadata": {
    "id": "O6uLZHBkZBM5"
   },
   "source": [
    "You might notice that there are a few interesting results:\n",
    "- Superficially, you might notice that there is this new `</s>` token. This designates something about stretches of data and their utility for the problem, and are enforced during training.\n",
    "- More pressingly, **the number of tokens doesn't match!** There are 10 tokens in the input, but 13 numbers in the output, so how does that work?\n",
    "\n",
    "Perhaps the pipeline is feeding in something in addition to the actual input you specify. The `preprocess` method feeds directly into the `model.forward` method, so let's see what's going on there:"
   ]
  },
  {
   "cell_type": "code",
   "execution_count": null,
   "metadata": {
    "colab": {
     "base_uri": "https://localhost:8080/",
     "height": 50
    },
    "executionInfo": {
     "elapsed": 397,
     "status": "ok",
     "timestamp": 1694463157279,
     "user": {
      "displayName": "Vadim Kudlay",
      "userId": "00553664172613290122"
     },
     "user_tz": 300
    },
    "id": "62uVwnUmWu-I",
    "outputId": "d9133fb8-6c13-4848-c773-0871a3cfebee",
    "tags": []
   },
   "outputs": [],
   "source": [
    "prep = translator.preprocess\n",
    "tokens_in2 = [tok.decode(x) for x in prep(text_en)['input_ids'][0]]\n",
    "print(f\"Model Inputs of length {len(tokens_in2)}: {' | '.join(tokens_in2)}\")\n",
    "tok.decode(prep(text_en)['input_ids'][0])"
   ]
  },
  {
   "cell_type": "markdown",
   "metadata": {
    "id": "l8XwBQoCgAtn"
   },
   "source": [
    "Ok! So the model actually inputs even more tokens, and the first set is actually an instruction. So, what's going on here? To figure it out, let's dive a little into the architecture of the model and reason about what we see."
   ]
  },
  {
   "cell_type": "markdown",
   "metadata": {
    "id": "rRxNhTOugePb"
   },
   "source": [
    "## 4.3. Interpretting The T5 Architecture\n",
    "\n",
    "Let's go ahead and look into the model and see if we can't make sense of what's going on! What you should probably do is something like the following:\n",
    "```python\n",
    "translator.model           ## See that there's a lot of stuff going on here\n",
    "translator.model.encoder   ## See that this looks a lot like the BERT model\n",
    "translator.model.decoder   ## See that this looks roughly the same and wonder what changed\n",
    "```\n",
    "\n",
    "However, this will load up your screen with a lot of text and will be a bit hard to walk through. With that said, let's try to visualize it in a more condensed diagram format. Below is all of the important stuff you need to see, with some arrows hinting at how they actually connect.\n",
    "\n",
    "> **Note:** In the actual model architecture printout, the 0th transformer layer in both is shown separately from the 1st-11th; this is just due to T5's incorporation of [relative position encoding](https://paperswithcode.com/method/relative-position-encodings), which shows up as a component associated with the 0th layer despite being present throughout the architecture. Feel free to ignore that difference."
   ]
  },
  {
   "cell_type": "markdown",
   "metadata": {
    "id": "XBM955c8hW97"
   },
   "source": [
    "<div><img src=\"imgs/t5-architecture.png\" \n",
    "     alt=\"Encoder-Decoder Architecture\"\n",
    "     width=\"1200\"/></div>"
   ]
  },
  {
   "cell_type": "markdown",
   "metadata": {
    "id": "nv6i5V5vgSKY"
   },
   "source": [
    "**The main difference in terms of intuition comes in two flavors:**\n",
    "- The decoder is primarily just an encoder that is trained for one specific task: **given an input sequence, generate the next token in the sequence**. In the encoder-decoder architecture, models usually start by feeding in a start token (i.e. `<s>`) and then generating one token at a time until an end-of-string token (i.e. `</s>`) is generated. (And no, it's not *actually* just an encoder, but the details aren't important for this course)\n",
    "- The encoder-decoder architecture enforces an interface by injecting some of its intermediate values into the decoder attention mechanisms. This is called cross-attention, and follows the exact same logic as self-attention: **provide a light-weight interface to provide context to the model**.\n",
    "\n",
    "> **How does the math work:** Consider the case when you have queries/values $K_{1..m}$/$V_{1..m}$ coming from the encoder and keys $Q_{1..n}$ coming from the decoder.\n",
    "\n",
    "> - If $K_i$ and $Q_i$ have the same embedding dimension, then $Q_iK_i^T$ is an $n\\times m$ matrix, as are that matrix's softmax values. In other words:\n",
    " $$\\text{Attention}(K_{1..m}, Q_{1..n}) \\text{ is } n\\times m.$$\n",
    "\n",
    "> - Since $V_{1..m}$, it is multiplicatively compatible with an $n\\times m$ attention matrix:\n",
    " $$\\text{Attention}(K_{1..m}, Q_{1..n}) \\times V_{1..m} \\text{ is } n\\times d \\text{ where } d \\text{ is the dimensionality of } V_i.$$\n",
    "\n",
    "> - So... we just used an attention interface to incorporate an $m$-element sequence as context for an $n$-element sequence! Just do that many times over, and you have strong context-driven generation.\n",
    "\n",
    "The end result is an architecture that has two key functionalities:\n",
    "- Generate token after token autoregressively from the decoder architecture, where each new generated token is included in the input for predicting the one after it.\n",
    "- Frequently inject context from the encoder to the decoder, making sure the generation stays in line with the overall objective."
   ]
  },
  {
   "cell_type": "markdown",
   "metadata": {
    "id": "qpwsBjgUmDh0"
   },
   "source": [
    "### Seeing Token Generation In Action\n",
    "\n",
    "Alright, so we know roughly the model works, so let's explore what all we can do with it and see how it actually works. Previously, we started with the classic English-to-French task which has some well-known nice datasets and has been a staple for the NLP community for a long time. As we saw with our deeper dive, the pipeline actually just adds a conditioning prompt to the encoder input to tell the model what to do, but we can get just a bit more general and invoke the `text2text-generation` task pipeline. This one will give us full control over the context, so we can play around with some other potential tasks."
   ]
  },
  {
   "cell_type": "code",
   "execution_count": null,
   "metadata": {
    "colab": {
     "base_uri": "https://localhost:8080/"
    },
    "executionInfo": {
     "elapsed": 17720,
     "status": "ok",
     "timestamp": 1694555435730,
     "user": {
      "displayName": "Vadim Kudlay",
      "userId": "00553664172613290122"
     },
     "user_tz": 300
    },
    "id": "qrDIvcsjM8nU",
    "outputId": "bb5b2d4d-92d2-4144-e734-db6dedf33995",
    "tags": []
   },
   "outputs": [],
   "source": [
    "from transformers import pipeline\n",
    "\n",
    "t5_pipe = pipeline(\"text2text-generation\", model=\"t5-base\")\n",
    "t5_pipe(\"translate English to German: Hello world, and welcome to my notebook!\")"
   ]
  },
  {
   "cell_type": "markdown",
   "metadata": {
    "id": "Wt2nit3SSj-k"
   },
   "source": [
    "To start with, let's verify that what we said about the decoder was true. Are we sure that this model is actually generating the response token-by-token? We can investigate by reading through the source code, or we can insert a little callback that will report what's coming into the encoder and decoder forward methods and the order in which they get called..."
   ]
  },
  {
   "cell_type": "code",
   "execution_count": null,
   "metadata": {
    "colab": {
     "base_uri": "https://localhost:8080/"
    },
    "executionInfo": {
     "elapsed": 3001,
     "status": "ok",
     "timestamp": 1694559961494,
     "user": {
      "displayName": "Vadim Kudlay",
      "userId": "00553664172613290122"
     },
     "user_tz": 300
    },
    "id": "t7xNK2PVS4iZ",
    "outputId": "5db28aaa-71d8-4745-b6a3-a510407e35f5",
    "tags": []
   },
   "outputs": [],
   "source": [
    "from extras_and_licenses.forward_listener import ForwardListener\n",
    "\n",
    "t5_pipe.model.encoder.forward = ForwardListener(t5_pipe.model.encoder, name='encoder', tokenizer=t5_pipe.tokenizer)\n",
    "t5_pipe.model.decoder.forward = ForwardListener(t5_pipe.model.decoder, name='decoder', tokenizer=t5_pipe.tokenizer)\n",
    "t5_pipe(\"translate English to German: Hello world!!\")"
   ]
  },
  {
   "cell_type": "code",
   "execution_count": null,
   "metadata": {
    "executionInfo": {
     "elapsed": 215,
     "status": "ok",
     "timestamp": 1694558736433,
     "user": {
      "displayName": "Vadim Kudlay",
      "userId": "00553664172613290122"
     },
     "user_tz": 300
    },
    "id": "Nl-2Yb5IDGq2",
    "tags": []
   },
   "outputs": [],
   "source": [
    "ForwardListener.clear_all()"
   ]
  },
  {
   "cell_type": "markdown",
   "metadata": {
    "id": "jutSkNO3sa1i"
   },
   "source": [
    "**Some key observations to make:**\n",
    "- The encoder is called once on the input to create a representation that can be used by the decoder. In most models, the encoder state is just computed once to provide a good context, and then is left as a static context to ground the decoder.\n",
    "    - This actually helps with stability during training by avoiding the \"moving target\" problem.\n",
    "- The decoder is asked to generate one token at a time, where the first token is generated from a starting token (in this case, `<pad>`). This first generation is conditioned entirely on the encoder output, whereas subsequent tokens are conditioned on both the original encoding and the generation history. As we saw earlier, the generation stops when the end-of-string token (i.e. `</s>`) is computed.\n",
    "    - You might also notice that the decoder only recieves one word at a time. Efficient implementations store the results computed at previous generations, since the key-value calculations from the previous generations can just be stored and incorporated in with the new results from each new token. You can see this in `past_key_values`, which stores the attention components from previous generations and gets progressively bigger as the generation progresses."
   ]
  },
  {
   "cell_type": "markdown",
   "metadata": {
    "id": "1rqAQVZDu1hN"
   },
   "source": [
    "## 4.4. Experimenting With T5\n",
    "\n",
    "Now that we've seen how the model is defined and what it does, let's play around a bit with the model and see what else we can do with it!\n",
    "\n",
    "Recall thet the T5 model is trained on a variety of tasks, visualized in part here:\n",
    "\n",
    "> <div><img src=\"imgs/t5-pic.jpg\" width=\"800\"/></div>\n",
    ">\n",
    "> **Source: [Exploring the Limits of Transfer Learning with a Unified Text-to-Text Transformer](https://arxiv.org/abs/1910.10683v4)**\n",
    "\n",
    "This is, of course, just a subset of the tasks we can consider, and details about the approach can be found in the paper [Exploring the Limits of Transfer Learning with a Unified Text-to-Text Transformer](https://arxiv.org/abs/1910.10683v3). But it's a starting point, so let's try it out!\n",
    "\n",
    "To not waste too much time, we should probably note that `t5-base` will probably not perform as well as you'd like for the examples. The `t5-large` model has more parameters and thereby requires more data to train, but the model is still nicely within our compute budget without any modifications, so we can go ahead and load it in instead:"
   ]
  },
  {
   "cell_type": "code",
   "execution_count": null,
   "metadata": {
    "colab": {
     "base_uri": "https://localhost:8080/"
    },
    "executionInfo": {
     "elapsed": 29529,
     "status": "ok",
     "timestamp": 1694465899454,
     "user": {
      "displayName": "Vadim Kudlay",
      "userId": "00553664172613290122"
     },
     "user_tz": 300
    },
    "id": "0eDxPDtKDTaT",
    "outputId": "7eab51c3-eeb8-4247-8b32-6cf8dc73b941",
    "tags": []
   },
   "outputs": [],
   "source": [
    "from transformers import pipeline\n",
    "\n",
    "## T5-Large performs better and has reasonably-fast inference, so we can safely default to it\n",
    "t5_pipe_base = t5_pipe\n",
    "t5_pipe_large = pipeline(\"text2text-generation\", model=\"t5-large\")\n",
    "\n",
    "print(f\"\"\"\n",
    "t5-base:\n",
    " - model size: {t5_pipe_base.model.num_parameters():,} parameters\n",
    " - memory footprint: {t5_pipe_base.model.get_memory_footprint()/1e9 :.03f} GB\n",
    "\n",
    "t5-large:\n",
    " - model size: {t5_pipe_large.model.num_parameters():,} parameters\n",
    " - memory footprint: {t5_pipe_large.model.get_memory_footprint()/1e9 :.03f} GB\n",
    "\"\"\")"
   ]
  },
  {
   "cell_type": "code",
   "execution_count": null,
   "metadata": {
    "colab": {
     "base_uri": "https://localhost:8080/"
    },
    "executionInfo": {
     "elapsed": 10458,
     "status": "ok",
     "timestamp": 1694463381731,
     "user": {
      "displayName": "Vadim Kudlay",
      "userId": "00553664172613290122"
     },
     "user_tz": 300
    },
    "id": "ftgXGL34E48A",
    "outputId": "5478f59f-79d1-45a4-aa8c-3ffc48ee9f06",
    "tags": []
   },
   "outputs": [],
   "source": [
    "queries = [\n",
    "    \"translate English to Spanish: This is good!\",\n",
    "    \"cola sentence: The course is jumping well!\",\n",
    "    \"stsb sentence1: The rhino grazed on the grass. sentence2: A rhino is grazing in a field.\",\n",
    "    ## Summarize entry pulled from https://huggingface.co/docs/transformers/tasks/summarization\n",
    "    \"summarize: The Inflation Reduction Act lowers prescription drug costs, health care costs, and energy costs. It's the most aggressive action on tackling the climate crisis in American history, which will lift up American workers and create good-paying, union jobs across the country. It'll lower the deficit and ask the ultra-wealthy and corporations to pay their fair share. And no one making under $400,000 per year will pay a penny more in taxes.\",\n",
    "    ## TODO: Take a skim through the original T5 paper and pull in some other queries you think might be interesting.\n",
    "    ## Maybe the SQUaD question-answeing, or whatever else catches your eye. Examples of the format are around pages 50-60.\n",
    "]\n",
    "\n",
    "t5_pipe_large(queries)"
   ]
  },
  {
   "cell_type": "markdown",
   "metadata": {
    "id": "m8StGENgExeB"
   },
   "source": [
    "As you can see, it actually works pretty well on its own, so maybe it's able to address arbitrary tasks if prompted? Let's try it out!"
   ]
  },
  {
   "cell_type": "code",
   "execution_count": null,
   "metadata": {
    "colab": {
     "base_uri": "https://localhost:8080/"
    },
    "executionInfo": {
     "elapsed": 11171,
     "status": "ok",
     "timestamp": 1694463392894,
     "user": {
      "displayName": "Vadim Kudlay",
      "userId": "00553664172613290122"
     },
     "user_tz": 300
    },
    "id": "Mkik969tD2Yo",
    "outputId": "a412ee0b-dd49-4ed3-dda2-bb6cdd4037c4",
    "tags": []
   },
   "outputs": [],
   "source": [
    "queries = [\n",
    "    \"translate English to Spanish: This is good!\",\n",
    "    \"continue the sentence: I love walking\",\n",
    "    \"continue the conversation as a helpful agent: User: Hello! Agent: \",\n",
    "]\n",
    "t5_pipe_large(queries)"
   ]
  },
  {
   "cell_type": "markdown",
   "metadata": {
    "id": "rojBD_vrIlAj"
   },
   "source": [
    "Interesting. So maybe it's not really strong enough to actually do sufficient reasoning to actually understand the instruction prompts, but rather it's memorizing the prompts and maybe learning some key insights based off some superficial similarities in word selection?\n",
    "\n",
    "Maybe our problem is the size of the model. We skipped over using the `t5-base` model because it actually didn't give us especially-good results on the baseline tasks, so maybe we can just upgrade out `t5-large` model to the next size up?\n",
    "\n",
    "Unfortunately though, both the [`t5-xl` (or at least the `google/t5-v1_1-xl` version of it)](https://huggingface.co/google/t5-v1_1-xl) and the [`t5-xxl`](https://huggingface.co/google/flan-t5-xxl) models are out of reach for modest compute budgets (which we'll try to overcome in a few notebooks). But also, these larger models actually won't solve this problem, merely because the number of tasks is still too shallow with the standard T5 training. In this case, what we need isn't necessarily a larger model, but a more general training routine."
   ]
  },
  {
   "cell_type": "markdown",
   "metadata": {
    "id": "yskwADjkx80p"
   },
   "source": [
    "## 4.5. Prompt Engineering With Flan-T5\n",
    "We talked in lecture about the Flan-T5 model, specifically in reference to its more ambitious training objectives. Specifically, there is enough training reinforcement for the model to learn how to reason about the input sequence as a vivid natural language problem, and is able to perform all the better for it.\n",
    "\n",
    "> <div><img src=\"imgs/t5-flan2-spec.jpg\" width=\"1000\"/></div>\n",
    ">\n",
    "> **Source: [Scaling Instruction-Finetuned Language Models](https://arxiv.org/abs/2210.11416v5)**\n",
    "\n",
    "Let's go ahead and pull the model in and see what we can do with it!"
   ]
  },
  {
   "cell_type": "code",
   "execution_count": null,
   "metadata": {
    "id": "GlKWc88LysEy",
    "tags": []
   },
   "outputs": [],
   "source": [
    "from transformers import pipeline\n",
    "\n",
    "## T5-Large performs better and has reasonably-fast inference, so we can safely default to it\n",
    "flan_t5_pipe = pipeline(\"text2text-generation\", model=\"google/flan-t5-large\")"
   ]
  },
  {
   "cell_type": "code",
   "execution_count": null,
   "metadata": {
    "colab": {
     "base_uri": "https://localhost:8080/"
    },
    "executionInfo": {
     "elapsed": 7091,
     "status": "ok",
     "timestamp": 1694465970159,
     "user": {
      "displayName": "Vadim Kudlay",
      "userId": "00553664172613290122"
     },
     "user_tz": 300
    },
    "id": "T3p7aNrrAEkE",
    "outputId": "be0406f6-ea05-439a-ecda-5791e04358b1",
    "tags": []
   },
   "outputs": [],
   "source": [
    "queries = [\n",
    "    \"translate English to Spanish: This is good!\",\n",
    "    \"continue the sentence: I love walking\",\n",
    "    \"continue the conversation as a helpful agent: User: Hello! Agent: \",\n",
    "]\n",
    "\n",
    "flan_t5_pipe(queries)"
   ]
  },
  {
   "cell_type": "markdown",
   "metadata": {
    "id": "dH48v0hkDLTG"
   },
   "source": [
    "As you can see, it's able to actually follow more instructions and reason about what the instructions actually mean, which is awesome! In fact, those stretch goals we had before for our `T5` model are actually quite rudamentary in comparison to what this model can actually do! This emergent behavior; being able to reason about the context itself and adapt to new tasks based on natural language alone, is known as **in-context learning**, and is the main enabler of the [**prompt engineering**](https://en.wikipedia.org/wiki/Prompt_engineering) paradigm. \n",
    "\n",
    "You've probably heard a lot about **prompt engineering**, but at its core it's just about figuring out which kinds of inputs are good to get the best behavior of an already-trained model. The general rules of thumb to go by when doing it are as follows: \n",
    "- **Format Abiding:** Consider how the model was actually trained and what kinds of formats did the inputs usually take on. The closer the task is to something it had to do, the better it will perform. \n",
    "- **Few-Shot Prompting:** Models tend to favor repetition of patterns due to the nature of their training data, so maybe giving some examples is a good idea. This is known as one-shot or few-shot prompting, when you give one or several examples of good behavior at inference time and hope that the model will follow the pattern. \n",
    "- **Iterative Trial-And-Error:** If your model understands your instructions and is good about following it (i.e. with instruction fine-tuning), you can keep updating your prompt to correct the undesirable properties of your model's behavior. This process can look quite different on a per-model basis; some models are very good at following instructions, some are less good, and some will not be able to deviate from their training sufficiently for specific use cases.\n",
    "- **Priming:** In addition to giving \"instructions\", you can add an initial generation into your decoder to get it to continue from there. This is a great way of getting around default behavior (for better or for worse) but may not always be supported by default for encoder-decoder architectures. \n",
    "\n",
    "With all that said, go ahead and see what you can do with this model, and try to get comfortable with its capabilities with the following tasks:"
   ]
  },
  {
   "cell_type": "markdown",
   "metadata": {
    "id": "TqWM-O1IDtn8"
   },
   "source": [
    "### **Task 1: Performing As Expected**\n",
    "\n",
    "Ask the network some stuff to see what it can do. You can use colons to separate task and body, or you can just talk to it directly. Below are some food-for-thought examples, but try your own!"
   ]
  },
  {
   "cell_type": "code",
   "execution_count": null,
   "metadata": {
    "colab": {
     "base_uri": "https://localhost:8080/"
    },
    "executionInfo": {
     "elapsed": 2106,
     "status": "ok",
     "timestamp": 1694468796711,
     "user": {
      "displayName": "Vadim Kudlay",
      "userId": "00553664172613290122"
     },
     "user_tz": 300
    },
    "id": "IOT-N0BaDzop",
    "outputId": "a9063e6a-87da-4a31-d342-22d5b238af76"
   },
   "outputs": [],
   "source": [
    "# flan_t5_pipe(\"Can you tell me about how sandwiches are made?\")\n",
    "# flan_t5_pipe(\"Is this a true sentence: You can make fire by rubbing two sticks together very quickly\")\n",
    "# flan_t5_pipe(\"How do you say 'when in Rome...' in french?\")\n",
    "# flan_t5_pipe(\"Identify the noun with negative sentiment: I love pizza with pineapple, but adding pickles to it is just too much\")\n",
    "# flan_t5_pipe(\"Translate english to pig latin: Hello world and all who live in it!\") ## will fail"
   ]
  },
  {
   "cell_type": "markdown",
   "metadata": {
    "id": "nvQ2lsaCI6Sc"
   },
   "source": [
    "Now, try the same instructions, but ask the model directly. See if it fails any of the tasks, or if it's pretty resilient. When it fails, see if you can't get it to work.\n",
    "\n",
    "**Hint:**\n",
    "- If you need to, consider giving the model examples of the task being executed properly. This is called few-shot prompting, as you're telling it how it should behave.\n",
    "- For the pig latin task, this shouldn't be possible unless you get really lucky. This task requires letter-level reasoning in a semantically-unnatural way, so your attempts at prompt engineering will probably fail."
   ]
  },
  {
   "cell_type": "code",
   "execution_count": null,
   "metadata": {
    "colab": {
     "base_uri": "https://localhost:8080/"
    },
    "executionInfo": {
     "elapsed": 8362,
     "status": "ok",
     "timestamp": 1694468811050,
     "user": {
      "displayName": "Vadim Kudlay",
      "userId": "00553664172613290122"
     },
     "user_tz": 300
    },
    "id": "xAqloalAKUSj",
    "outputId": "062368db-3180-4c23-e40d-15880ae4dca7"
   },
   "outputs": [],
   "source": [
    "## Example of few-shot prompting. Will still fail though, due to the above reason\n",
    "'''\n",
    "flan_t5_pipe(\"\"\"\n",
    "Translate english to pig latin.\n",
    "English: Look in the bag!\n",
    "Pig Latin: Ooklay in the agbay!\n",
    "English: Hello world and all who live in it!\n",
    "Pig Latin: \"\"\")\n",
    "'''\n",
    "\n",
    "# flan_t5_pipe(\"Answer the question like a dictionary: Can you tell me about how sandwiches are made?\")\n",
    "# flan_t5_pipe(\"Is the sentence 'You can make fire by rubbing two sticks together very quickly' true? Please explain\")"
   ]
  },
  {
   "cell_type": "markdown",
   "metadata": {
    "id": "wzEPl9jRLbHI"
   },
   "source": [
    "Note that for pig latin, you probably won't be able to get it to work. Might have something to do with tokenization strategy: Though it should be able to represent pig latin, it may be a bit of a stretch with regards to typical semantics for in-context learning without special fine-tuning. "
   ]
  },
  {
   "cell_type": "markdown",
   "metadata": {
    "id": "lhgYHXyiHAXG"
   },
   "source": [
    "### **Task 2: Asking For Hallucinations**\n",
    "\n",
    "Ask for information that the model doesn't know. Do you notice any hallucinations? How do you think you can resolve them?"
   ]
  },
  {
   "cell_type": "code",
   "execution_count": null,
   "metadata": {
    "colab": {
     "base_uri": "https://localhost:8080/"
    },
    "executionInfo": {
     "elapsed": 3468,
     "status": "ok",
     "timestamp": 1694468864987,
     "user": {
      "displayName": "Vadim Kudlay",
      "userId": "00553664172613290122"
     },
     "user_tz": 300
    },
    "id": "_ogsfMYWHDjA",
    "outputId": "c01fd48d-2407-4887-dcf3-9f9d57874293"
   },
   "outputs": [],
   "source": [
    "# flan_t5_pipe(\"What is my name?\")\n",
    "# flan_t5_pipe(\"Who are you?\")\n",
    "# flan_t5_pipe(\"How do you know my name?\")\n",
    "# flan_t5_pipe(\"Where do you work?\")\n",
    "# flan_t5_pipe(\"Answer the question honestly: Who are you?\")"
   ]
  },
  {
   "cell_type": "markdown",
   "metadata": {
    "id": "rXB3_d3mIJ8d"
   },
   "source": [
    "### **Task 3: Beginnings of Chat**\n",
    "\n",
    "Tell the model to chat with a customer and see what it's capable of. As a challenge, see if you can't break the model. Alternatively, try to type some more stuff into the model and see what it can spit out!"
   ]
  },
  {
   "cell_type": "code",
   "execution_count": null,
   "metadata": {
    "colab": {
     "base_uri": "https://localhost:8080/"
    },
    "executionInfo": {
     "elapsed": 3936,
     "status": "ok",
     "timestamp": 1694468893839,
     "user": {
      "displayName": "Vadim Kudlay",
      "userId": "00553664172613290122"
     },
     "user_tz": 300
    },
    "id": "1g65ANWKIZxN",
    "outputId": "074245e4-20a0-4473-b537-314b02451faf"
   },
   "outputs": [],
   "source": [
    "## Challenge: Try to break the model by introducing an inconsistency.\n",
    "## - Possible option: Make the role \"Human\" instead of \"Customer\"\n",
    "## - Possible option: See if you can get the model to behave awkwardly by only changing the user input\n",
    "\n",
    "''' # Example\n",
    "flan_t5_pipe(\"\"\"\n",
    "You are a friendly chat agent who is helping a customer.\n",
    "You are supposed to be nice and helpful, and tried to answer in detail.\n",
    "If you do not know something, say \"I don't know\". Do not lie!\n",
    "Customer: Hello! How's it going? Who are you?\n",
    "Agent: \"\"\")\n",
    "'''\n",
    "\n",
    "## Example of breaking the model\n",
    "flan_t5_pipe(\"\"\"\n",
    "You are a friendly chat agent who is helping a customer.\n",
    "You are supposed to be nice and helpful, and tried to answer in detail.\n",
    "If you do not know something, say \"I don't know\". Do not lie!\n",
    "Human: Hello! How's it going? Who are you?\n",
    "Agent: \"\"\")"
   ]
  },
  {
   "cell_type": "markdown",
   "metadata": {
    "id": "P-EfMhrrqI6i"
   },
   "source": [
    "## 4.6. **Wrap-Up:** Review of Techniques\n",
    "\n",
    "At this point, we've seen how language models are able to generate completely new text by taking a language encoding as context. This opens up a lot of new possibilities and leaves open a lot of open questions, but at least we're now at the cutting edge and have the capacity to do some pretty powerful stuff with limited compute budget! In the next section, we're going to see a use case for which encoder-decoders really shine; **multi-modal generation**. After that, we'll go into the kinds of tasks that might be better-suited for only the decoder; **text-generation**."
   ]
  },
  {
   "cell_type": "code",
   "execution_count": null,
   "metadata": {},
   "outputs": [],
   "source": [
    "## Please Run When You're Done!\n",
    "import IPython\n",
    "app = IPython.Application.instance()\n",
    "app.kernel.do_shutdown(True)"
   ]
  },
  {
   "cell_type": "markdown",
   "metadata": {},
   "source": [
    "<center><a href=\"https://www.nvidia.com/en-us/training/\"><img src=\"https://dli-lms.s3.amazonaws.com/assets/general/DLI_Header_White.png\" width=\"400\" height=\"186\" /></a></center>"
   ]
  }
 ],
 "metadata": {
  "colab": {
   "provenance": [
    {
     "file_id": "1Mc3Vnp9Uhn3-J_yK8QsQRtnQEf6xgTmT",
     "timestamp": 1694359379674
    },
    {
     "file_id": "1u9gcXs58VPBKEE0ItHeRLP0uP-wmTO8I",
     "timestamp": 1694318698209
    },
    {
     "file_id": "16SWgOvVC9HUbtGzlmYWABbO2WXQaWN_w",
     "timestamp": 1694313364012
    }
   ]
  },
  "kernelspec": {
   "display_name": "Python 3 (ipykernel)",
   "language": "python",
   "name": "python3"
  },
  "language_info": {
   "codemirror_mode": {
    "name": "ipython",
    "version": 3
   },
   "file_extension": ".py",
   "mimetype": "text/x-python",
   "name": "python",
   "nbconvert_exporter": "python",
   "pygments_lexer": "ipython3",
   "version": "3.8.10"
  },
  "widgets": {
   "application/vnd.jupyter.widget-state+json": {
    "07c61f5fa45842e19156067d4055c0bb": {
     "model_module": "@jupyter-widgets/controls",
     "model_module_version": "1.5.0",
     "model_name": "DescriptionStyleModel",
     "state": {
      "_model_module": "@jupyter-widgets/controls",
      "_model_module_version": "1.5.0",
      "_model_name": "DescriptionStyleModel",
      "_view_count": null,
      "_view_module": "@jupyter-widgets/base",
      "_view_module_version": "1.2.0",
      "_view_name": "StyleView",
      "description_width": ""
     }
    },
    "0afbfc6656cc4805a588fcc77b29ac45": {
     "model_module": "@jupyter-widgets/controls",
     "model_module_version": "1.5.0",
     "model_name": "ProgressStyleModel",
     "state": {
      "_model_module": "@jupyter-widgets/controls",
      "_model_module_version": "1.5.0",
      "_model_name": "ProgressStyleModel",
      "_view_count": null,
      "_view_module": "@jupyter-widgets/base",
      "_view_module_version": "1.2.0",
      "_view_name": "StyleView",
      "bar_color": null,
      "description_width": ""
     }
    },
    "0c7af8fb4cb04ffd8b67be6bff90f53a": {
     "model_module": "@jupyter-widgets/base",
     "model_module_version": "1.2.0",
     "model_name": "LayoutModel",
     "state": {
      "_model_module": "@jupyter-widgets/base",
      "_model_module_version": "1.2.0",
      "_model_name": "LayoutModel",
      "_view_count": null,
      "_view_module": "@jupyter-widgets/base",
      "_view_module_version": "1.2.0",
      "_view_name": "LayoutView",
      "align_content": null,
      "align_items": null,
      "align_self": null,
      "border": null,
      "bottom": null,
      "display": null,
      "flex": null,
      "flex_flow": null,
      "grid_area": null,
      "grid_auto_columns": null,
      "grid_auto_flow": null,
      "grid_auto_rows": null,
      "grid_column": null,
      "grid_gap": null,
      "grid_row": null,
      "grid_template_areas": null,
      "grid_template_columns": null,
      "grid_template_rows": null,
      "height": null,
      "justify_content": null,
      "justify_items": null,
      "left": null,
      "margin": null,
      "max_height": null,
      "max_width": null,
      "min_height": null,
      "min_width": null,
      "object_fit": null,
      "object_position": null,
      "order": null,
      "overflow": null,
      "overflow_x": null,
      "overflow_y": null,
      "padding": null,
      "right": null,
      "top": null,
      "visibility": null,
      "width": null
     }
    },
    "0dc8b4f1b3f846a2870bacf7e475c875": {
     "model_module": "@jupyter-widgets/controls",
     "model_module_version": "1.5.0",
     "model_name": "DescriptionStyleModel",
     "state": {
      "_model_module": "@jupyter-widgets/controls",
      "_model_module_version": "1.5.0",
      "_model_name": "DescriptionStyleModel",
      "_view_count": null,
      "_view_module": "@jupyter-widgets/base",
      "_view_module_version": "1.2.0",
      "_view_name": "StyleView",
      "description_width": ""
     }
    },
    "0f033d878a154a3e9595e2b98748c6a4": {
     "model_module": "@jupyter-widgets/controls",
     "model_module_version": "1.5.0",
     "model_name": "DescriptionStyleModel",
     "state": {
      "_model_module": "@jupyter-widgets/controls",
      "_model_module_version": "1.5.0",
      "_model_name": "DescriptionStyleModel",
      "_view_count": null,
      "_view_module": "@jupyter-widgets/base",
      "_view_module_version": "1.2.0",
      "_view_name": "StyleView",
      "description_width": ""
     }
    },
    "1043eede14a046aa9c08fc5310a309ee": {
     "model_module": "@jupyter-widgets/controls",
     "model_module_version": "1.5.0",
     "model_name": "HTMLModel",
     "state": {
      "_dom_classes": [],
      "_model_module": "@jupyter-widgets/controls",
      "_model_module_version": "1.5.0",
      "_model_name": "HTMLModel",
      "_view_count": null,
      "_view_module": "@jupyter-widgets/controls",
      "_view_module_version": "1.5.0",
      "_view_name": "HTMLView",
      "description": "",
      "description_tooltip": null,
      "layout": "IPY_MODEL_87211ecf012f465ca61576405716f4ae",
      "placeholder": "​",
      "style": "IPY_MODEL_0f033d878a154a3e9595e2b98748c6a4",
      "value": "Downloading model.safetensors: 100%"
     }
    },
    "1e779860fad44264b25b1d0ccfcdb5c3": {
     "model_module": "@jupyter-widgets/controls",
     "model_module_version": "1.5.0",
     "model_name": "DescriptionStyleModel",
     "state": {
      "_model_module": "@jupyter-widgets/controls",
      "_model_module_version": "1.5.0",
      "_model_name": "DescriptionStyleModel",
      "_view_count": null,
      "_view_module": "@jupyter-widgets/base",
      "_view_module_version": "1.2.0",
      "_view_name": "StyleView",
      "description_width": ""
     }
    },
    "2a85d82c33e04d8b8ab62996afd45a78": {
     "model_module": "@jupyter-widgets/base",
     "model_module_version": "1.2.0",
     "model_name": "LayoutModel",
     "state": {
      "_model_module": "@jupyter-widgets/base",
      "_model_module_version": "1.2.0",
      "_model_name": "LayoutModel",
      "_view_count": null,
      "_view_module": "@jupyter-widgets/base",
      "_view_module_version": "1.2.0",
      "_view_name": "LayoutView",
      "align_content": null,
      "align_items": null,
      "align_self": null,
      "border": null,
      "bottom": null,
      "display": null,
      "flex": null,
      "flex_flow": null,
      "grid_area": null,
      "grid_auto_columns": null,
      "grid_auto_flow": null,
      "grid_auto_rows": null,
      "grid_column": null,
      "grid_gap": null,
      "grid_row": null,
      "grid_template_areas": null,
      "grid_template_columns": null,
      "grid_template_rows": null,
      "height": null,
      "justify_content": null,
      "justify_items": null,
      "left": null,
      "margin": null,
      "max_height": null,
      "max_width": null,
      "min_height": null,
      "min_width": null,
      "object_fit": null,
      "object_position": null,
      "order": null,
      "overflow": null,
      "overflow_x": null,
      "overflow_y": null,
      "padding": null,
      "right": null,
      "top": null,
      "visibility": null,
      "width": null
     }
    },
    "337a2cb3aaff41ee87246e4f1ba23826": {
     "model_module": "@jupyter-widgets/base",
     "model_module_version": "1.2.0",
     "model_name": "LayoutModel",
     "state": {
      "_model_module": "@jupyter-widgets/base",
      "_model_module_version": "1.2.0",
      "_model_name": "LayoutModel",
      "_view_count": null,
      "_view_module": "@jupyter-widgets/base",
      "_view_module_version": "1.2.0",
      "_view_name": "LayoutView",
      "align_content": null,
      "align_items": null,
      "align_self": null,
      "border": null,
      "bottom": null,
      "display": null,
      "flex": null,
      "flex_flow": null,
      "grid_area": null,
      "grid_auto_columns": null,
      "grid_auto_flow": null,
      "grid_auto_rows": null,
      "grid_column": null,
      "grid_gap": null,
      "grid_row": null,
      "grid_template_areas": null,
      "grid_template_columns": null,
      "grid_template_rows": null,
      "height": null,
      "justify_content": null,
      "justify_items": null,
      "left": null,
      "margin": null,
      "max_height": null,
      "max_width": null,
      "min_height": null,
      "min_width": null,
      "object_fit": null,
      "object_position": null,
      "order": null,
      "overflow": null,
      "overflow_x": null,
      "overflow_y": null,
      "padding": null,
      "right": null,
      "top": null,
      "visibility": null,
      "width": null
     }
    },
    "3a26403e3b0d4b19ba96291f985fb41c": {
     "model_module": "@jupyter-widgets/controls",
     "model_module_version": "1.5.0",
     "model_name": "DescriptionStyleModel",
     "state": {
      "_model_module": "@jupyter-widgets/controls",
      "_model_module_version": "1.5.0",
      "_model_name": "DescriptionStyleModel",
      "_view_count": null,
      "_view_module": "@jupyter-widgets/base",
      "_view_module_version": "1.2.0",
      "_view_name": "StyleView",
      "description_width": ""
     }
    },
    "41269f96f6e147c9a62b30e050230ae9": {
     "model_module": "@jupyter-widgets/controls",
     "model_module_version": "1.5.0",
     "model_name": "HTMLModel",
     "state": {
      "_dom_classes": [],
      "_model_module": "@jupyter-widgets/controls",
      "_model_module_version": "1.5.0",
      "_model_name": "HTMLModel",
      "_view_count": null,
      "_view_module": "@jupyter-widgets/controls",
      "_view_module_version": "1.5.0",
      "_view_name": "HTMLView",
      "description": "",
      "description_tooltip": null,
      "layout": "IPY_MODEL_df520fb7f428449dbcc76a7950656ebe",
      "placeholder": "​",
      "style": "IPY_MODEL_9f4130da5490446a9db325bf624360ec",
      "value": " 892M/892M [00:04&lt;00:00, 161MB/s]"
     }
    },
    "412ae74c61eb49bea9c3658858b50ea9": {
     "model_module": "@jupyter-widgets/controls",
     "model_module_version": "1.5.0",
     "model_name": "FloatProgressModel",
     "state": {
      "_dom_classes": [],
      "_model_module": "@jupyter-widgets/controls",
      "_model_module_version": "1.5.0",
      "_model_name": "FloatProgressModel",
      "_view_count": null,
      "_view_module": "@jupyter-widgets/controls",
      "_view_module_version": "1.5.0",
      "_view_name": "ProgressView",
      "bar_style": "success",
      "description": "",
      "description_tooltip": null,
      "layout": "IPY_MODEL_2a85d82c33e04d8b8ab62996afd45a78",
      "max": 1208,
      "min": 0,
      "orientation": "horizontal",
      "style": "IPY_MODEL_ccfb9137b09a4087b169e461c5dc8e0c",
      "value": 1208
     }
    },
    "48f31a3511be4aeab3a3568503898ff2": {
     "model_module": "@jupyter-widgets/base",
     "model_module_version": "1.2.0",
     "model_name": "LayoutModel",
     "state": {
      "_model_module": "@jupyter-widgets/base",
      "_model_module_version": "1.2.0",
      "_model_name": "LayoutModel",
      "_view_count": null,
      "_view_module": "@jupyter-widgets/base",
      "_view_module_version": "1.2.0",
      "_view_name": "LayoutView",
      "align_content": null,
      "align_items": null,
      "align_self": null,
      "border": null,
      "bottom": null,
      "display": null,
      "flex": null,
      "flex_flow": null,
      "grid_area": null,
      "grid_auto_columns": null,
      "grid_auto_flow": null,
      "grid_auto_rows": null,
      "grid_column": null,
      "grid_gap": null,
      "grid_row": null,
      "grid_template_areas": null,
      "grid_template_columns": null,
      "grid_template_rows": null,
      "height": null,
      "justify_content": null,
      "justify_items": null,
      "left": null,
      "margin": null,
      "max_height": null,
      "max_width": null,
      "min_height": null,
      "min_width": null,
      "object_fit": null,
      "object_position": null,
      "order": null,
      "overflow": null,
      "overflow_x": null,
      "overflow_y": null,
      "padding": null,
      "right": null,
      "top": null,
      "visibility": null,
      "width": null
     }
    },
    "4b699788e93e4b5281f550ee78ed0ddd": {
     "model_module": "@jupyter-widgets/controls",
     "model_module_version": "1.5.0",
     "model_name": "HTMLModel",
     "state": {
      "_dom_classes": [],
      "_model_module": "@jupyter-widgets/controls",
      "_model_module_version": "1.5.0",
      "_model_name": "HTMLModel",
      "_view_count": null,
      "_view_module": "@jupyter-widgets/controls",
      "_view_module_version": "1.5.0",
      "_view_name": "HTMLView",
      "description": "",
      "description_tooltip": null,
      "layout": "IPY_MODEL_a67f39d8379d4024957c8cd5dacbe5cb",
      "placeholder": "​",
      "style": "IPY_MODEL_b6f917a0813343aea573d1488ebc7b14",
      "value": "Downloading (…)/main/tokenizer.json: 100%"
     }
    },
    "5ca5fe70f60542bab3fcb8cd63a32596": {
     "model_module": "@jupyter-widgets/controls",
     "model_module_version": "1.5.0",
     "model_name": "HBoxModel",
     "state": {
      "_dom_classes": [],
      "_model_module": "@jupyter-widgets/controls",
      "_model_module_version": "1.5.0",
      "_model_name": "HBoxModel",
      "_view_count": null,
      "_view_module": "@jupyter-widgets/controls",
      "_view_module_version": "1.5.0",
      "_view_name": "HBoxView",
      "box_style": "",
      "children": [
       "IPY_MODEL_e822f482c82e45888cdea1043f0b946f",
       "IPY_MODEL_cac4e777e034464abbc7601f6c3e05bc",
       "IPY_MODEL_e933e87300a3461c86338eb6e7e4b152"
      ],
      "layout": "IPY_MODEL_dac3d16efe2a464db37e98f5d091193c"
     }
    },
    "625fbcb95f1241f2a528025115cccb23": {
     "model_module": "@jupyter-widgets/base",
     "model_module_version": "1.2.0",
     "model_name": "LayoutModel",
     "state": {
      "_model_module": "@jupyter-widgets/base",
      "_model_module_version": "1.2.0",
      "_model_name": "LayoutModel",
      "_view_count": null,
      "_view_module": "@jupyter-widgets/base",
      "_view_module_version": "1.2.0",
      "_view_name": "LayoutView",
      "align_content": null,
      "align_items": null,
      "align_self": null,
      "border": null,
      "bottom": null,
      "display": null,
      "flex": null,
      "flex_flow": null,
      "grid_area": null,
      "grid_auto_columns": null,
      "grid_auto_flow": null,
      "grid_auto_rows": null,
      "grid_column": null,
      "grid_gap": null,
      "grid_row": null,
      "grid_template_areas": null,
      "grid_template_columns": null,
      "grid_template_rows": null,
      "height": null,
      "justify_content": null,
      "justify_items": null,
      "left": null,
      "margin": null,
      "max_height": null,
      "max_width": null,
      "min_height": null,
      "min_width": null,
      "object_fit": null,
      "object_position": null,
      "order": null,
      "overflow": null,
      "overflow_x": null,
      "overflow_y": null,
      "padding": null,
      "right": null,
      "top": null,
      "visibility": null,
      "width": null
     }
    },
    "688beaaf66a34116825763ba491faf22": {
     "model_module": "@jupyter-widgets/controls",
     "model_module_version": "1.5.0",
     "model_name": "HTMLModel",
     "state": {
      "_dom_classes": [],
      "_model_module": "@jupyter-widgets/controls",
      "_model_module_version": "1.5.0",
      "_model_name": "HTMLModel",
      "_view_count": null,
      "_view_module": "@jupyter-widgets/controls",
      "_view_module_version": "1.5.0",
      "_view_name": "HTMLView",
      "description": "",
      "description_tooltip": null,
      "layout": "IPY_MODEL_8605b133811c409d9046bc666b142ce8",
      "placeholder": "​",
      "style": "IPY_MODEL_3a26403e3b0d4b19ba96291f985fb41c",
      "value": " 1.21k/1.21k [00:00&lt;00:00, 37.8kB/s]"
     }
    },
    "6ab7f00200014e96a5793d996d918dc5": {
     "model_module": "@jupyter-widgets/base",
     "model_module_version": "1.2.0",
     "model_name": "LayoutModel",
     "state": {
      "_model_module": "@jupyter-widgets/base",
      "_model_module_version": "1.2.0",
      "_model_name": "LayoutModel",
      "_view_count": null,
      "_view_module": "@jupyter-widgets/base",
      "_view_module_version": "1.2.0",
      "_view_name": "LayoutView",
      "align_content": null,
      "align_items": null,
      "align_self": null,
      "border": null,
      "bottom": null,
      "display": null,
      "flex": null,
      "flex_flow": null,
      "grid_area": null,
      "grid_auto_columns": null,
      "grid_auto_flow": null,
      "grid_auto_rows": null,
      "grid_column": null,
      "grid_gap": null,
      "grid_row": null,
      "grid_template_areas": null,
      "grid_template_columns": null,
      "grid_template_rows": null,
      "height": null,
      "justify_content": null,
      "justify_items": null,
      "left": null,
      "margin": null,
      "max_height": null,
      "max_width": null,
      "min_height": null,
      "min_width": null,
      "object_fit": null,
      "object_position": null,
      "order": null,
      "overflow": null,
      "overflow_x": null,
      "overflow_y": null,
      "padding": null,
      "right": null,
      "top": null,
      "visibility": null,
      "width": null
     }
    },
    "7b80c76e65e241bc9335afb6cb6f76e9": {
     "model_module": "@jupyter-widgets/controls",
     "model_module_version": "1.5.0",
     "model_name": "DescriptionStyleModel",
     "state": {
      "_model_module": "@jupyter-widgets/controls",
      "_model_module_version": "1.5.0",
      "_model_name": "DescriptionStyleModel",
      "_view_count": null,
      "_view_module": "@jupyter-widgets/base",
      "_view_module_version": "1.2.0",
      "_view_name": "StyleView",
      "description_width": ""
     }
    },
    "8605b133811c409d9046bc666b142ce8": {
     "model_module": "@jupyter-widgets/base",
     "model_module_version": "1.2.0",
     "model_name": "LayoutModel",
     "state": {
      "_model_module": "@jupyter-widgets/base",
      "_model_module_version": "1.2.0",
      "_model_name": "LayoutModel",
      "_view_count": null,
      "_view_module": "@jupyter-widgets/base",
      "_view_module_version": "1.2.0",
      "_view_name": "LayoutView",
      "align_content": null,
      "align_items": null,
      "align_self": null,
      "border": null,
      "bottom": null,
      "display": null,
      "flex": null,
      "flex_flow": null,
      "grid_area": null,
      "grid_auto_columns": null,
      "grid_auto_flow": null,
      "grid_auto_rows": null,
      "grid_column": null,
      "grid_gap": null,
      "grid_row": null,
      "grid_template_areas": null,
      "grid_template_columns": null,
      "grid_template_rows": null,
      "height": null,
      "justify_content": null,
      "justify_items": null,
      "left": null,
      "margin": null,
      "max_height": null,
      "max_width": null,
      "min_height": null,
      "min_width": null,
      "object_fit": null,
      "object_position": null,
      "order": null,
      "overflow": null,
      "overflow_x": null,
      "overflow_y": null,
      "padding": null,
      "right": null,
      "top": null,
      "visibility": null,
      "width": null
     }
    },
    "87211ecf012f465ca61576405716f4ae": {
     "model_module": "@jupyter-widgets/base",
     "model_module_version": "1.2.0",
     "model_name": "LayoutModel",
     "state": {
      "_model_module": "@jupyter-widgets/base",
      "_model_module_version": "1.2.0",
      "_model_name": "LayoutModel",
      "_view_count": null,
      "_view_module": "@jupyter-widgets/base",
      "_view_module_version": "1.2.0",
      "_view_name": "LayoutView",
      "align_content": null,
      "align_items": null,
      "align_self": null,
      "border": null,
      "bottom": null,
      "display": null,
      "flex": null,
      "flex_flow": null,
      "grid_area": null,
      "grid_auto_columns": null,
      "grid_auto_flow": null,
      "grid_auto_rows": null,
      "grid_column": null,
      "grid_gap": null,
      "grid_row": null,
      "grid_template_areas": null,
      "grid_template_columns": null,
      "grid_template_rows": null,
      "height": null,
      "justify_content": null,
      "justify_items": null,
      "left": null,
      "margin": null,
      "max_height": null,
      "max_width": null,
      "min_height": null,
      "min_width": null,
      "object_fit": null,
      "object_position": null,
      "order": null,
      "overflow": null,
      "overflow_x": null,
      "overflow_y": null,
      "padding": null,
      "right": null,
      "top": null,
      "visibility": null,
      "width": null
     }
    },
    "88e90d2702c94304955179e36e189d6a": {
     "model_module": "@jupyter-widgets/controls",
     "model_module_version": "1.5.0",
     "model_name": "HTMLModel",
     "state": {
      "_dom_classes": [],
      "_model_module": "@jupyter-widgets/controls",
      "_model_module_version": "1.5.0",
      "_model_name": "HTMLModel",
      "_view_count": null,
      "_view_module": "@jupyter-widgets/controls",
      "_view_module_version": "1.5.0",
      "_view_name": "HTMLView",
      "description": "",
      "description_tooltip": null,
      "layout": "IPY_MODEL_9f15ecb854e84457b4581199f4286b31",
      "placeholder": "​",
      "style": "IPY_MODEL_c44bae85439242da81b09de25e3dd6a9",
      "value": " 147/147 [00:00&lt;00:00, 6.84kB/s]"
     }
    },
    "90e353a41cf342bab3f56d754fa6917d": {
     "model_module": "@jupyter-widgets/base",
     "model_module_version": "1.2.0",
     "model_name": "LayoutModel",
     "state": {
      "_model_module": "@jupyter-widgets/base",
      "_model_module_version": "1.2.0",
      "_model_name": "LayoutModel",
      "_view_count": null,
      "_view_module": "@jupyter-widgets/base",
      "_view_module_version": "1.2.0",
      "_view_name": "LayoutView",
      "align_content": null,
      "align_items": null,
      "align_self": null,
      "border": null,
      "bottom": null,
      "display": null,
      "flex": null,
      "flex_flow": null,
      "grid_area": null,
      "grid_auto_columns": null,
      "grid_auto_flow": null,
      "grid_auto_rows": null,
      "grid_column": null,
      "grid_gap": null,
      "grid_row": null,
      "grid_template_areas": null,
      "grid_template_columns": null,
      "grid_template_rows": null,
      "height": null,
      "justify_content": null,
      "justify_items": null,
      "left": null,
      "margin": null,
      "max_height": null,
      "max_width": null,
      "min_height": null,
      "min_width": null,
      "object_fit": null,
      "object_position": null,
      "order": null,
      "overflow": null,
      "overflow_x": null,
      "overflow_y": null,
      "padding": null,
      "right": null,
      "top": null,
      "visibility": null,
      "width": null
     }
    },
    "93a6593a6f5d48fa82492cc964574063": {
     "model_module": "@jupyter-widgets/controls",
     "model_module_version": "1.5.0",
     "model_name": "ProgressStyleModel",
     "state": {
      "_model_module": "@jupyter-widgets/controls",
      "_model_module_version": "1.5.0",
      "_model_name": "ProgressStyleModel",
      "_view_count": null,
      "_view_module": "@jupyter-widgets/base",
      "_view_module_version": "1.2.0",
      "_view_name": "StyleView",
      "bar_color": null,
      "description_width": ""
     }
    },
    "9cb6bc84ce3548c88fdfee89ebd16027": {
     "model_module": "@jupyter-widgets/controls",
     "model_module_version": "1.5.0",
     "model_name": "HBoxModel",
     "state": {
      "_dom_classes": [],
      "_model_module": "@jupyter-widgets/controls",
      "_model_module_version": "1.5.0",
      "_model_name": "HBoxModel",
      "_view_count": null,
      "_view_module": "@jupyter-widgets/controls",
      "_view_module_version": "1.5.0",
      "_view_name": "HBoxView",
      "box_style": "",
      "children": [
       "IPY_MODEL_1043eede14a046aa9c08fc5310a309ee",
       "IPY_MODEL_c4c9b0a00763411f84251d2bd5ea4be7",
       "IPY_MODEL_41269f96f6e147c9a62b30e050230ae9"
      ],
      "layout": "IPY_MODEL_acbc3116f8e64e379e8325e1eb23408c"
     }
    },
    "9e9b6b8c170041bda5231cade5e11d48": {
     "model_module": "@jupyter-widgets/controls",
     "model_module_version": "1.5.0",
     "model_name": "HBoxModel",
     "state": {
      "_dom_classes": [],
      "_model_module": "@jupyter-widgets/controls",
      "_model_module_version": "1.5.0",
      "_model_name": "HBoxModel",
      "_view_count": null,
      "_view_module": "@jupyter-widgets/controls",
      "_view_module_version": "1.5.0",
      "_view_name": "HBoxView",
      "box_style": "",
      "children": [
       "IPY_MODEL_4b699788e93e4b5281f550ee78ed0ddd",
       "IPY_MODEL_de23c16f531c4d17bf5d8a1b82880183",
       "IPY_MODEL_fe545047949445b291f79d0c8a0cab4b"
      ],
      "layout": "IPY_MODEL_625fbcb95f1241f2a528025115cccb23"
     }
    },
    "9f15ecb854e84457b4581199f4286b31": {
     "model_module": "@jupyter-widgets/base",
     "model_module_version": "1.2.0",
     "model_name": "LayoutModel",
     "state": {
      "_model_module": "@jupyter-widgets/base",
      "_model_module_version": "1.2.0",
      "_model_name": "LayoutModel",
      "_view_count": null,
      "_view_module": "@jupyter-widgets/base",
      "_view_module_version": "1.2.0",
      "_view_name": "LayoutView",
      "align_content": null,
      "align_items": null,
      "align_self": null,
      "border": null,
      "bottom": null,
      "display": null,
      "flex": null,
      "flex_flow": null,
      "grid_area": null,
      "grid_auto_columns": null,
      "grid_auto_flow": null,
      "grid_auto_rows": null,
      "grid_column": null,
      "grid_gap": null,
      "grid_row": null,
      "grid_template_areas": null,
      "grid_template_columns": null,
      "grid_template_rows": null,
      "height": null,
      "justify_content": null,
      "justify_items": null,
      "left": null,
      "margin": null,
      "max_height": null,
      "max_width": null,
      "min_height": null,
      "min_width": null,
      "object_fit": null,
      "object_position": null,
      "order": null,
      "overflow": null,
      "overflow_x": null,
      "overflow_y": null,
      "padding": null,
      "right": null,
      "top": null,
      "visibility": null,
      "width": null
     }
    },
    "9f4130da5490446a9db325bf624360ec": {
     "model_module": "@jupyter-widgets/controls",
     "model_module_version": "1.5.0",
     "model_name": "DescriptionStyleModel",
     "state": {
      "_model_module": "@jupyter-widgets/controls",
      "_model_module_version": "1.5.0",
      "_model_name": "DescriptionStyleModel",
      "_view_count": null,
      "_view_module": "@jupyter-widgets/base",
      "_view_module_version": "1.2.0",
      "_view_name": "StyleView",
      "description_width": ""
     }
    },
    "a5b3b7a8120a44bdbe6144eb6d1ef3a3": {
     "model_module": "@jupyter-widgets/controls",
     "model_module_version": "1.5.0",
     "model_name": "HBoxModel",
     "state": {
      "_dom_classes": [],
      "_model_module": "@jupyter-widgets/controls",
      "_model_module_version": "1.5.0",
      "_model_name": "HBoxModel",
      "_view_count": null,
      "_view_module": "@jupyter-widgets/controls",
      "_view_module_version": "1.5.0",
      "_view_name": "HBoxView",
      "box_style": "",
      "children": [
       "IPY_MODEL_cd0109e8926d4e8f8f7264af1e174c1c",
       "IPY_MODEL_412ae74c61eb49bea9c3658858b50ea9",
       "IPY_MODEL_688beaaf66a34116825763ba491faf22"
      ],
      "layout": "IPY_MODEL_48f31a3511be4aeab3a3568503898ff2"
     }
    },
    "a67f39d8379d4024957c8cd5dacbe5cb": {
     "model_module": "@jupyter-widgets/base",
     "model_module_version": "1.2.0",
     "model_name": "LayoutModel",
     "state": {
      "_model_module": "@jupyter-widgets/base",
      "_model_module_version": "1.2.0",
      "_model_name": "LayoutModel",
      "_view_count": null,
      "_view_module": "@jupyter-widgets/base",
      "_view_module_version": "1.2.0",
      "_view_name": "LayoutView",
      "align_content": null,
      "align_items": null,
      "align_self": null,
      "border": null,
      "bottom": null,
      "display": null,
      "flex": null,
      "flex_flow": null,
      "grid_area": null,
      "grid_auto_columns": null,
      "grid_auto_flow": null,
      "grid_auto_rows": null,
      "grid_column": null,
      "grid_gap": null,
      "grid_row": null,
      "grid_template_areas": null,
      "grid_template_columns": null,
      "grid_template_rows": null,
      "height": null,
      "justify_content": null,
      "justify_items": null,
      "left": null,
      "margin": null,
      "max_height": null,
      "max_width": null,
      "min_height": null,
      "min_width": null,
      "object_fit": null,
      "object_position": null,
      "order": null,
      "overflow": null,
      "overflow_x": null,
      "overflow_y": null,
      "padding": null,
      "right": null,
      "top": null,
      "visibility": null,
      "width": null
     }
    },
    "acbc3116f8e64e379e8325e1eb23408c": {
     "model_module": "@jupyter-widgets/base",
     "model_module_version": "1.2.0",
     "model_name": "LayoutModel",
     "state": {
      "_model_module": "@jupyter-widgets/base",
      "_model_module_version": "1.2.0",
      "_model_name": "LayoutModel",
      "_view_count": null,
      "_view_module": "@jupyter-widgets/base",
      "_view_module_version": "1.2.0",
      "_view_name": "LayoutView",
      "align_content": null,
      "align_items": null,
      "align_self": null,
      "border": null,
      "bottom": null,
      "display": null,
      "flex": null,
      "flex_flow": null,
      "grid_area": null,
      "grid_auto_columns": null,
      "grid_auto_flow": null,
      "grid_auto_rows": null,
      "grid_column": null,
      "grid_gap": null,
      "grid_row": null,
      "grid_template_areas": null,
      "grid_template_columns": null,
      "grid_template_rows": null,
      "height": null,
      "justify_content": null,
      "justify_items": null,
      "left": null,
      "margin": null,
      "max_height": null,
      "max_width": null,
      "min_height": null,
      "min_width": null,
      "object_fit": null,
      "object_position": null,
      "order": null,
      "overflow": null,
      "overflow_x": null,
      "overflow_y": null,
      "padding": null,
      "right": null,
      "top": null,
      "visibility": null,
      "width": null
     }
    },
    "ad71c7b089574e9f97b341131cdd7735": {
     "model_module": "@jupyter-widgets/controls",
     "model_module_version": "1.5.0",
     "model_name": "HBoxModel",
     "state": {
      "_dom_classes": [],
      "_model_module": "@jupyter-widgets/controls",
      "_model_module_version": "1.5.0",
      "_model_name": "HBoxModel",
      "_view_count": null,
      "_view_module": "@jupyter-widgets/controls",
      "_view_module_version": "1.5.0",
      "_view_name": "HBoxView",
      "box_style": "",
      "children": [
       "IPY_MODEL_c492bf8ffe9e4823878f836fe63c081e",
       "IPY_MODEL_f108e13198ce4b979503bfde278a6040",
       "IPY_MODEL_88e90d2702c94304955179e36e189d6a"
      ],
      "layout": "IPY_MODEL_6ab7f00200014e96a5793d996d918dc5"
     }
    },
    "b05fb3775acf47d894871a3f95fe2fd6": {
     "model_module": "@jupyter-widgets/controls",
     "model_module_version": "1.5.0",
     "model_name": "DescriptionStyleModel",
     "state": {
      "_model_module": "@jupyter-widgets/controls",
      "_model_module_version": "1.5.0",
      "_model_name": "DescriptionStyleModel",
      "_view_count": null,
      "_view_module": "@jupyter-widgets/base",
      "_view_module_version": "1.2.0",
      "_view_name": "StyleView",
      "description_width": ""
     }
    },
    "b2c008e054eb4c3abadf3e7751e195c2": {
     "model_module": "@jupyter-widgets/base",
     "model_module_version": "1.2.0",
     "model_name": "LayoutModel",
     "state": {
      "_model_module": "@jupyter-widgets/base",
      "_model_module_version": "1.2.0",
      "_model_name": "LayoutModel",
      "_view_count": null,
      "_view_module": "@jupyter-widgets/base",
      "_view_module_version": "1.2.0",
      "_view_name": "LayoutView",
      "align_content": null,
      "align_items": null,
      "align_self": null,
      "border": null,
      "bottom": null,
      "display": null,
      "flex": null,
      "flex_flow": null,
      "grid_area": null,
      "grid_auto_columns": null,
      "grid_auto_flow": null,
      "grid_auto_rows": null,
      "grid_column": null,
      "grid_gap": null,
      "grid_row": null,
      "grid_template_areas": null,
      "grid_template_columns": null,
      "grid_template_rows": null,
      "height": null,
      "justify_content": null,
      "justify_items": null,
      "left": null,
      "margin": null,
      "max_height": null,
      "max_width": null,
      "min_height": null,
      "min_width": null,
      "object_fit": null,
      "object_position": null,
      "order": null,
      "overflow": null,
      "overflow_x": null,
      "overflow_y": null,
      "padding": null,
      "right": null,
      "top": null,
      "visibility": null,
      "width": null
     }
    },
    "b6f917a0813343aea573d1488ebc7b14": {
     "model_module": "@jupyter-widgets/controls",
     "model_module_version": "1.5.0",
     "model_name": "DescriptionStyleModel",
     "state": {
      "_model_module": "@jupyter-widgets/controls",
      "_model_module_version": "1.5.0",
      "_model_name": "DescriptionStyleModel",
      "_view_count": null,
      "_view_module": "@jupyter-widgets/base",
      "_view_module_version": "1.2.0",
      "_view_name": "StyleView",
      "description_width": ""
     }
    },
    "c0e882c8aa444dac8965fed6b124366b": {
     "model_module": "@jupyter-widgets/base",
     "model_module_version": "1.2.0",
     "model_name": "LayoutModel",
     "state": {
      "_model_module": "@jupyter-widgets/base",
      "_model_module_version": "1.2.0",
      "_model_name": "LayoutModel",
      "_view_count": null,
      "_view_module": "@jupyter-widgets/base",
      "_view_module_version": "1.2.0",
      "_view_name": "LayoutView",
      "align_content": null,
      "align_items": null,
      "align_self": null,
      "border": null,
      "bottom": null,
      "display": null,
      "flex": null,
      "flex_flow": null,
      "grid_area": null,
      "grid_auto_columns": null,
      "grid_auto_flow": null,
      "grid_auto_rows": null,
      "grid_column": null,
      "grid_gap": null,
      "grid_row": null,
      "grid_template_areas": null,
      "grid_template_columns": null,
      "grid_template_rows": null,
      "height": null,
      "justify_content": null,
      "justify_items": null,
      "left": null,
      "margin": null,
      "max_height": null,
      "max_width": null,
      "min_height": null,
      "min_width": null,
      "object_fit": null,
      "object_position": null,
      "order": null,
      "overflow": null,
      "overflow_x": null,
      "overflow_y": null,
      "padding": null,
      "right": null,
      "top": null,
      "visibility": null,
      "width": null
     }
    },
    "c44bae85439242da81b09de25e3dd6a9": {
     "model_module": "@jupyter-widgets/controls",
     "model_module_version": "1.5.0",
     "model_name": "DescriptionStyleModel",
     "state": {
      "_model_module": "@jupyter-widgets/controls",
      "_model_module_version": "1.5.0",
      "_model_name": "DescriptionStyleModel",
      "_view_count": null,
      "_view_module": "@jupyter-widgets/base",
      "_view_module_version": "1.2.0",
      "_view_name": "StyleView",
      "description_width": ""
     }
    },
    "c492bf8ffe9e4823878f836fe63c081e": {
     "model_module": "@jupyter-widgets/controls",
     "model_module_version": "1.5.0",
     "model_name": "HTMLModel",
     "state": {
      "_dom_classes": [],
      "_model_module": "@jupyter-widgets/controls",
      "_model_module_version": "1.5.0",
      "_model_name": "HTMLModel",
      "_view_count": null,
      "_view_module": "@jupyter-widgets/controls",
      "_view_module_version": "1.5.0",
      "_view_name": "HTMLView",
      "description": "",
      "description_tooltip": null,
      "layout": "IPY_MODEL_337a2cb3aaff41ee87246e4f1ba23826",
      "placeholder": "​",
      "style": "IPY_MODEL_0dc8b4f1b3f846a2870bacf7e475c875",
      "value": "Downloading (…)neration_config.json: 100%"
     }
    },
    "c4c9b0a00763411f84251d2bd5ea4be7": {
     "model_module": "@jupyter-widgets/controls",
     "model_module_version": "1.5.0",
     "model_name": "FloatProgressModel",
     "state": {
      "_dom_classes": [],
      "_model_module": "@jupyter-widgets/controls",
      "_model_module_version": "1.5.0",
      "_model_name": "FloatProgressModel",
      "_view_count": null,
      "_view_module": "@jupyter-widgets/controls",
      "_view_module_version": "1.5.0",
      "_view_name": "ProgressView",
      "bar_style": "success",
      "description": "",
      "description_tooltip": null,
      "layout": "IPY_MODEL_c0e882c8aa444dac8965fed6b124366b",
      "max": 891646390,
      "min": 0,
      "orientation": "horizontal",
      "style": "IPY_MODEL_e63ab680776747a9a37b1ae573da522d",
      "value": 891646390
     }
    },
    "cac4e777e034464abbc7601f6c3e05bc": {
     "model_module": "@jupyter-widgets/controls",
     "model_module_version": "1.5.0",
     "model_name": "FloatProgressModel",
     "state": {
      "_dom_classes": [],
      "_model_module": "@jupyter-widgets/controls",
      "_model_module_version": "1.5.0",
      "_model_name": "FloatProgressModel",
      "_view_count": null,
      "_view_module": "@jupyter-widgets/controls",
      "_view_module_version": "1.5.0",
      "_view_name": "ProgressView",
      "bar_style": "success",
      "description": "",
      "description_tooltip": null,
      "layout": "IPY_MODEL_d08ac1efa02443ac84151ce2ba3d54c0",
      "max": 791656,
      "min": 0,
      "orientation": "horizontal",
      "style": "IPY_MODEL_93a6593a6f5d48fa82492cc964574063",
      "value": 791656
     }
    },
    "ccfb9137b09a4087b169e461c5dc8e0c": {
     "model_module": "@jupyter-widgets/controls",
     "model_module_version": "1.5.0",
     "model_name": "ProgressStyleModel",
     "state": {
      "_model_module": "@jupyter-widgets/controls",
      "_model_module_version": "1.5.0",
      "_model_name": "ProgressStyleModel",
      "_view_count": null,
      "_view_module": "@jupyter-widgets/base",
      "_view_module_version": "1.2.0",
      "_view_name": "StyleView",
      "bar_color": null,
      "description_width": ""
     }
    },
    "cd0109e8926d4e8f8f7264af1e174c1c": {
     "model_module": "@jupyter-widgets/controls",
     "model_module_version": "1.5.0",
     "model_name": "HTMLModel",
     "state": {
      "_dom_classes": [],
      "_model_module": "@jupyter-widgets/controls",
      "_model_module_version": "1.5.0",
      "_model_name": "HTMLModel",
      "_view_count": null,
      "_view_module": "@jupyter-widgets/controls",
      "_view_module_version": "1.5.0",
      "_view_name": "HTMLView",
      "description": "",
      "description_tooltip": null,
      "layout": "IPY_MODEL_b2c008e054eb4c3abadf3e7751e195c2",
      "placeholder": "​",
      "style": "IPY_MODEL_7b80c76e65e241bc9335afb6cb6f76e9",
      "value": "Downloading (…)lve/main/config.json: 100%"
     }
    },
    "d08ac1efa02443ac84151ce2ba3d54c0": {
     "model_module": "@jupyter-widgets/base",
     "model_module_version": "1.2.0",
     "model_name": "LayoutModel",
     "state": {
      "_model_module": "@jupyter-widgets/base",
      "_model_module_version": "1.2.0",
      "_model_name": "LayoutModel",
      "_view_count": null,
      "_view_module": "@jupyter-widgets/base",
      "_view_module_version": "1.2.0",
      "_view_name": "LayoutView",
      "align_content": null,
      "align_items": null,
      "align_self": null,
      "border": null,
      "bottom": null,
      "display": null,
      "flex": null,
      "flex_flow": null,
      "grid_area": null,
      "grid_auto_columns": null,
      "grid_auto_flow": null,
      "grid_auto_rows": null,
      "grid_column": null,
      "grid_gap": null,
      "grid_row": null,
      "grid_template_areas": null,
      "grid_template_columns": null,
      "grid_template_rows": null,
      "height": null,
      "justify_content": null,
      "justify_items": null,
      "left": null,
      "margin": null,
      "max_height": null,
      "max_width": null,
      "min_height": null,
      "min_width": null,
      "object_fit": null,
      "object_position": null,
      "order": null,
      "overflow": null,
      "overflow_x": null,
      "overflow_y": null,
      "padding": null,
      "right": null,
      "top": null,
      "visibility": null,
      "width": null
     }
    },
    "d88d2802236846359d6d3f9b1fa68fa9": {
     "model_module": "@jupyter-widgets/base",
     "model_module_version": "1.2.0",
     "model_name": "LayoutModel",
     "state": {
      "_model_module": "@jupyter-widgets/base",
      "_model_module_version": "1.2.0",
      "_model_name": "LayoutModel",
      "_view_count": null,
      "_view_module": "@jupyter-widgets/base",
      "_view_module_version": "1.2.0",
      "_view_name": "LayoutView",
      "align_content": null,
      "align_items": null,
      "align_self": null,
      "border": null,
      "bottom": null,
      "display": null,
      "flex": null,
      "flex_flow": null,
      "grid_area": null,
      "grid_auto_columns": null,
      "grid_auto_flow": null,
      "grid_auto_rows": null,
      "grid_column": null,
      "grid_gap": null,
      "grid_row": null,
      "grid_template_areas": null,
      "grid_template_columns": null,
      "grid_template_rows": null,
      "height": null,
      "justify_content": null,
      "justify_items": null,
      "left": null,
      "margin": null,
      "max_height": null,
      "max_width": null,
      "min_height": null,
      "min_width": null,
      "object_fit": null,
      "object_position": null,
      "order": null,
      "overflow": null,
      "overflow_x": null,
      "overflow_y": null,
      "padding": null,
      "right": null,
      "top": null,
      "visibility": null,
      "width": null
     }
    },
    "dac3d16efe2a464db37e98f5d091193c": {
     "model_module": "@jupyter-widgets/base",
     "model_module_version": "1.2.0",
     "model_name": "LayoutModel",
     "state": {
      "_model_module": "@jupyter-widgets/base",
      "_model_module_version": "1.2.0",
      "_model_name": "LayoutModel",
      "_view_count": null,
      "_view_module": "@jupyter-widgets/base",
      "_view_module_version": "1.2.0",
      "_view_name": "LayoutView",
      "align_content": null,
      "align_items": null,
      "align_self": null,
      "border": null,
      "bottom": null,
      "display": null,
      "flex": null,
      "flex_flow": null,
      "grid_area": null,
      "grid_auto_columns": null,
      "grid_auto_flow": null,
      "grid_auto_rows": null,
      "grid_column": null,
      "grid_gap": null,
      "grid_row": null,
      "grid_template_areas": null,
      "grid_template_columns": null,
      "grid_template_rows": null,
      "height": null,
      "justify_content": null,
      "justify_items": null,
      "left": null,
      "margin": null,
      "max_height": null,
      "max_width": null,
      "min_height": null,
      "min_width": null,
      "object_fit": null,
      "object_position": null,
      "order": null,
      "overflow": null,
      "overflow_x": null,
      "overflow_y": null,
      "padding": null,
      "right": null,
      "top": null,
      "visibility": null,
      "width": null
     }
    },
    "de23c16f531c4d17bf5d8a1b82880183": {
     "model_module": "@jupyter-widgets/controls",
     "model_module_version": "1.5.0",
     "model_name": "FloatProgressModel",
     "state": {
      "_dom_classes": [],
      "_model_module": "@jupyter-widgets/controls",
      "_model_module_version": "1.5.0",
      "_model_name": "FloatProgressModel",
      "_view_count": null,
      "_view_module": "@jupyter-widgets/controls",
      "_view_module_version": "1.5.0",
      "_view_name": "ProgressView",
      "bar_style": "success",
      "description": "",
      "description_tooltip": null,
      "layout": "IPY_MODEL_ece679963bed4fffa680647163d1f37d",
      "max": 1389353,
      "min": 0,
      "orientation": "horizontal",
      "style": "IPY_MODEL_0afbfc6656cc4805a588fcc77b29ac45",
      "value": 1389353
     }
    },
    "df520fb7f428449dbcc76a7950656ebe": {
     "model_module": "@jupyter-widgets/base",
     "model_module_version": "1.2.0",
     "model_name": "LayoutModel",
     "state": {
      "_model_module": "@jupyter-widgets/base",
      "_model_module_version": "1.2.0",
      "_model_name": "LayoutModel",
      "_view_count": null,
      "_view_module": "@jupyter-widgets/base",
      "_view_module_version": "1.2.0",
      "_view_name": "LayoutView",
      "align_content": null,
      "align_items": null,
      "align_self": null,
      "border": null,
      "bottom": null,
      "display": null,
      "flex": null,
      "flex_flow": null,
      "grid_area": null,
      "grid_auto_columns": null,
      "grid_auto_flow": null,
      "grid_auto_rows": null,
      "grid_column": null,
      "grid_gap": null,
      "grid_row": null,
      "grid_template_areas": null,
      "grid_template_columns": null,
      "grid_template_rows": null,
      "height": null,
      "justify_content": null,
      "justify_items": null,
      "left": null,
      "margin": null,
      "max_height": null,
      "max_width": null,
      "min_height": null,
      "min_width": null,
      "object_fit": null,
      "object_position": null,
      "order": null,
      "overflow": null,
      "overflow_x": null,
      "overflow_y": null,
      "padding": null,
      "right": null,
      "top": null,
      "visibility": null,
      "width": null
     }
    },
    "e63ab680776747a9a37b1ae573da522d": {
     "model_module": "@jupyter-widgets/controls",
     "model_module_version": "1.5.0",
     "model_name": "ProgressStyleModel",
     "state": {
      "_model_module": "@jupyter-widgets/controls",
      "_model_module_version": "1.5.0",
      "_model_name": "ProgressStyleModel",
      "_view_count": null,
      "_view_module": "@jupyter-widgets/base",
      "_view_module_version": "1.2.0",
      "_view_name": "StyleView",
      "bar_color": null,
      "description_width": ""
     }
    },
    "e822f482c82e45888cdea1043f0b946f": {
     "model_module": "@jupyter-widgets/controls",
     "model_module_version": "1.5.0",
     "model_name": "HTMLModel",
     "state": {
      "_dom_classes": [],
      "_model_module": "@jupyter-widgets/controls",
      "_model_module_version": "1.5.0",
      "_model_name": "HTMLModel",
      "_view_count": null,
      "_view_module": "@jupyter-widgets/controls",
      "_view_module_version": "1.5.0",
      "_view_name": "HTMLView",
      "description": "",
      "description_tooltip": null,
      "layout": "IPY_MODEL_fdd4ca3271354bfe86245737ca650e22",
      "placeholder": "​",
      "style": "IPY_MODEL_1e779860fad44264b25b1d0ccfcdb5c3",
      "value": "Downloading (…)ve/main/spiece.model: 100%"
     }
    },
    "e933e87300a3461c86338eb6e7e4b152": {
     "model_module": "@jupyter-widgets/controls",
     "model_module_version": "1.5.0",
     "model_name": "HTMLModel",
     "state": {
      "_dom_classes": [],
      "_model_module": "@jupyter-widgets/controls",
      "_model_module_version": "1.5.0",
      "_model_name": "HTMLModel",
      "_view_count": null,
      "_view_module": "@jupyter-widgets/controls",
      "_view_module_version": "1.5.0",
      "_view_name": "HTMLView",
      "description": "",
      "description_tooltip": null,
      "layout": "IPY_MODEL_d88d2802236846359d6d3f9b1fa68fa9",
      "placeholder": "​",
      "style": "IPY_MODEL_b05fb3775acf47d894871a3f95fe2fd6",
      "value": " 792k/792k [00:00&lt;00:00, 1.02MB/s]"
     }
    },
    "ece679963bed4fffa680647163d1f37d": {
     "model_module": "@jupyter-widgets/base",
     "model_module_version": "1.2.0",
     "model_name": "LayoutModel",
     "state": {
      "_model_module": "@jupyter-widgets/base",
      "_model_module_version": "1.2.0",
      "_model_name": "LayoutModel",
      "_view_count": null,
      "_view_module": "@jupyter-widgets/base",
      "_view_module_version": "1.2.0",
      "_view_name": "LayoutView",
      "align_content": null,
      "align_items": null,
      "align_self": null,
      "border": null,
      "bottom": null,
      "display": null,
      "flex": null,
      "flex_flow": null,
      "grid_area": null,
      "grid_auto_columns": null,
      "grid_auto_flow": null,
      "grid_auto_rows": null,
      "grid_column": null,
      "grid_gap": null,
      "grid_row": null,
      "grid_template_areas": null,
      "grid_template_columns": null,
      "grid_template_rows": null,
      "height": null,
      "justify_content": null,
      "justify_items": null,
      "left": null,
      "margin": null,
      "max_height": null,
      "max_width": null,
      "min_height": null,
      "min_width": null,
      "object_fit": null,
      "object_position": null,
      "order": null,
      "overflow": null,
      "overflow_x": null,
      "overflow_y": null,
      "padding": null,
      "right": null,
      "top": null,
      "visibility": null,
      "width": null
     }
    },
    "f108e13198ce4b979503bfde278a6040": {
     "model_module": "@jupyter-widgets/controls",
     "model_module_version": "1.5.0",
     "model_name": "FloatProgressModel",
     "state": {
      "_dom_classes": [],
      "_model_module": "@jupyter-widgets/controls",
      "_model_module_version": "1.5.0",
      "_model_name": "FloatProgressModel",
      "_view_count": null,
      "_view_module": "@jupyter-widgets/controls",
      "_view_module_version": "1.5.0",
      "_view_name": "ProgressView",
      "bar_style": "success",
      "description": "",
      "description_tooltip": null,
      "layout": "IPY_MODEL_90e353a41cf342bab3f56d754fa6917d",
      "max": 147,
      "min": 0,
      "orientation": "horizontal",
      "style": "IPY_MODEL_f526829ec1d345c38cc55c47b0a687d5",
      "value": 147
     }
    },
    "f526829ec1d345c38cc55c47b0a687d5": {
     "model_module": "@jupyter-widgets/controls",
     "model_module_version": "1.5.0",
     "model_name": "ProgressStyleModel",
     "state": {
      "_model_module": "@jupyter-widgets/controls",
      "_model_module_version": "1.5.0",
      "_model_name": "ProgressStyleModel",
      "_view_count": null,
      "_view_module": "@jupyter-widgets/base",
      "_view_module_version": "1.2.0",
      "_view_name": "StyleView",
      "bar_color": null,
      "description_width": ""
     }
    },
    "fdd4ca3271354bfe86245737ca650e22": {
     "model_module": "@jupyter-widgets/base",
     "model_module_version": "1.2.0",
     "model_name": "LayoutModel",
     "state": {
      "_model_module": "@jupyter-widgets/base",
      "_model_module_version": "1.2.0",
      "_model_name": "LayoutModel",
      "_view_count": null,
      "_view_module": "@jupyter-widgets/base",
      "_view_module_version": "1.2.0",
      "_view_name": "LayoutView",
      "align_content": null,
      "align_items": null,
      "align_self": null,
      "border": null,
      "bottom": null,
      "display": null,
      "flex": null,
      "flex_flow": null,
      "grid_area": null,
      "grid_auto_columns": null,
      "grid_auto_flow": null,
      "grid_auto_rows": null,
      "grid_column": null,
      "grid_gap": null,
      "grid_row": null,
      "grid_template_areas": null,
      "grid_template_columns": null,
      "grid_template_rows": null,
      "height": null,
      "justify_content": null,
      "justify_items": null,
      "left": null,
      "margin": null,
      "max_height": null,
      "max_width": null,
      "min_height": null,
      "min_width": null,
      "object_fit": null,
      "object_position": null,
      "order": null,
      "overflow": null,
      "overflow_x": null,
      "overflow_y": null,
      "padding": null,
      "right": null,
      "top": null,
      "visibility": null,
      "width": null
     }
    },
    "fe545047949445b291f79d0c8a0cab4b": {
     "model_module": "@jupyter-widgets/controls",
     "model_module_version": "1.5.0",
     "model_name": "HTMLModel",
     "state": {
      "_dom_classes": [],
      "_model_module": "@jupyter-widgets/controls",
      "_model_module_version": "1.5.0",
      "_model_name": "HTMLModel",
      "_view_count": null,
      "_view_module": "@jupyter-widgets/controls",
      "_view_module_version": "1.5.0",
      "_view_name": "HTMLView",
      "description": "",
      "description_tooltip": null,
      "layout": "IPY_MODEL_0c7af8fb4cb04ffd8b67be6bff90f53a",
      "placeholder": "​",
      "style": "IPY_MODEL_07c61f5fa45842e19156067d4055c0bb",
      "value": " 1.39M/1.39M [00:00&lt;00:00, 1.43MB/s]"
     }
    }
   }
  }
 },
 "nbformat": 4,
 "nbformat_minor": 4
}
