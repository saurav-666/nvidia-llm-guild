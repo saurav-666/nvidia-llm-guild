{
 "cells": [
  {
   "cell_type": "markdown",
   "id": "74a86981",
   "metadata": {},
   "source": [
    "<a href=\"https://www.nvidia.com/dli\"> <img src=\"images/DLI_Header.png\" alt=\"Header\" style=\"width: 400px;\"/> </a>"
   ]
  },
  {
   "cell_type": "markdown",
   "id": "d861ceeb",
   "metadata": {
    "tags": []
   },
   "source": [
    "# 3.0 NVIDIA GPU Cloud (NGC) Setup \n",
    "**This setup is required before continuing to other notebooks.**\n",
    "\n",
    "The NGC™ catalog is a hub of GPU-optimized AI, high-performance computing (HPC), and data analytics software that simplifies and accelerates end-to-end workflows. It includes enterprise-grade containers, pretrained AI models, and industry-specific SDKs. In this class, you'll install various speech AI resources this way and you'll need an NVIDIA GPU Cloud (NGC) account and API key.  For more information on NGC, please refer to the [NGC Overview](https://docs.nvidia.com/ngc/gpu-cloud/ngc-overview/index.html#accessing-ngc-softwarehttps://docs.nvidia.com/ngc/gpu-cloud/ngc-overview/index.html#accessing-ngc-software) documentation.<br>\n",
    "\n",
    "If you have not done so already, please\n",
    "1. [Log into NGC with your NVIDIA account](https://ngc.nvidia.com/signin)\n",
    "    - If you haven't logged in to NGC before, complete the registration process following the prompts\n",
    "3. [Generate your NGC API key](https://ngc.nvidia.com/setup/api-key) and save it in a safe location\n",
    "   - Go to to the _Setup_ submenu under your login name in the upper right corner\n",
    "   - Choose \"Get API Key\" and follow the instructions provided there\n",
    "   - Be sure to use a Chrome or Edge browser for this step\n",
    "\n",
    "Once you have your API key, complete the following steps to log in to Docker and set up NGC CLI credentials so that you can access containers and models later in the course. "
   ]
  },
  {
   "cell_type": "markdown",
   "id": "d1199b4f-f81c-49a8-82d1-6bfdc211c326",
   "metadata": {},
   "source": [
    "## Step 1: Log In to the NGC Registry from Docker\n",
    "\n",
    "Edit the following cell by replacing **MY_NGC_API_KEY** with your key. Then, execute the three cells.  This step will log you into the NGC Docker registry so you will be able to pull containers from NGC.  This is required in order to use the Riva Speech server."
   ]
  },
  {
   "cell_type": "code",
   "execution_count": null,
   "id": "a0488fc1-367f-4a0e-b65d-1c97007faa7c",
   "metadata": {
    "tags": []
   },
   "outputs": [],
   "source": [
    "# Replace MY_NGC_API_KEY with your generated NGC API key\n",
    "api_key = \"MY_NGC_API_KEY\""
   ]
  },
  {
   "cell_type": "code",
   "execution_count": null,
   "id": "c2a7df0f-a6e4-4cf2-8d10-c144d664d962",
   "metadata": {
    "tags": []
   },
   "outputs": [],
   "source": [
    "import os\n",
    "os.environ[\"api_key\"] = api_key"
   ]
  },
  {
   "cell_type": "code",
   "execution_count": null,
   "id": "7fcc101f-49d3-4114-b4bf-af1d7ea00b1f",
   "metadata": {
    "tags": []
   },
   "outputs": [],
   "source": [
    "# Once logged in, you'll see \"Login Suceeded\"\n",
    "# If the cell is slow, it is probably because Docker is loading images in background; please be patient\n",
    "!docker login -u '$oauthtoken' -p $api_key nvcr.io"
   ]
  },
  {
   "cell_type": "markdown",
   "id": "39c3bdf9-8f03-4600-940b-27a410a4625c",
   "metadata": {},
   "source": [
    "## Step 2: NGC CLI Configuration\n",
    "The [NGC command line](https://docs.ngc.nvidia.com/cli/cmd.html) utility enables you to conveniently pull models and resources from NGC using your API key.  The NGC CLI utility is already installed for the course, but it needs to be configured. \n",
    "\n",
    "Execute the next two cells to configure NGC CLI with the API key which you used in the previous step. Note that you can also configure NGC CLI from a terminal, which would create the config file using a dialog.  We are doing it this way for convenience.  "
   ]
  },
  {
   "cell_type": "code",
   "execution_count": null,
   "id": "f23114a4-3f14-4670-bcad-6fb38fba530b",
   "metadata": {
    "tags": []
   },
   "outputs": [],
   "source": [
    "%%bash\n",
    "cat << EOF >> config\n",
    ";WARNING - This is a machine generated file.  Do not edit manually.\n",
    ";WARNING - To update local config settings, see \"ngc config set -h\"\n",
    "\n",
    "[CURRENT]\n",
    "apikey = $api_key\n",
    "format_type = json\n",
    "org = nvidia\n",
    "EOF"
   ]
  },
  {
   "cell_type": "code",
   "execution_count": null,
   "id": "df958a8a-13de-4d30-b83d-a3e6e9aa6f5a",
   "metadata": {
    "tags": []
   },
   "outputs": [],
   "source": [
    "%%bash\n",
    "mkdir -p ~/.ngc\n",
    "mv config ~/.ngc/"
   ]
  },
  {
   "cell_type": "markdown",
   "id": "3419bbf2",
   "metadata": {
    "tags": []
   },
   "source": [
    "## Step 3: Download Riva Skills Quick Start from NGC\n",
    "Run the following cell to execute the download from NGC.  \n",
    "\n",
    "If this works correctly, you'll see an output with information about the output that looks similar to:\n",
    "\n",
    "```\n",
    "{\n",
    "    \"download_end\": \"2023-02-25 00:06:55.683119\",\n",
    "    \"download_start\": \"2023-02-25 00:06:53.679792\",\n",
    "    \"download_time\": \"2s\",\n",
    "    \"files_downloaded\": 18,\n",
    "    \"local_path\": \"/dli_workspace/riva_quickstart_v2.8.1\",\n",
    "    \"size_downloaded\": \"52.38 KB\",\n",
    "    \"status\": \"Completed\",\n",
    "    \"transfer_id\": \"riva_quickstart_v2.8.1\"\n",
    "}\n",
    "```"
   ]
  },
  {
   "cell_type": "code",
   "execution_count": null,
   "id": "27b2fc94",
   "metadata": {},
   "outputs": [],
   "source": [
    "%%bash\n",
    "cd dli_workspace\n",
    "rm -rf riva_quickstart # remove old copy\n",
    "ngc registry resource download-version \"nvidia/riva/riva_quickstart:2.8.1\"\n",
    "mv riva_quickstart_v2.8.1 riva_quickstart\n",
    "chmod +x riva_quickstart/*.sh\n",
    "sed -i '/--name riva-service-maker*/a \\              --network host \\\\' riva_quickstart/riva_init.sh"
   ]
  },
  {
   "cell_type": "markdown",
   "id": "39caf760",
   "metadata": {},
   "source": [
    "---\n",
    "<h2 style=\"color:green;\">Congratulations!</h2>\n",
    "\n",
    "You've learned how to:\n",
    "- Log into Docker for access to the NGC registry with your API key\n",
    "- Download prebuilt ASR pipeline components with the NGC CLI\n",
    "\n",
    "Move on to the [ASR Pipeline With NVIDIA NeMo](004_ASR_Pipeline.ipynb) notebook."
   ]
  },
  {
   "cell_type": "markdown",
   "id": "86af4087",
   "metadata": {},
   "source": [
    "<a href=\"https://www.nvidia.com/dli\"> <img src=\"images/DLI_Header.png\" alt=\"Header\" style=\"width: 400px;\"/> </a>"
   ]
  }
 ],
 "metadata": {
  "kernelspec": {
   "display_name": "Python 3 (ipykernel)",
   "language": "python",
   "name": "python3"
  },
  "language_info": {
   "codemirror_mode": {
    "name": "ipython",
    "version": 3
   },
   "file_extension": ".py",
   "mimetype": "text/x-python",
   "name": "python",
   "nbconvert_exporter": "python",
   "pygments_lexer": "ipython3",
   "version": "3.8.13"
  }
 },
 "nbformat": 4,
 "nbformat_minor": 5
}
