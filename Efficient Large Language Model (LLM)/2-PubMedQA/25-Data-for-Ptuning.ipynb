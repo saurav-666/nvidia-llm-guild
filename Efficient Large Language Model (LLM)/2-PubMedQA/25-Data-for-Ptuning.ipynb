{
 "cells": [
  {
   "cell_type": "markdown",
   "id": "189a1980-f106-4b52-a940-458919edd081",
   "metadata": {},
   "source": [
    "![NVIDIA Logo](images/nvidia.png)"
   ]
  },
  {
   "cell_type": "markdown",
   "id": "b184d876-bded-4fb1-a427-836551a5d1fd",
   "metadata": {},
   "source": [
    "# Data for P-tuning"
   ]
  },
  {
   "cell_type": "markdown",
   "id": "c5379c1e-5d67-4cc3-9683-140fd4b62f3a",
   "metadata": {},
   "source": [
    "In this notebook we look at the requirements for data when p-tuning, specifically on NeMo Service, and prep the pubmedqa data for p-tuning."
   ]
  },
  {
   "cell_type": "markdown",
   "id": "82ed584b-3637-4ba6-bb5b-e2f070a7e4cb",
   "metadata": {},
   "source": [
    "---"
   ]
  },
  {
   "cell_type": "markdown",
   "id": "d1fe3d0d-04a9-4364-b41a-ad198793c03a",
   "metadata": {},
   "source": [
    "## Learning Objectives"
   ]
  },
  {
   "cell_type": "markdown",
   "id": "36099256-2b94-4553-bb00-c5af1d74eb81",
   "metadata": {},
   "source": [
    "By the time you complete this notebook you will be able to:\n",
    "- Format the PubMedQA data for p-tuning.\n",
    "- Know how to upload p-tuning data to NeMo Service."
   ]
  },
  {
   "cell_type": "markdown",
   "id": "496f4029-c000-4e64-8051-a6298648803e",
   "metadata": {},
   "source": [
    "---"
   ]
  },
  {
   "cell_type": "markdown",
   "id": "ab7ebba2-3a93-463f-9eec-c6b1babf206a",
   "metadata": {},
   "source": [
    "## Imports"
   ]
  },
  {
   "cell_type": "code",
   "execution_count": null,
   "id": "cfd69037-5e1b-48be-baf5-69505f45e280",
   "metadata": {},
   "outputs": [],
   "source": [
    "import json\n",
    "import random\n",
    "\n",
    "from llm_utils.pubmedqa import generate_prompt_and_answer\n",
    "from llm_utils.mocks import upload"
   ]
  },
  {
   "cell_type": "markdown",
   "id": "037c057b-9ba8-4156-b37a-b4d9a65c3d7a",
   "metadata": {},
   "source": [
    "---"
   ]
  },
  {
   "cell_type": "markdown",
   "id": "f0c96b23-1306-4cf7-bc22-be1a0308b33b",
   "metadata": {},
   "source": [
    "## Load Data"
   ]
  },
  {
   "cell_type": "markdown",
   "id": "c1370478-2b73-4e38-9b59-16e3cc0f3789",
   "metadata": {},
   "source": [
    "First we'll load the train and validate splits we made a few notebooks back."
   ]
  },
  {
   "cell_type": "code",
   "execution_count": null,
   "id": "990f64ef-009c-4f1a-a1cc-e9c15e9e6128",
   "metadata": {},
   "outputs": [],
   "source": [
    "pubmedqa_train_data = json.load(open('data/pubmedqa_train.json','r'))\n",
    "pubmedqa_validate_data = json.load(open('data/pubmedqa_validate.json','r'))"
   ]
  },
  {
   "cell_type": "markdown",
   "id": "2d265561-097f-4895-9c15-bae4f70adcc7",
   "metadata": {},
   "source": [
    "---"
   ]
  },
  {
   "cell_type": "markdown",
   "id": "37dc35f4-3ef5-44e9-be14-5510cc69e08d",
   "metadata": {},
   "source": [
    "## Process Data in Prep for Prompts"
   ]
  },
  {
   "cell_type": "markdown",
   "id": "7a2e299e-718c-4198-b33b-0654a345c2e8",
   "metadata": {},
   "source": [
    "We have been working with the test data in the last few notebooks, and not the train and validation data, and we have not yet formatted either of them into the `prompts_and_answers` format we have been working with, so let's do that first."
   ]
  },
  {
   "cell_type": "code",
   "execution_count": null,
   "id": "eb3293fc-0070-4bdf-a3c1-0ee59f2feee9",
   "metadata": {},
   "outputs": [],
   "source": [
    "train_prompts_and_answers = []\n",
    "for value in pubmedqa_train_data.values():\n",
    "    train_prompts_and_answers.append(generate_prompt_and_answer(value))"
   ]
  },
  {
   "cell_type": "code",
   "execution_count": null,
   "id": "852840ab-d1be-4055-b93f-02697e1f78de",
   "metadata": {},
   "outputs": [],
   "source": [
    "validate_prompts_and_answers = []\n",
    "for value in pubmedqa_validate_data.values():\n",
    "    validate_prompts_and_answers.append(generate_prompt_and_answer(value))"
   ]
  },
  {
   "cell_type": "code",
   "execution_count": null,
   "id": "7f0545d6-0d4d-4e55-93b7-2cb08097d7b0",
   "metadata": {},
   "outputs": [],
   "source": [
    "sample_prompt = train_prompts_and_answers[0][0]\n",
    "sample_answer = train_prompts_and_answers[0][1]"
   ]
  },
  {
   "cell_type": "code",
   "execution_count": null,
   "id": "d6de21c6-8902-493e-a3a2-3c68aee5d774",
   "metadata": {},
   "outputs": [],
   "source": [
    "print(sample_prompt)"
   ]
  },
  {
   "cell_type": "code",
   "execution_count": null,
   "id": "fc339b97-cf33-465d-af90-0b60d691fcfe",
   "metadata": {},
   "outputs": [],
   "source": [
    "sample_answer"
   ]
  },
  {
   "cell_type": "markdown",
   "id": "da7c6fdc-568a-455c-8f8f-8a9f455c4673",
   "metadata": {},
   "source": [
    "---"
   ]
  },
  {
   "cell_type": "markdown",
   "id": "e9a8fcff-86fa-45a6-86b8-42de6438c7ae",
   "metadata": {},
   "source": [
    "## Format Data for P-tuning"
   ]
  },
  {
   "cell_type": "markdown",
   "id": "592eea2f-1b58-42f4-bd2b-a727a034aa3e",
   "metadata": {},
   "source": [
    "When p-tuning with the NeMo Service it is expected that data be in JSON Lines (`jsonl`) format, with each line in the file being in the following format:"
   ]
  },
  {
   "cell_type": "markdown",
   "id": "1b6ad9da-44ef-44da-b43a-508c456f8e08",
   "metadata": {},
   "source": [
    "```python\n",
    "{\"prompt\": <prompt>, \"completion\": <completion/label>}\n",
    "```"
   ]
  },
  {
   "cell_type": "code",
   "execution_count": null,
   "id": "6b69bf80-265a-4716-91be-062b4ed70dae",
   "metadata": {},
   "outputs": [],
   "source": [
    "ptuning_train_data_list = [{'prompt': prompt, 'completion': answer} for prompt, answer in train_prompts_and_answers]"
   ]
  },
  {
   "cell_type": "code",
   "execution_count": null,
   "id": "f04a7aef-d88d-404b-8a11-943b2b3b1c22",
   "metadata": {},
   "outputs": [],
   "source": [
    "ptuning_vallidation_data_list = [{'prompt': prompt, 'completion': answer} for prompt, answer in validate_prompts_and_answers]"
   ]
  },
  {
   "cell_type": "markdown",
   "id": "f5686113-17d2-42f1-ba0d-d2f39f47a322",
   "metadata": {},
   "source": [
    "Here we see an example of data well-formatted for p-tuning."
   ]
  },
  {
   "cell_type": "code",
   "execution_count": null,
   "id": "4f5e779f-c264-41fc-95f1-94cd1b4488ff",
   "metadata": {},
   "outputs": [],
   "source": [
    "ptuning_train_data_list[0]"
   ]
  },
  {
   "cell_type": "markdown",
   "id": "c1986768-4f0a-4a02-a0cc-f309249bcbb5",
   "metadata": {},
   "source": [
    "---"
   ]
  },
  {
   "cell_type": "markdown",
   "id": "4e5d8fc8-3295-4a2d-bee8-fdd209eb39a9",
   "metadata": {},
   "source": [
    "## Write P-tuning Data to File"
   ]
  },
  {
   "cell_type": "markdown",
   "id": "c42e3e59-b0e8-4e8f-8a95-b806a07637c8",
   "metadata": {},
   "source": [
    "We will ultimately upload our p-tuning data to the NeMo Service where it can be used for p-tuning. First we need to write it to file."
   ]
  },
  {
   "cell_type": "code",
   "execution_count": null,
   "id": "78ea2b58-2254-4e76-ae7b-4fd4dbababb5",
   "metadata": {},
   "outputs": [],
   "source": [
    "ptuning_train_data_filename = f'data/pubmedqa-train-data.jsonl'"
   ]
  },
  {
   "cell_type": "code",
   "execution_count": null,
   "id": "47271cab-2fbb-406c-b0b7-ba62c85ed85c",
   "metadata": {},
   "outputs": [],
   "source": [
    "ptuning_validation_data_filename = f'data/pubmedqa-validation-data.jsonl'"
   ]
  },
  {
   "cell_type": "code",
   "execution_count": null,
   "id": "4746e9a0-8d4c-4730-b7da-aec2eb6c4e08",
   "metadata": {},
   "outputs": [],
   "source": [
    "with open(ptuning_train_data_filename, 'w') as f:\n",
    "    for ptuning_data in ptuning_train_data_list:\n",
    "        f.write(json.dumps(ptuning_data) + '\\n')"
   ]
  },
  {
   "cell_type": "code",
   "execution_count": null,
   "id": "217c03ed-c9bc-4e69-a261-8dadfd89d9a9",
   "metadata": {},
   "outputs": [],
   "source": [
    "with open(ptuning_validation_data_filename, 'w') as f:\n",
    "    for ptuning_data in ptuning_vallidation_data_list:\n",
    "        f.write(json.dumps(ptuning_data) + '\\n')"
   ]
  },
  {
   "cell_type": "markdown",
   "id": "93e2e02a-5f3c-4c3a-a893-cfe80a8843c4",
   "metadata": {},
   "source": [
    "---"
   ]
  },
  {
   "cell_type": "markdown",
   "id": "3f5dfbe9-4a1f-4576-a4b7-067fe9a462b1",
   "metadata": {},
   "source": [
    "## NeMo Service Mocking"
   ]
  },
  {
   "cell_type": "markdown",
   "id": "66783bd2-4273-42ff-ad24-e85996953d06",
   "metadata": {},
   "source": [
    "There are two scenarios in this workshop where instead of you working directly with the real NeMo Service, you are going to interact with mocks. The first, which we will discuss here, is when uploading data files. The primary reason for this is that with many students interacting with the same NeMo Service account at the same time, keeping track of all your specific files will get cumbersome quick.\n",
    "\n",
    "Rather, we will provide mock functions that will simulate the real functions you would call if you were working with your own account."
   ]
  },
  {
   "cell_type": "markdown",
   "id": "30053aa2-6c40-4cbf-90f7-d7f75924f93c",
   "metadata": {},
   "source": [
    "---"
   ]
  },
  {
   "cell_type": "markdown",
   "id": "ea84da8f-480b-4765-8f49-3fb559c7a1d1",
   "metadata": {},
   "source": [
    "## Upload Data to NeMo Service"
   ]
  },
  {
   "cell_type": "markdown",
   "id": "6c1cd0be-1f8e-493b-b1a0-4ed082317cc9",
   "metadata": {},
   "source": [
    "Uploading data to the NeMo Service is straight forward. Typically you would create a `conn` object with the NeMo Service as we did in the first notebook and then use its `upload` method, passing it the file path of the file you would like to upload. In our case, we will use a mock `upload` method that we have provided for you, and view the (mock) response that it generates."
   ]
  },
  {
   "cell_type": "code",
   "execution_count": null,
   "id": "b476be33-6242-421d-b48c-2f09323cfe81",
   "metadata": {},
   "outputs": [],
   "source": [
    "train_response = upload(ptuning_train_data_filename)"
   ]
  },
  {
   "cell_type": "code",
   "execution_count": null,
   "id": "4508eb01-52af-4e50-b755-ea4d11a0495b",
   "metadata": {},
   "outputs": [],
   "source": [
    "train_response"
   ]
  },
  {
   "cell_type": "code",
   "execution_count": null,
   "id": "ded8a70d-fb19-46d2-8e68-e8da72333396",
   "metadata": {},
   "outputs": [],
   "source": [
    "validation_response = upload(ptuning_validation_data_filename)"
   ]
  },
  {
   "cell_type": "code",
   "execution_count": null,
   "id": "c36de78d-8c96-4b99-a48e-e7fe6b7c83fa",
   "metadata": {},
   "outputs": [],
   "source": [
    "validation_response"
   ]
  },
  {
   "cell_type": "markdown",
   "id": "64f9524e-4ead-4290-a12e-8e1d99284601",
   "metadata": {},
   "source": [
    "Working with the NeMo Service API as we are doing in this workshop, we would want to keep track of the `id` field returned in the response so that later, when performing p-tuning, we can use it to specify the uploaded data that we would like to use in the p-tuning process.\n",
    "\n",
    "In this workshop we have provided a setup for you where you do not need to keep track of the IDs yourself."
   ]
  }
 ],
 "metadata": {
  "kernelspec": {
   "display_name": "Python 3 (ipykernel)",
   "language": "python",
   "name": "python3"
  },
  "language_info": {
   "codemirror_mode": {
    "name": "ipython",
    "version": 3
   },
   "file_extension": ".py",
   "mimetype": "text/x-python",
   "name": "python",
   "nbconvert_exporter": "python",
   "pygments_lexer": "ipython3",
   "version": "3.12.1"
  }
 },
 "nbformat": 4,
 "nbformat_minor": 5
}
