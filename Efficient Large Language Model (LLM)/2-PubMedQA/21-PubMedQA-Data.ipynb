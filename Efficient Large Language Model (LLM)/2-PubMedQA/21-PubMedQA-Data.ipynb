{
 "cells": [
  {
   "cell_type": "markdown",
   "id": "ccb3c321-129a-4ac7-8eb2-8946cb30a56f",
   "metadata": {},
   "source": [
    "![NVIDIA Logo](images/nvidia.png)"
   ]
  },
  {
   "cell_type": "markdown",
   "id": "ff11d997-778a-492c-955a-9ac545239bb3",
   "metadata": {},
   "source": [
    "# PubMedQA Dataset"
   ]
  },
  {
   "cell_type": "markdown",
   "id": "5237a605-dd48-44f9-bb0b-06d957c59957",
   "metadata": {},
   "source": [
    "In this notebook we will familiarize ourselves with the PubMedQA data, in preparation for subsequent experiments."
   ]
  },
  {
   "cell_type": "markdown",
   "id": "1eb76949-7875-44e1-99e5-70cf24af381e",
   "metadata": {},
   "source": [
    "---"
   ]
  },
  {
   "cell_type": "markdown",
   "id": "59c6636f-3fa1-4f73-ba68-83697f4e0671",
   "metadata": {},
   "source": [
    "## Learning Objectives"
   ]
  },
  {
   "cell_type": "markdown",
   "id": "8c652239-bbfe-42ba-9219-b784c83abdac",
   "metadata": {},
   "source": [
    "By the time you complete this notebook you will:\n",
    "- Be familiar with the format of the PubMedQA dataset."
   ]
  },
  {
   "cell_type": "markdown",
   "id": "1d610760-ca6b-47d1-8ec2-0197307d5d59",
   "metadata": {},
   "source": [
    "---"
   ]
  },
  {
   "cell_type": "markdown",
   "id": "111806ac-a4df-42f9-8372-b68d0925314c",
   "metadata": {},
   "source": [
    "## Imports"
   ]
  },
  {
   "cell_type": "code",
   "execution_count": null,
   "id": "cfd69037-5e1b-48be-baf5-69505f45e280",
   "metadata": {},
   "outputs": [],
   "source": [
    "import json\n",
    "import random\n",
    "from itertools import islice"
   ]
  },
  {
   "cell_type": "markdown",
   "id": "a12619df-6807-4155-b058-b31e914c83a7",
   "metadata": {},
   "source": [
    "---"
   ]
  },
  {
   "cell_type": "markdown",
   "id": "1a15727a-a4a2-4f5a-aad9-7114acdc6834",
   "metadata": {},
   "source": [
    "## Clone PubMedQA"
   ]
  },
  {
   "cell_type": "markdown",
   "id": "663631ad-5d07-46dc-a5b8-1eeb72d8800f",
   "metadata": {},
   "source": [
    "[PubMedQA](https://pubmedqa.github.io) is a dataset designed for question answering and biomedical natural language processing research. It's based on abstracts from PubMed, a free search engine accessing primarily the MEDLINE database of references and abstracts on life sciences and biomedical topics. For a deeper dive check out the [PubMedQA Paper](https://users.cs.duke.edu/~bdhingra/papers/pubmedqa.pdf).\n",
    "\n",
    "We will be cloning the PubMedQA github repo to get access to the PubMedQA data we will be using for P-tuning."
   ]
  },
  {
   "cell_type": "code",
   "execution_count": null,
   "id": "bc19b9dd",
   "metadata": {
    "tags": []
   },
   "outputs": [],
   "source": [
    "!rm -rf pubmedqa\n",
    "!git clone https://github.com/pubmedqa/pubmedqa"
   ]
  },
  {
   "cell_type": "markdown",
   "id": "9d3facc3-1278-459b-bccb-ae1f24eebd00",
   "metadata": {},
   "source": [
    "---"
   ]
  },
  {
   "cell_type": "markdown",
   "id": "c95e4ebc-faad-4ec5-ad3f-d6c9bc22fc26",
   "metadata": {},
   "source": [
    "## Load Data"
   ]
  },
  {
   "cell_type": "markdown",
   "id": "8d9d55e0-19c6-41ab-932d-d27479302953",
   "metadata": {},
   "source": [
    "`ori_pqal.json` contains 1000 labeled samples."
   ]
  },
  {
   "cell_type": "code",
   "execution_count": null,
   "id": "fedf38ee-a47a-466f-b87c-e20e4a4830fa",
   "metadata": {},
   "outputs": [],
   "source": [
    "pubmed_data = json.load(open('pubmedqa/data/ori_pqal.json'))"
   ]
  },
  {
   "cell_type": "code",
   "execution_count": null,
   "id": "aa56453f-4c2f-490f-bb10-43b816db2a29",
   "metadata": {},
   "outputs": [],
   "source": [
    "len(pubmed_data)"
   ]
  },
  {
   "cell_type": "markdown",
   "id": "7ed19eed-4d48-431e-934f-e75906e68a28",
   "metadata": {},
   "source": [
    "---"
   ]
  },
  {
   "cell_type": "markdown",
   "id": "fff4b85b-36ee-4660-8b3b-6515b7a7639d",
   "metadata": {},
   "source": [
    "## View Raw sample"
   ]
  },
  {
   "cell_type": "markdown",
   "id": "4495c81f-30d8-47de-8d41-5498756cb143",
   "metadata": {},
   "source": [
    "Below is a single raw sample from the dataset."
   ]
  },
  {
   "cell_type": "code",
   "execution_count": null,
   "id": "a0b32c10-759e-4423-be80-2772dfd5fdc6",
   "metadata": {},
   "outputs": [],
   "source": [
    "for id, info in islice(pubmed_data.items(), 1):\n",
    "    print(info)"
   ]
  },
  {
   "cell_type": "markdown",
   "id": "fd4f7455-4488-49f5-b1aa-b8c44b0053ed",
   "metadata": {},
   "source": [
    "---"
   ]
  },
  {
   "cell_type": "markdown",
   "id": "733e9456-ed73-491f-b4dd-617a84ab0ca5",
   "metadata": {},
   "source": [
    "## Formatted Samples"
   ]
  },
  {
   "attachments": {},
   "cell_type": "markdown",
   "id": "a25678e0-cd9d-4d76-b04f-3418ced28b4f",
   "metadata": {},
   "source": [
    "For our purposes we are interested, for each sample, in:\n",
    "- `'QUESTION'`, which is intended to be answered as either \"yes\", \"no\" or \"maybe\".\n",
    "- `'CONTEXTS'` which provide information relevant to the question. Each sample may have several contexts, and each context has a corresponding context label, provided in `'LABELS`'.\n",
    "- `'final_decision'` which is the correct answer.\n",
    "\n",
    "Here we print one sample for each of the 3 possible answers, including the question, contexts and label."
   ]
  },
  {
   "cell_type": "code",
   "execution_count": null,
   "id": "3d79cea7-5ee5-492e-a597-db41096d93eb",
   "metadata": {},
   "outputs": [],
   "source": [
    "possible_answers = {'yes', 'no', 'maybe'}\n",
    "for sample in pubmed_data.values():\n",
    "    if not len(possible_answers):\n",
    "        break\n",
    "    label = sample['final_decision']\n",
    "    if label in possible_answers:\n",
    "        possible_answers.remove(label)\n",
    "\n",
    "        print('CONTEXTS\\n--------\\n')\n",
    "        for context_label, context in zip(sample['LABELS'], sample['CONTEXTS']):\n",
    "            print(f\"{context_label}: {context}\\n\")\n",
    "        print(f'QUESTION: {sample['QUESTION']}\\n')\n",
    "        print(f'LABEL: {label}')\n",
    "        print('\\n---\\n')"
   ]
  },
  {
   "cell_type": "markdown",
   "id": "85ffc4b0-0916-46e3-99e8-8c83ea91e1db",
   "metadata": {},
   "source": [
    "---"
   ]
  },
  {
   "cell_type": "markdown",
   "id": "a8c292ac-0e9f-43fa-b836-6a12991f6e82",
   "metadata": {},
   "source": [
    "## Split Data"
   ]
  },
  {
   "cell_type": "markdown",
   "id": "815a7889-4bc8-43c9-a2bf-39d1bb799d4d",
   "metadata": {},
   "source": [
    "We have provided the splits for the PubMedQA dataset for you, but if you're curious here you can view how we performed the splits."
   ]
  },
  {
   "cell_type": "markdown",
   "id": "9646ce6b-d95a-4f57-98bb-ffbbbf53f360",
   "metadata": {},
   "source": [
    "```python\n",
    "# Load the JSON data\n",
    "with open('pubmedqa/data/ori_pqal.json', 'r') as file:\n",
    "    data = json.load(file)\n",
    "\n",
    "# Convert the dictionary to a list of items and shuffle\n",
    "items = list(data.items())\n",
    "random.shuffle(items)\n",
    "\n",
    "# Split the data\n",
    "train_split = int(0.7 * len(items))  # 70% for training\n",
    "validate_split = int(0.85 * len(items))  # Additional 15% for validation\n",
    "\n",
    "train_items = items[:train_split]\n",
    "validate_items = items[train_split:validate_split]\n",
    "test_items = items[validate_split:]\n",
    "\n",
    "# Convert the lists back to dictionaries\n",
    "train_data = dict(train_items)\n",
    "validate_data = dict(validate_items)\n",
    "test_data = dict(test_items)\n",
    "\n",
    "print(len(train_data))\n",
    "print(len(validate_data))\n",
    "print(len(test_data))\n",
    "\n",
    "# Save the splits to new JSON files\n",
    "with open('data/pubmedqa_train.json', 'w') as file:\n",
    "    json.dump(train_data, file, indent=4)\n",
    "\n",
    "with open('data/pubmedqa_validate.json', 'w') as file:\n",
    "    json.dump(validate_data, file, indent=4)\n",
    "\n",
    "with open('data/pubmedqa_test.json', 'w') as file:\n",
    "    json.dump(test_data, file, indent=4)\n",
    "```"
   ]
  }
 ],
 "metadata": {
  "kernelspec": {
   "display_name": "Python 3 (ipykernel)",
   "language": "python",
   "name": "python3"
  },
  "language_info": {
   "codemirror_mode": {
    "name": "ipython",
    "version": 3
   },
   "file_extension": ".py",
   "mimetype": "text/x-python",
   "name": "python",
   "nbconvert_exporter": "python",
   "pygments_lexer": "ipython3",
   "version": "3.12.1"
  }
 },
 "nbformat": 4,
 "nbformat_minor": 5
}
