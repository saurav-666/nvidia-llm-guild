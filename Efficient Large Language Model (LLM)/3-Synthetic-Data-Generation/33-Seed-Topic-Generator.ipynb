{
 "cells": [
  {
   "cell_type": "markdown",
   "id": "675ec44c-ab9b-4119-87be-c486d1e61de1",
   "metadata": {},
   "source": [
    "![NVIDIA Logo](images/nvidia.png)"
   ]
  },
  {
   "cell_type": "markdown",
   "id": "3da992d2-2293-4519-8ebb-5a856db69642",
   "metadata": {
    "tags": []
   },
   "source": [
    "# Project: Seed Topic Generation"
   ]
  },
  {
   "cell_type": "markdown",
   "id": "6bbc17e9-2bc4-4064-b28b-ac34d58c01d9",
   "metadata": {},
   "source": [
    "In this notebook you will be making synthetic data preparations to fine-tune a GPT8B model for list generation, using our current GPT43B list generator to generate the synthetic data."
   ]
  },
  {
   "cell_type": "markdown",
   "id": "58ea5489-f46a-46a2-8c01-dc354b051bef",
   "metadata": {},
   "source": [
    "---"
   ]
  },
  {
   "cell_type": "markdown",
   "id": "24069637-80eb-4613-98e3-1c516b35f981",
   "metadata": {},
   "source": [
    "## Learning Objectives"
   ]
  },
  {
   "cell_type": "markdown",
   "id": "d88ac8c0-9e22-45bc-967c-5976ddd57114",
   "metadata": {},
   "source": [
    "By the time you complete this notebook you will be able to:\n",
    "- Use `generate_list` to generate 100 seed topics for future efforts in synthetic data generation.\n",
    "- Efficiently edit simple synthetically generated text data."
   ]
  },
  {
   "cell_type": "markdown",
   "id": "874c32c9-9909-4fba-8c61-5a41d3ff0ab6",
   "metadata": {},
   "source": [
    "---"
   ]
  },
  {
   "cell_type": "markdown",
   "id": "1f12ce63-7179-405b-86cf-03e49f51f354",
   "metadata": {},
   "source": [
    "## Imports"
   ]
  },
  {
   "cell_type": "code",
   "execution_count": null,
   "id": "2807cfa5-a29a-4e8b-ac92-063655341429",
   "metadata": {},
   "outputs": [],
   "source": [
    "import json\n",
    "import ast\n",
    "import random\n",
    "\n",
    "from tqdm.notebook import tqdm\n",
    "\n",
    "from llm_utils.models import Models\n",
    "from llm_utils.nemo_service_models import NemoServiceBaseModel\n",
    "from llm_utils.helpers import edit_list\n",
    "from llm_utils.llm_functions import generate_list_43B as generate_list"
   ]
  },
  {
   "cell_type": "markdown",
   "id": "d0eb4035-da36-4220-9a23-188109ffbda8",
   "metadata": {},
   "source": [
    "---"
   ]
  },
  {
   "cell_type": "markdown",
   "id": "1c498dc4-36cb-42cd-b179-020fddd24ce2",
   "metadata": {},
   "source": [
    "## Sufficient Amounts of Diverse Data"
   ]
  },
  {
   "cell_type": "markdown",
   "id": "bb9ac780-baf9-41ae-b296-31a45c2a5e0f",
   "metadata": {},
   "source": [
    "When we generate synthetic data we need a sufficient amount of data and often, as is the case with PEFT, data that is diverse.\n",
    "\n",
    "In the last notebook we created a tool in `generate_list` that starts us in the right direction. `generate_list` can successfully (though not always perfectly) create roughly 7 items on just about any given topic you should wish.\n",
    "\n",
    "With that in mind, if we wanted to begin generating some kind of synthetic data, a logical next step would be to combine `generate_list` with a loop, passing it a variety of seed topics and values for `n`:"
   ]
  },
  {
   "cell_type": "markdown",
   "id": "e688886d-5221-432d-bd43-60168e48079e",
   "metadata": {},
   "source": [
    "```python\n",
    "seed_topics = [...] # Imagine `seed_topics` contains some number of list generation topics\n",
    "new_topics = []\n",
    "for seed_topic in seed_topics:\n",
    "  n = random.randint(1, 7)\n",
    "  new_topics.extend(generate_list(n, seed_topic))\n",
    "```"
   ]
  },
  {
   "cell_type": "markdown",
   "id": "a3840169-fec4-418e-bcc8-7c3a943b685d",
   "metadata": {},
   "source": [
    "Given this setup, the amount of `new_topics` we could generate would be limited primarily by the number of unique topics in `seed_topics`.\n",
    "\n"
   ]
  },
  {
   "cell_type": "markdown",
   "id": "1732aa6c-9052-4dec-a4c8-f1c67f4bdf75",
   "metadata": {},
   "source": [
    "---"
   ]
  },
  {
   "cell_type": "markdown",
   "id": "d8a4f169-3f56-4d4f-a20b-818eef12e29a",
   "metadata": {},
   "source": [
    "## Exercise Objective"
   ]
  },
  {
   "cell_type": "markdown",
   "id": "1706032d-6453-4733-abac-9f6c99e5340d",
   "metadata": {},
   "source": [
    "![Seed Topics](images/seed_topics.png)"
   ]
  },
  {
   "cell_type": "markdown",
   "id": "a5905b7e-324e-4944-a19a-0e050e99fb48",
   "metadata": {},
   "source": [
    "Your goal then in this challenge is to generate 100 unique `seed_topics` that could each be appropriately passed as a `topic` into the list generation prompt template we created in the previous notebook. Here's a simplified version of the prompt template (without the logic for generating few-shot prompts)."
   ]
  },
  {
   "cell_type": "code",
   "execution_count": null,
   "id": "9d8b607a-8061-44a5-98ba-b6564c3156bb",
   "metadata": {},
   "outputs": [],
   "source": [
    "def gen_list_template(n, topic):\n",
    "    return f'Make a python list of {n} {topic}.'"
   ]
  },
  {
   "cell_type": "markdown",
   "id": "44d885d7-4323-48e8-8800-fb2b8b922cb6",
   "metadata": {},
   "source": [
    "Assume that `len` will be > 1, which means that each `topic` needs to be something in plural noun form that has diverse subtypes."
   ]
  },
  {
   "cell_type": "markdown",
   "id": "df965829-8355-4c34-91a1-0eb63834f48a",
   "metadata": {},
   "source": [
    "### Examples of Good Seed Topics"
   ]
  },
  {
   "cell_type": "markdown",
   "id": "53901865-2b40-4ba7-b6df-fa48302d74be",
   "metadata": {},
   "source": [
    "Let's take a look at a few good `seed_topics` that would fit well in the `gen_list_template` we've provided you."
   ]
  },
  {
   "cell_type": "code",
   "execution_count": null,
   "id": "e8d4137a-b14b-48e2-acd9-62090339c298",
   "metadata": {},
   "outputs": [],
   "source": [
    "n = 3"
   ]
  },
  {
   "cell_type": "code",
   "execution_count": null,
   "id": "30442814-1430-4a44-b2c8-f4294b80171c",
   "metadata": {},
   "outputs": [],
   "source": [
    "good = 'dogs'\n",
    "gen_list_template(3, good)"
   ]
  },
  {
   "cell_type": "code",
   "execution_count": null,
   "id": "843d43d7-547a-4d92-8791-4ef5cb36b8e5",
   "metadata": {},
   "outputs": [],
   "source": [
    "good = 'flavors of ice cream'\n",
    "gen_list_template(3, good)"
   ]
  },
  {
   "cell_type": "markdown",
   "id": "c2acf549-510b-4baa-9807-4f95c826eb2b",
   "metadata": {},
   "source": [
    "### Examples of Bad Seed Topics"
   ]
  },
  {
   "cell_type": "markdown",
   "id": "2e4607c3-6488-4b32-b7cd-607a1f3ee11c",
   "metadata": {},
   "source": [
    "Now let's look at some seed topics that would not work well as arguments to `gen_list_template`. First are singular nouns."
   ]
  },
  {
   "cell_type": "code",
   "execution_count": null,
   "id": "4b72a75a-c9e2-4c24-9c17-b20b73bb3881",
   "metadata": {},
   "outputs": [],
   "source": [
    "singular = 'flower' # Singular\n",
    "gen_list_template(3, singular)"
   ]
  },
  {
   "cell_type": "markdown",
   "id": "8a0e130d-0f16-4721-a85c-dc5ee87641b7",
   "metadata": {},
   "source": [
    "The following is a verb that is in a tense that would not work."
   ]
  },
  {
   "cell_type": "code",
   "execution_count": null,
   "id": "af50fb40-7b62-49c1-83f5-4ba6ebd0831d",
   "metadata": {},
   "outputs": [],
   "source": [
    "verb = 'jumped' # Verb in this tense doesn't work\n",
    "gen_list_template(3, verb)"
   ]
  },
  {
   "cell_type": "markdown",
   "id": "2fed7b1c-59dc-4f1f-879f-30f68e36c3e6",
   "metadata": {},
   "source": [
    "And finally are things that have no diverse subtypes even if they are provided in plural noun form."
   ]
  },
  {
   "cell_type": "code",
   "execution_count": null,
   "id": "786b9d35-733f-4812-ba88-cdf64ab03cdf",
   "metadata": {},
   "outputs": [],
   "source": [
    "actually_unique = 'Jensen Huangs' # There's actually only one\n",
    "gen_list_template(3, actually_unique)"
   ]
  },
  {
   "cell_type": "markdown",
   "id": "15612cd0-8ad8-4252-abc1-651661ca4bc1",
   "metadata": {},
   "source": [
    "### Example Seed Topics"
   ]
  },
  {
   "cell_type": "markdown",
   "id": "dea82160-d903-44c6-8cfe-f2947fb74d00",
   "metadata": {},
   "source": [
    "We've provided a file with an example of 100 seed topics just to further your understanding of what is being asked of you."
   ]
  },
  {
   "cell_type": "code",
   "execution_count": null,
   "id": "d0bc4549-8f47-40df-9c52-3009411ca107",
   "metadata": {},
   "outputs": [],
   "source": [
    "with open('data/100_seed_topics.json', 'r') as f:\n",
    "    seed_topics = json.load(f)"
   ]
  },
  {
   "cell_type": "code",
   "execution_count": null,
   "id": "f5300935-b13a-480b-8471-18e665a735ec",
   "metadata": {},
   "outputs": [],
   "source": [
    "for seed_topic in seed_topics[-10:]:\n",
    "    print(seed_topic)"
   ]
  },
  {
   "cell_type": "markdown",
   "id": "53ff6833-d6db-4a0e-b9e5-370c05f1dc68",
   "metadata": {},
   "source": [
    "---"
   ]
  },
  {
   "cell_type": "markdown",
   "id": "6a7cabaf-b605-4416-9c72-e6b47e88ecae",
   "metadata": {},
   "source": [
    "## List Editor"
   ]
  },
  {
   "cell_type": "markdown",
   "id": "2533d448-b9eb-4b7a-aec3-4f960c63db54",
   "metadata": {},
   "source": [
    "As an aside, it's important when working with data, synthetically generated or not, to make sure your samples are what you are actually looking for.\n",
    "\n",
    "To support your efforts here and elsewhere in the workshop, we've provided you with the `edit_list` function which allows you to easily iterate through lists, viewing its items, and then choosing to either keep, remove, or edit the item."
   ]
  },
  {
   "cell_type": "code",
   "execution_count": null,
   "id": "81cad9f0-e5e0-40c2-9cac-a74ce86948b1",
   "metadata": {},
   "outputs": [],
   "source": [
    "list_to_edit = ['keep this', 'remove this', 'edit this to be \"keep this\"', 'keep this']"
   ]
  },
  {
   "cell_type": "markdown",
   "id": "329324b9-c7d5-4911-9d2a-ee4ae7daa2f6",
   "metadata": {},
   "source": [
    "Execute the cell below to edit `list_to_edit`. Your efforts should result in a list of 3 `'keep this'` items."
   ]
  },
  {
   "cell_type": "code",
   "execution_count": null,
   "id": "fef748f7-a438-4aac-9d06-c2f52aeba9d3",
   "metadata": {},
   "outputs": [],
   "source": [
    "edit_list(list_to_edit)"
   ]
  },
  {
   "cell_type": "markdown",
   "id": "32dcc21f-0181-48f4-a948-376e183ab90a",
   "metadata": {},
   "source": [
    "View your list to confirm."
   ]
  },
  {
   "cell_type": "code",
   "execution_count": null,
   "id": "0d606047-98ab-4880-9aae-d5230abd82c6",
   "metadata": {},
   "outputs": [],
   "source": [
    "list_to_edit"
   ]
  },
  {
   "cell_type": "markdown",
   "id": "6094ee4f-f93e-4e48-837a-611204d5ee79",
   "metadata": {},
   "source": [
    "If you messed something up, try again until you feel comfortable using the list editor."
   ]
  },
  {
   "cell_type": "markdown",
   "id": "590a26d8-2acf-475d-a302-fcbb74cce6b2",
   "metadata": {},
   "source": [
    "---"
   ]
  },
  {
   "cell_type": "markdown",
   "id": "e6b7935c-8556-466b-a5eb-c1a62607978d",
   "metadata": {},
   "source": [
    "## Make a List of 100 Unique Seed Topics That Each Have Diverse Subtypes"
   ]
  },
  {
   "cell_type": "markdown",
   "id": "e794a946-4490-4a23-ae3a-a47724425cb4",
   "metadata": {},
   "source": [
    "`generate_list` has been imported into this notebook to use here."
   ]
  },
  {
   "cell_type": "markdown",
   "id": "1ca3f48d-b01b-411d-98ca-299e0a31e65a",
   "metadata": {},
   "source": [
    "If you're up for an extra challenge, feel free to jump right in. If you'd like some guidance, feel free to expand step-by-step guidance for the challenge by expanding the _Guidelines_ section below."
   ]
  },
  {
   "cell_type": "markdown",
   "id": "8775b20f-cba1-4266-8b04-d2e7632723e5",
   "metadata": {},
   "source": [
    "### Your Work Here"
   ]
  },
  {
   "cell_type": "code",
   "execution_count": null,
   "id": "38602087-a5b1-4498-b095-778fb73ef08d",
   "metadata": {},
   "outputs": [],
   "source": [
    "seed_topics = [] # TODO: `seed_topics` should contain at least 100 unique seed topics well-suited for being passed to `generate_list`"
   ]
  },
  {
   "cell_type": "markdown",
   "id": "cddc3b53-1b20-49df-8044-e6a8a8a59a5f",
   "metadata": {},
   "source": [
    "---"
   ]
  },
  {
   "cell_type": "markdown",
   "id": "e82ccd8c-ed6c-4836-a270-eab00739795a",
   "metadata": {
    "jp-MarkdownHeadingCollapsed": true
   },
   "source": [
    "# Guidelines"
   ]
  },
  {
   "cell_type": "markdown",
   "id": "4f6d83d1-caf8-41d9-bc1e-75629e408adb",
   "metadata": {
    "jp-MarkdownHeadingCollapsed": true
   },
   "source": [
    "## Make Seed Topic Generation Prompt"
   ]
  },
  {
   "cell_type": "markdown",
   "id": "850f4d7d-81ac-46eb-b05f-447d66d33e6c",
   "metadata": {},
   "source": [
    "Let's begin by engineering a prompt we can send to `generate_list` that will generate well-formatted seed topics. Just for iteration, we will experiment with a value of 4 for `n`.\n",
    "\n",
    "If you get stuck, feel free to check out the *Solution* for this step just below."
   ]
  },
  {
   "cell_type": "markdown",
   "id": "dd38e1d3-54f3-421b-b8fa-4f33904f034a",
   "metadata": {},
   "source": [
    "### Your Work Here"
   ]
  },
  {
   "cell_type": "code",
   "execution_count": null,
   "id": "83c7a03e-8d38-4444-9582-959e355b6b57",
   "metadata": {},
   "outputs": [],
   "source": [
    "seed_topic_prompt = '' # TODO: engineer a prompt that will result in `generate_list` generating well-formed seed topics."
   ]
  },
  {
   "cell_type": "code",
   "execution_count": null,
   "id": "eb5701b6-2abf-4fc7-ac88-05e192dc741c",
   "metadata": {},
   "outputs": [],
   "source": [
    "generate_list(4, seed_topic_prompt)"
   ]
  },
  {
   "cell_type": "markdown",
   "id": "84119eda-c511-4322-b0d7-96cdbcdd81ba",
   "metadata": {
    "jp-MarkdownHeadingCollapsed": true
   },
   "source": [
    "### Solution"
   ]
  },
  {
   "cell_type": "markdown",
   "id": "9ded0331-91ea-430c-b7de-dd074dec243f",
   "metadata": {},
   "source": [
    "We found the following prompt resulted in well-formed seed topics."
   ]
  },
  {
   "cell_type": "code",
   "execution_count": null,
   "id": "b902329d-dc6a-4217-a263-1b824d4f8d13",
   "metadata": {},
   "outputs": [],
   "source": [
    "seed_topic_prompt = 'plural nouns with diverse subtypes'"
   ]
  },
  {
   "cell_type": "code",
   "execution_count": null,
   "id": "2532e468-d84c-4be7-a36c-699380b7a2bb",
   "metadata": {},
   "outputs": [],
   "source": [
    "generate_list(4, seed_topic_prompt)"
   ]
  },
  {
   "cell_type": "markdown",
   "id": "022bbef4-8d49-4cbd-bdcb-77eccc21bafa",
   "metadata": {},
   "source": [
    "---"
   ]
  },
  {
   "cell_type": "markdown",
   "id": "03605f8f-3f43-4938-ae5b-4a83fb423497",
   "metadata": {
    "jp-MarkdownHeadingCollapsed": true
   },
   "source": [
    "## Make Variations on Seed Topic Generation Prompts"
   ]
  },
  {
   "cell_type": "markdown",
   "id": "c5d2dc5d-9f04-427f-b2ba-178ff2470125",
   "metadata": {},
   "source": [
    "Since we are aiming for significant volume here, we should consider where we can add variety to our prompts in hopes of generating diverse outputs. With that in mind, before we attempt to start using `generate_list` to generate lots of seed topics, let's create a few variations of prompts we can use.\n",
    "\n",
    "Create 5 variations on your working `seed_topic_prompt` above that all result `generate_list` generating well-formed seed topics.\n",
    "\n",
    "If you get stuck, check out the *Solution* below."
   ]
  },
  {
   "cell_type": "markdown",
   "id": "f1fbfa20-6cc0-4cb3-a1f4-46d2857e178f",
   "metadata": {},
   "source": [
    "### Your Work Here"
   ]
  },
  {
   "cell_type": "code",
   "execution_count": null,
   "id": "c2e1e094-6a35-402b-8d00-d0c2ae9832bc",
   "metadata": {},
   "outputs": [],
   "source": []
  },
  {
   "cell_type": "markdown",
   "id": "83da97d6-020c-4bf5-a37d-e95fe650b8b4",
   "metadata": {
    "jp-MarkdownHeadingCollapsed": true
   },
   "source": [
    "### Solution"
   ]
  },
  {
   "cell_type": "markdown",
   "id": "f257bf87-74b9-4968-aa82-4bd6f8425626",
   "metadata": {},
   "source": [
    "We got good results by using the following seed topic variations..."
   ]
  },
  {
   "cell_type": "code",
   "execution_count": null,
   "id": "7187de2c-1bb3-469c-b79f-9990afea7115",
   "metadata": {},
   "outputs": [],
   "source": [
    "seed_topic_variations = ['things not in nature', \n",
    "                         'technical objects', \n",
    "                         'everyday things', \n",
    "                         'non-tangible objects', \n",
    "                         'things in nature']"
   ]
  },
  {
   "cell_type": "markdown",
   "id": "cdc7c00c-3364-4696-bca2-1791041492f8",
   "metadata": {},
   "source": [
    "...and then adding them to our original seed topic prompt."
   ]
  },
  {
   "cell_type": "code",
   "execution_count": null,
   "id": "ac1a7b58-20fa-4e72-8ce1-63e2690dd942",
   "metadata": {},
   "outputs": [],
   "source": [
    "seed_topic_prompts = []\n",
    "for seed_topic_variation in seed_topic_variations:\n",
    "    seed_topic_prompt = f'plural nouns with diverse subtypes of {seed_topic_variation}'\n",
    "    print(seed_topic_prompt)\n",
    "    seed_topic_prompts.append(seed_topic_prompt)"
   ]
  },
  {
   "cell_type": "code",
   "execution_count": null,
   "id": "a9fa3a00-4cf3-459e-a8b1-d8a2ab3af538",
   "metadata": {},
   "outputs": [],
   "source": [
    "for seed_topic_prompt in seed_topic_prompts:\n",
    "    print(generate_list(4, seed_topic_prompt))"
   ]
  },
  {
   "cell_type": "markdown",
   "id": "8f847895-1403-4351-aca1-5b9814c2ec03",
   "metadata": {},
   "source": [
    "---"
   ]
  },
  {
   "cell_type": "markdown",
   "id": "7a5b562f-2851-4dbe-960e-0923d754ac0c",
   "metadata": {
    "jp-MarkdownHeadingCollapsed": true
   },
   "source": [
    "## Reuse the Same Prompts With Diverse Outputs"
   ]
  },
  {
   "cell_type": "markdown",
   "id": "fafa3631-d493-45b7-b193-b628ba279b3b",
   "metadata": {},
   "source": [
    "Remember that you can set `top_k` and `temperature` to get potentially distinct outputs from the same prompt. Let's attempt to get more unique responses for each of the `seed_topic_prompts` you created in the previous step by passing them to `generate_list` multiple times along with higher values for `top_k` and `temperature`.\n",
    "\n",
    "If you haven't been doing so yet, start to store your seed topics in a `seed_topics` list.\n",
    "\n",
    "Additionally, be sure to deduplicate your `seed_topics` list which can be done by casting it to a set and then back to a list: `seed_topics = list(set(seed_topics)`.\n",
    "\n",
    "If you get stuck, check out the *Solution* below."
   ]
  },
  {
   "cell_type": "markdown",
   "id": "242a6d99-1efd-4226-85aa-2358df34ee2f",
   "metadata": {},
   "source": [
    "### Your Work Here"
   ]
  },
  {
   "cell_type": "code",
   "execution_count": null,
   "id": "3e4d34f5-f5a6-4762-ba0a-f94c16213756",
   "metadata": {},
   "outputs": [],
   "source": [
    "seed_topics = [] # TODO: Populate by looping over `seed_topic_prompts` multiple times while generating more random responses."
   ]
  },
  {
   "cell_type": "markdown",
   "id": "62e6515a-cdec-457e-9890-6f415f8bcd84",
   "metadata": {
    "jp-MarkdownHeadingCollapsed": true
   },
   "source": [
    "### Solution"
   ]
  },
  {
   "cell_type": "code",
   "execution_count": null,
   "id": "ed043473-b817-4829-959f-b3fb073bcc21",
   "metadata": {},
   "outputs": [],
   "source": [
    "seed_topics = []\n",
    "for seed_topic_prompt in tqdm(seed_topic_prompts*5):  # For the sake of generating more seed topics we loop through our prompts 3 times.\n",
    "                                                      # Because of our top_k and temp settings we hope for new values each iteration.\n",
    "    \n",
    "    new_seed_topics = generate_list(5, seed_topic_prompt, top_k=16, temperature=0.9, top_p=0.8)\n",
    "    print(new_seed_topics)\n",
    "    seed_topics.extend(new_seed_topics)\n",
    "    seed_topics = list(set(seed_topics))\n",
    "    print(len(seed_topics))"
   ]
  },
  {
   "cell_type": "markdown",
   "id": "55954714-e889-4ef0-9092-8b8cf231d128",
   "metadata": {},
   "source": [
    "You may have noticed some empty lists in the solution output above. Our implementation of `generate_list` will return an empty list in the chance that the model generated a response that is not a well-formed list."
   ]
  },
  {
   "cell_type": "markdown",
   "id": "1b3ddc82-ebfa-48db-940f-a111be4f0f63",
   "metadata": {},
   "source": [
    "---"
   ]
  },
  {
   "cell_type": "markdown",
   "id": "f388cda4-46b1-4ac9-ac33-b0a481120621",
   "metadata": {
    "jp-MarkdownHeadingCollapsed": true
   },
   "source": [
    "## Use a While Loop"
   ]
  },
  {
   "cell_type": "markdown",
   "id": "179f5802-87e2-4f00-86b7-5e5fcc9461b5",
   "metadata": {},
   "source": [
    "If at this point you still haven't reached your goal of 100 things, try creating a `while` loop that continues to loop over your generation steps, cleaning out duplicates at the end of each iteration, until you've reached your goal.\n",
    "\n",
    "Feel free to check out the *Solution* below if you get stuck."
   ]
  },
  {
   "cell_type": "markdown",
   "id": "7ffbb69e-5d6d-427a-bfec-811d1c779115",
   "metadata": {},
   "source": [
    "### Your Work Here"
   ]
  },
  {
   "cell_type": "code",
   "execution_count": null,
   "id": "61b9e5b6-9c24-47d3-9551-168128580ff3",
   "metadata": {},
   "outputs": [],
   "source": [
    "# Your work here"
   ]
  },
  {
   "cell_type": "markdown",
   "id": "7d7da70d-9cf8-4aeb-8b1d-dbf9ca766758",
   "metadata": {
    "jp-MarkdownHeadingCollapsed": true
   },
   "source": [
    "### Solution"
   ]
  },
  {
   "cell_type": "markdown",
   "id": "a5679f12-5862-4299-9b75-607d19c214aa",
   "metadata": {},
   "source": [
    "Here we slightly modify what we did in the last step by creating a `while` loop that goes until `seed_topics` contains at least 100 unique items. We ensure the items are unique by deduplicating `seed_topics` on each iteration of the while loop.\n",
    "\n",
    "We've added a `tqdm` progress bar for convenience."
   ]
  },
  {
   "cell_type": "code",
   "execution_count": null,
   "id": "22e3d84e-c776-4672-92ba-7ff35b010617",
   "metadata": {},
   "outputs": [],
   "source": [
    "seed_topics = []\n",
    "progress_bar = tqdm(total=150)\n",
    "while len(seed_topics) < 150: # We are going to overshoot our target assuming we will edit out many items that are not well-formed\n",
    "    for seed_topic_prompt in seed_topic_prompts:\n",
    "\n",
    "        new_seed_topics = generate_list(5, seed_topic_prompt, top_k=16, temperature=0.9, top_p=0.8)\n",
    "        seed_topics.extend(new_seed_topics)\n",
    "        seed_topics = list(set(seed_topics))\n",
    "        progress_bar.update(len(seed_topics) - progress_bar.n)\n",
    "\n",
    "progress_bar.close()"
   ]
  },
  {
   "cell_type": "markdown",
   "id": "47fdc950-407c-4944-8524-23eab1842045",
   "metadata": {
    "jp-MarkdownHeadingCollapsed": true
   },
   "source": [
    "## (Optional) Clean Your Seed Topics"
   ]
  },
  {
   "cell_type": "markdown",
   "id": "3364c2bb-6218-486e-9645-e0e44c8fab2d",
   "metadata": {},
   "source": [
    "This may be more effort than you'd like to put into this challenge right now, but in legitimate settings, you need to take care to make sure your data is good quality.\n",
    "\n",
    "If you'd like to go through the seed topics you have so far and clean them up, feel free to pass your `seed_topics` list into the provided `edit_list` function, which will let you look through the items in your list and delete or edit the ones you don't want. Remember, each `seed_topic` in the list should fit sensibly into the template `Make a python list of 3 {seed_topic}`."
   ]
  },
  {
   "cell_type": "code",
   "execution_count": null,
   "id": "b7d341cb-a1ce-43aa-b115-8f2f4702bb15",
   "metadata": {},
   "outputs": [],
   "source": [
    "# Optional\n",
    "bk_seed_topics = seed_topics.copy() # Make a backup in case we mess up editing\n",
    "edit_list(seed_topics)"
   ]
  },
  {
   "cell_type": "code",
   "execution_count": null,
   "id": "041e60f3-1334-46c8-a7f1-5e6dc1de9c40",
   "metadata": {},
   "outputs": [],
   "source": [
    "len(list(set(seed_topics)))"
   ]
  }
 ],
 "metadata": {
  "kernelspec": {
   "display_name": "Python 3 (ipykernel)",
   "language": "python",
   "name": "python3"
  },
  "language_info": {
   "codemirror_mode": {
    "name": "ipython",
    "version": 3
   },
   "file_extension": ".py",
   "mimetype": "text/x-python",
   "name": "python",
   "nbconvert_exporter": "python",
   "pygments_lexer": "ipython3",
   "version": "3.12.1"
  }
 },
 "nbformat": 4,
 "nbformat_minor": 5
}
