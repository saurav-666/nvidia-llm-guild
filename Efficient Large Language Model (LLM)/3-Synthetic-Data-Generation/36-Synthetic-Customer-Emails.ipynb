{
 "cells": [
  {
   "cell_type": "markdown",
   "id": "86139811-4d5b-4ade-9a9a-225f06da8eb6",
   "metadata": {},
   "source": [
    "![NVIDIA Logo](images/nvidia.png)"
   ]
  },
  {
   "cell_type": "markdown",
   "id": "f671d244-76ae-4798-8986-386fb25afa39",
   "metadata": {},
   "source": [
    "# Project: Generate Detailed Synthetic Emails"
   ]
  },
  {
   "cell_type": "markdown",
   "id": "b2497dbc-10dd-4541-b63a-f8f1613640a8",
   "metadata": {},
   "source": [
    "In this notebook you will use your fine-tuned GPT8B-based `generate_list` LLM function, in conjunction with GPT43B to generate a collection of synthetic customer emails, each containing a variety of distinct and appropriate details."
   ]
  },
  {
   "cell_type": "markdown",
   "id": "f528db8a-6b7d-4e82-a38a-87e1535c2970",
   "metadata": {},
   "source": [
    "---"
   ]
  },
  {
   "cell_type": "markdown",
   "id": "b5db4cf9-8ae4-4d82-971c-21386a92cc95",
   "metadata": {},
   "source": [
    "## Learning Objectives"
   ]
  },
  {
   "cell_type": "markdown",
   "id": "2ed675e4-554e-4c81-a1e9-1e770ffdf94d",
   "metadata": {},
   "source": [
    "By the time you complete this notebook you will:\n",
    "- Generate several collections of synthetic data for use in customer email generation.\n",
    "- Generate at least 50 unique customer emails, each with distinct and appropriate details, written to a fictitious company of our creation."
   ]
  },
  {
   "cell_type": "markdown",
   "id": "098ed864-e201-4eb0-b492-be7d7ca9164f",
   "metadata": {},
   "source": [
    "---"
   ]
  },
  {
   "cell_type": "markdown",
   "id": "2ad297f0-7f40-49b9-99e0-79382cf0534e",
   "metadata": {},
   "source": [
    "## Imports"
   ]
  },
  {
   "cell_type": "code",
   "execution_count": null,
   "id": "d5409d57-d29b-47a4-ad64-9233d17760a5",
   "metadata": {},
   "outputs": [],
   "source": [
    "import random\n",
    "import json\n",
    "\n",
    "from tqdm.notebook import tqdm\n",
    "\n",
    "from llm_utils.helpers import edit_list\n",
    "from llm_utils.nemo_service_models import NemoServiceBaseModel\n",
    "from llm_utils.models import Models\n",
    "from llm_utils.llm_functions import (\n",
    "    make_llm_function,\n",
    "    generate_list_8B_lora as generate_list, \n",
    "    generate_customer_email as example_generate_customer_email\n",
    ")"
   ]
  },
  {
   "cell_type": "markdown",
   "id": "4dbda16a-8ae1-4327-b600-961f4a11247c",
   "metadata": {},
   "source": [
    "---"
   ]
  },
  {
   "cell_type": "markdown",
   "id": "71f9c836-c09c-4263-8908-5b3e6b436c10",
   "metadata": {},
   "source": [
    "## Models"
   ]
  },
  {
   "cell_type": "code",
   "execution_count": null,
   "id": "3b96f3d2-9b63-4563-8777-96638f192fb0",
   "metadata": {},
   "outputs": [],
   "source": [
    "Models.list_models()"
   ]
  },
  {
   "cell_type": "markdown",
   "id": "13546cf6-76fe-4004-abd9-9f5bba1d16b1",
   "metadata": {},
   "source": [
    "---"
   ]
  },
  {
   "cell_type": "markdown",
   "id": "7585c6a2-3b0e-478c-8944-d49e45d56860",
   "metadata": {},
   "source": [
    "## Exercise Main Objective"
   ]
  },
  {
   "cell_type": "markdown",
   "id": "b672ed9c-f1ee-4a65-9547-df28554e4775",
   "metadata": {},
   "source": [
    "![Customer Emails](images/customer_emails.png)"
   ]
  },
  {
   "cell_type": "markdown",
   "id": "db7051e6-d3b7-4b35-8565-61f2d8813e78",
   "metadata": {},
   "source": [
    "The main objective of this project is to synthetically generate 50 unique customer emails roughly 150 words each to a fictitious company of our creation called StarBikes using an LLM function we will call `generate_customer_emails`. Aside from being a coherent, well-formed message, each email should contain text that specifies:\n",
    "- The customer's distinct mood.\n",
    "- The sender's name.\n",
    "- Your company's name.\n",
    "- The product that the email is writing about, which should be appropriate to your company's industry.\n",
    "- The location of the store where the product was purchased."
   ]
  },
  {
   "cell_type": "markdown",
   "id": "b0a8e631-1a7d-4f3b-942b-25b85f3d69ee",
   "metadata": {},
   "source": [
    "---"
   ]
  },
  {
   "cell_type": "markdown",
   "id": "03cfde1f-584b-4ddf-b7d6-15606688c5cf",
   "metadata": {},
   "source": [
    "## Exercise Example"
   ]
  },
  {
   "cell_type": "markdown",
   "id": "c2c93ab7-aad2-497f-9294-09aae3d726ad",
   "metadata": {},
   "source": [
    "Below is an example of the kind of email each of your 50 should be like, using an LLM function of our creation `example_generate_email`."
   ]
  },
  {
   "cell_type": "code",
   "execution_count": null,
   "id": "a418f81e-3290-4afd-a999-d8e6c2fdb6b7",
   "metadata": {},
   "outputs": [],
   "source": [
    "sender_name = 'Josh'\n",
    "company_name = 'NVIDI-OMG'\n",
    "industry = 'tech'\n",
    "product = 'H100000'\n",
    "mood = 'happy'\n",
    "store_location = 'Santa Clara'"
   ]
  },
  {
   "cell_type": "code",
   "execution_count": null,
   "id": "aea500bc-22ea-4c0f-8700-c290c8077e2d",
   "metadata": {},
   "outputs": [],
   "source": [
    "example_customer_email = example_generate_customer_email(sender_name, \n",
    "                                                         company_name, \n",
    "                                                         industry, \n",
    "                                                         product, \n",
    "                                                         mood, \n",
    "                                                         store_location, \n",
    "                                                         top_k=4, \n",
    "                                                         temperature=0.7)"
   ]
  },
  {
   "cell_type": "code",
   "execution_count": null,
   "id": "4db87f5f-f6ea-4afd-bfdf-8ca9398c798c",
   "metadata": {},
   "outputs": [],
   "source": [
    "print(example_customer_email)"
   ]
  },
  {
   "cell_type": "markdown",
   "id": "8bde7606-b788-4801-a87e-b7a5f24c7b30",
   "metadata": {},
   "source": [
    "---"
   ]
  },
  {
   "cell_type": "markdown",
   "id": "35ec5a19-1f2a-4a89-96e2-5ca05a390e28",
   "metadata": {},
   "source": [
    "## Exercise Constraints"
   ]
  },
  {
   "cell_type": "markdown",
   "id": "b9d63def-9f10-4b95-987a-15ef6123e84b",
   "metadata": {},
   "source": [
    "In addition to the main objective just discussed, please adhere to the following exercise constraints."
   ]
  },
  {
   "cell_type": "markdown",
   "id": "2308aca0-881a-477a-bfc8-21a7ac6a09f2",
   "metadata": {},
   "source": [
    "### Create Company"
   ]
  },
  {
   "cell_type": "markdown",
   "id": "df8ad55c-f6dc-4d17-8d27-a6c28d5bae34",
   "metadata": {},
   "source": [
    "You customer emails should be addressed to StarBikes, our fictitious company and which is part of the bike industry."
   ]
  },
  {
   "cell_type": "code",
   "execution_count": null,
   "id": "da4ce34a-1f8b-4baf-aeb1-0e3d605ac585",
   "metadata": {},
   "outputs": [],
   "source": [
    "company_name = 'StarBikes'\n",
    "company_industry = 'bike'"
   ]
  },
  {
   "cell_type": "markdown",
   "id": "88516ac5-d0d0-4735-8090-486d07989f48",
   "metadata": {},
   "source": [
    "### Synthetic Email Details"
   ]
  },
  {
   "cell_type": "markdown",
   "id": "d44f071f-20a9-42e5-b205-695cc9d1fd24",
   "metadata": {},
   "source": [
    "Aside from the company's name and industry, each customer email should contain unique instances of the customer's name, mood, product, and store location. To this end, you will need to create synthetically generated data representing instances of each of these categories for use in generating 50 unique customer emails.\n",
    "\n",
    "For this part of your work, constrain yourself to using the LoRA fine-tuned GPT8B-based `generate_list` LLM function you created earlier. We have imported our solution implementation for you."
   ]
  },
  {
   "cell_type": "code",
   "execution_count": null,
   "id": "8f39e5c6-14aa-42f8-a82c-59720628c50a",
   "metadata": {},
   "outputs": [],
   "source": [
    "generate_list(5, 'affirmations')"
   ]
  },
  {
   "cell_type": "markdown",
   "id": "84a8ffdd-aa40-4202-b14a-65250af3916a",
   "metadata": {},
   "source": [
    "### Synthetic Email Generation"
   ]
  },
  {
   "cell_type": "markdown",
   "id": "ad7d3221-9e12-453a-abd2-a2b8698b663f",
   "metadata": {},
   "source": [
    "When it comes time to generate the emails themselves, please use GPT43B."
   ]
  },
  {
   "cell_type": "code",
   "execution_count": null,
   "id": "20e1718b-e40c-4e82-bdad-705b8b04ba60",
   "metadata": {},
   "outputs": [],
   "source": [
    "email_generator_llm = NemoServiceBaseModel(Models.gpt43b.value)"
   ]
  },
  {
   "cell_type": "markdown",
   "id": "ee4fcd58-3d34-41b2-a5d2-65206f6bd606",
   "metadata": {},
   "source": [
    "---"
   ]
  },
  {
   "cell_type": "markdown",
   "id": "6000fc03-c373-4ddd-947c-3bab3edf7ed8",
   "metadata": {},
   "source": [
    "## Begin Your Work"
   ]
  },
  {
   "cell_type": "markdown",
   "id": "a900dccb-db54-4a58-8e7c-170864ca21c3",
   "metadata": {},
   "source": [
    "If you're up for a big challenge, you can jump right in. If you'd like additional support, expand the _Exercise Walkthrough_ section below which will work through the challenge step by step."
   ]
  },
  {
   "cell_type": "markdown",
   "id": "35ac6b64-3837-4086-9b68-08a0ab1cc544",
   "metadata": {},
   "source": [
    "### Your Work Here"
   ]
  },
  {
   "cell_type": "code",
   "execution_count": null,
   "id": "05f28dc4-1aef-45d8-b6d4-5a0c9ac084c8",
   "metadata": {},
   "outputs": [],
   "source": []
  },
  {
   "cell_type": "markdown",
   "id": "28b765a9-65c9-4473-9601-4a1c376598d6",
   "metadata": {},
   "source": [
    "---"
   ]
  },
  {
   "cell_type": "markdown",
   "id": "6b5cac12-4e2b-4d6a-bfac-7f7be2cddcc1",
   "metadata": {
    "jp-MarkdownHeadingCollapsed": true
   },
   "source": [
    "# Exercise Walkthrough"
   ]
  },
  {
   "cell_type": "markdown",
   "id": "35384b7a-83ef-4f47-b4ec-a7dd02d2e44f",
   "metadata": {
    "jp-MarkdownHeadingCollapsed": true
   },
   "source": [
    "## Generate Synthetic Customer Emails"
   ]
  },
  {
   "cell_type": "markdown",
   "id": "995be09c-4eb5-4118-9adc-4d9c7ed8049a",
   "metadata": {},
   "source": [
    "This is the time to put your prompt engineering skills to the test. Begin by creating a prompt template you can use for synthetic email generation. The prompt template should include all of the details needed for an email discussed above.\n",
    "\n",
    "Start by iteratively developing a prompt with GPT43B, and once you're satisfied with your prompt, capture it in a prompt template function that takes relevant email details and returns a well-formed prompt."
   ]
  },
  {
   "cell_type": "markdown",
   "id": "abb2b9b1-5495-4ca0-a0f1-224cea9b40a0",
   "metadata": {},
   "source": [
    "If you'd like to see a solution for this section, expand the _Solution_ section below."
   ]
  },
  {
   "cell_type": "markdown",
   "id": "a91a3324-7d70-437e-a5a0-7553cafbd280",
   "metadata": {},
   "source": [
    "### Your Work Here"
   ]
  },
  {
   "cell_type": "code",
   "execution_count": null,
   "id": "321dbc0e-6ac1-4520-90aa-c5a0f02b3b3d",
   "metadata": {},
   "outputs": [],
   "source": [
    "def customer_email_prompt_template(sender_name, company_name, industry, product, mood, store_location):\n",
    "    return 'TODO' # TODO: Create a prompt template to generate synthetic customer emails as specified"
   ]
  },
  {
   "cell_type": "code",
   "execution_count": null,
   "id": "8314b0c0-8670-4bd5-9b71-a1cfc3a20bc3",
   "metadata": {},
   "outputs": [],
   "source": [
    "customer_email_prompt = customer_email_prompt_template('Josh', 'NVIDI-OMG', 'tech', 'H100000', 'happy', 'Santa Clara')"
   ]
  },
  {
   "cell_type": "code",
   "execution_count": null,
   "id": "84ae4275-9903-42ea-b5ef-b542f6d38ebe",
   "metadata": {},
   "outputs": [],
   "source": [
    "customer_email_prompt"
   ]
  },
  {
   "cell_type": "code",
   "execution_count": null,
   "id": "fd2da58b-7b3b-4610-875e-4a037e3b01e8",
   "metadata": {},
   "outputs": [],
   "source": [
    "email_generator_llm.generate(customer_email_prompt)"
   ]
  },
  {
   "cell_type": "markdown",
   "id": "c4514d56-0ac5-401d-9029-a9a7874a5048",
   "metadata": {
    "jp-MarkdownHeadingCollapsed": true
   },
   "source": [
    "### Solution"
   ]
  },
  {
   "cell_type": "code",
   "execution_count": null,
   "id": "da0716cc-1b4e-4900-b85d-76b51ba8d117",
   "metadata": {},
   "outputs": [],
   "source": [
    "def customer_email_prompt_template(sender_name, company_name, industry, product, mood, store_location):\n",
    "    return f\"\"\"\\\n",
    "Write a 150 word email from a customer named {sender_name} to the fictitious company {company_name} \\\n",
    "that ends in the customer's name.\n",
    "\n",
    "Context: The mood of the customer {sender_name} is {mood}.\n",
    "\n",
    "Instructions: Take the following steps in drafting this email from the customer {sender_name} to the {industry} company {company_name}:\n",
    "1) The customer makes a question or complaint about the following product: {product}.\n",
    "2) The customer tells a brief story about a relevant experience they had with their {company_name} {product}.\n",
    "3) The customer describes that they purchased the product at a {company_name} store location in {store_location}.\n",
    "4) The customer signs off in a way that matches their mood using their name {sender_name}.\n",
    "5) If the customer has\\'t signed off with their name ({sender_name}) they sign off with their name ({sender_name}).\n",
    "\"\"\""
   ]
  },
  {
   "cell_type": "code",
   "execution_count": null,
   "id": "73ef21e4-f48b-49fe-bead-c4e6fc49f64e",
   "metadata": {},
   "outputs": [],
   "source": [
    "customer_email_prompt = customer_email_prompt_template('Josh', 'NVIDI-OMG', 'tech', 'H100000', 'happy', 'Santa Clara')"
   ]
  },
  {
   "cell_type": "code",
   "execution_count": null,
   "id": "41eae35d-9f4a-4abd-a1ad-5e94f93d9010",
   "metadata": {},
   "outputs": [],
   "source": [
    "email_generator_llm.generate(customer_email_prompt)"
   ]
  },
  {
   "cell_type": "markdown",
   "id": "c84dbc34-006b-4c98-96af-63a21fe3d5ea",
   "metadata": {},
   "source": [
    "---"
   ]
  },
  {
   "cell_type": "markdown",
   "id": "977be5e8-8048-4cc1-af2a-08767c8a2eb2",
   "metadata": {
    "jp-MarkdownHeadingCollapsed": true
   },
   "source": [
    "## Create LLM Function"
   ]
  },
  {
   "cell_type": "markdown",
   "id": "b52f896a-4f75-4830-b576-69b49a991d54",
   "metadata": {},
   "source": [
    "![Email LLM Function](images/email_llm_function.png)"
   ]
  },
  {
   "cell_type": "markdown",
   "id": "e74ca438-2150-4bca-98ac-a6b58900e0b1",
   "metadata": {},
   "source": [
    "With an appropriate model and prompt template, we can now create an LLM function, which we'll call `generate_customer_email` to encapsulate the synthetic customer email generation task.\n",
    "\n",
    "You can use `make_llm_function` along with your `email_generator_llm` model, you `customer_email_prompt_template` and the `strip` function below as `postprocessor`.\n",
    "\n",
    "If you get stuck, feel free to check the *Solution* below."
   ]
  },
  {
   "cell_type": "markdown",
   "id": "fa76746a-5fe9-4230-b239-766f54590063",
   "metadata": {},
   "source": [
    "### Your Work Here"
   ]
  },
  {
   "cell_type": "code",
   "execution_count": null,
   "id": "587c2ac0-4a9a-4678-b6dc-7f602b791d99",
   "metadata": {},
   "outputs": [],
   "source": [
    "def strip(response):\n",
    "    return response.strip()"
   ]
  },
  {
   "cell_type": "code",
   "execution_count": null,
   "id": "5ce09d8a-4660-4892-ba73-6bc2ff266ce7",
   "metadata": {},
   "outputs": [],
   "source": [
    "generate_customer_email = \"TODO\" # TODO: Make an LLM function to encapsulate the customer email generation task."
   ]
  },
  {
   "cell_type": "markdown",
   "id": "6ec984c8-b719-4b96-91de-5214b28a7f8b",
   "metadata": {
    "jp-MarkdownHeadingCollapsed": true
   },
   "source": [
    "### Solution"
   ]
  },
  {
   "cell_type": "code",
   "execution_count": null,
   "id": "4fc01def-6fb5-4464-b229-b954a6cae635",
   "metadata": {},
   "outputs": [],
   "source": [
    "def strip(response):\n",
    "    return response.strip()"
   ]
  },
  {
   "cell_type": "code",
   "execution_count": null,
   "id": "cda36c4a-8383-4387-996a-e12159c11b94",
   "metadata": {},
   "outputs": [],
   "source": [
    "generate_customer_email = make_llm_function(NemoServiceBaseModel(Models.gpt43b.value), \n",
    "                                            customer_email_prompt_template, \n",
    "                                            postprocessor=strip)"
   ]
  },
  {
   "cell_type": "code",
   "execution_count": null,
   "id": "f8059f6d-a5f5-4889-b6df-912c9168e8d4",
   "metadata": {},
   "outputs": [],
   "source": [
    "generate_customer_email('Josh', 'NVIDI-OMG', 'tech', 'H100000', 'happy', 'Santa Clara')"
   ]
  },
  {
   "cell_type": "markdown",
   "id": "694075c5-4bd8-4cc8-b072-26a0c7ad36e2",
   "metadata": {},
   "source": [
    "---"
   ]
  },
  {
   "cell_type": "markdown",
   "id": "6ff45d0a-9e73-4a05-ae80-fd4a3719df48",
   "metadata": {
    "jp-MarkdownHeadingCollapsed": true
   },
   "source": [
    "## Generate Synthetic Data for Prompt Template Parameters"
   ]
  },
  {
   "cell_type": "markdown",
   "id": "47cf6690-2328-41cf-b596-097aa432f44e",
   "metadata": {},
   "source": [
    "![Email Details](images/email_details.png)"
   ]
  },
  {
   "attachments": {},
   "cell_type": "markdown",
   "id": "5aff0c2c-dd4a-4e38-94d2-e8bf45c134ee",
   "metadata": {},
   "source": [
    "Ultimately, we want to scale the use of `generate_customer_email` but before we can we need to generate synthetic data for the following template parameters:\n",
    "\n",
    "- sender_names\n",
    "- products\n",
    "- moods\n",
    "- store_locations"
   ]
  },
  {
   "cell_type": "markdown",
   "id": "74f8f9c4-6e37-4871-8f58-5e61967093d4",
   "metadata": {},
   "source": [
    "To do this you will be using your LoRA fine-tuned GPT8B powered `generate_list` function, along with any other code required, to populate these lists."
   ]
  },
  {
   "cell_type": "markdown",
   "id": "bd91ddb4-41d9-485c-920a-e9a48cdc0f28",
   "metadata": {},
   "source": [
    "---"
   ]
  },
  {
   "cell_type": "markdown",
   "id": "8f7f2d9a-1142-4ac3-be45-5f246d7e9841",
   "metadata": {
    "jp-MarkdownHeadingCollapsed": true
   },
   "source": [
    "## Generate Sender Names"
   ]
  },
  {
   "cell_type": "markdown",
   "id": "8f6b9b05-546f-4429-9d46-10aaabf8124c",
   "metadata": {},
   "source": [
    "Use `generate_list` to populate a `sender_names` list with 30 unique names. Don't forget you can pass in named arguments for `top_k` and `temperature` to get more variety out of your generated lists. Also recall from the previous section that `generate_list` with GPT8B performs best with values for list length of 7 or less, and that if the underlying model response during list generation is malformed that `generate_list` will return an empty list.\n",
    "\n",
    "Use the `edit_list` helper on your generated list to clean any responses you don't want."
   ]
  },
  {
   "cell_type": "markdown",
   "id": "8ccce389-179b-4767-9137-94a3fe9cc6e3",
   "metadata": {},
   "source": [
    "If you'd like to see a solution for this section, expand the _Solution_ section below."
   ]
  },
  {
   "cell_type": "markdown",
   "id": "659aa444-9d8c-4f46-99e5-4bc346cb5e55",
   "metadata": {},
   "source": [
    "### Your Work Here"
   ]
  },
  {
   "cell_type": "code",
   "execution_count": null,
   "id": "55c309de-012b-4014-95a0-38e1ec7f447d",
   "metadata": {},
   "outputs": [],
   "source": [
    "sender_names = [] # TODO: populate with 30 unique names"
   ]
  },
  {
   "cell_type": "code",
   "execution_count": null,
   "id": "1c038be8-9843-459c-9bbe-13d79bd5587f",
   "metadata": {},
   "outputs": [],
   "source": [
    "edit_list(sender_names)"
   ]
  },
  {
   "cell_type": "markdown",
   "id": "0d8d75dd-9e60-49e6-9020-afc9a4f4d7a6",
   "metadata": {
    "jp-MarkdownHeadingCollapsed": true
   },
   "source": [
    "### Solution"
   ]
  },
  {
   "cell_type": "code",
   "execution_count": null,
   "id": "47db825b-e2b0-4015-b572-a96bbc4a1ffb",
   "metadata": {},
   "outputs": [],
   "source": [
    "sender_name_queues = [\n",
    "    \"male names\",\n",
    "    \"female names\",\n",
    "    \"unusual names\",\n",
    "    \"names that start with the letter V\"\n",
    "]"
   ]
  },
  {
   "cell_type": "code",
   "execution_count": null,
   "id": "5ee346f6-4ce1-4467-a26e-7b221a459112",
   "metadata": {},
   "outputs": [],
   "source": [
    "sender_names = []\n",
    "while len(sender_names) < 30:\n",
    "    for sender_name_queue in sender_name_queues:\n",
    "        sender_name = generate_list(5, sender_name_queue, top_k=8, temperature=1)\n",
    "        sender_names.extend(sender_name)\n",
    "        sender_names = list(set(sender_names))\n",
    "        print(len(sender_names))"
   ]
  },
  {
   "cell_type": "code",
   "execution_count": null,
   "id": "94c8008e-0a91-432b-8219-5c5350c3ca7d",
   "metadata": {},
   "outputs": [],
   "source": [
    "len(sender_names)"
   ]
  },
  {
   "cell_type": "code",
   "execution_count": null,
   "id": "18766e8b-94ac-469c-adc4-13292528edbe",
   "metadata": {},
   "outputs": [],
   "source": [
    "edit_list(sender_names)"
   ]
  },
  {
   "cell_type": "markdown",
   "id": "92c311ac-c566-4cf8-992c-ae825d610cf8",
   "metadata": {},
   "source": [
    "---"
   ]
  },
  {
   "cell_type": "markdown",
   "id": "6e345c6b-43d4-4d1b-808b-67f89ad9aa80",
   "metadata": {
    "jp-MarkdownHeadingCollapsed": true
   },
   "source": [
    "## Generate Products"
   ]
  },
  {
   "cell_type": "markdown",
   "id": "af630ba4-2f2c-48c8-a30c-76c21aac44b3",
   "metadata": {},
   "source": [
    "Use your LoRA fine-tuned GPT8B powered `generate_list` function, along with any other code required, to populate `products` list with 30 products appropriate to your company and its industry.\n",
    "\n",
    "Don't forget you can pass in named arguments for `top_k` and `temperature`.\n",
    "\n",
    "Use the `edit_list` helper on your generated list to clean any responses you don't want."
   ]
  },
  {
   "cell_type": "markdown",
   "id": "cb436c6b-95c9-4d2f-b4aa-5dd0c05e5691",
   "metadata": {},
   "source": [
    "If you'd like to see a solution for this section, expand the _Solution_ section below."
   ]
  },
  {
   "cell_type": "markdown",
   "id": "cb545cf6-160f-46a9-a02f-cb924564f466",
   "metadata": {},
   "source": [
    "### Your Work Here"
   ]
  },
  {
   "cell_type": "code",
   "execution_count": null,
   "id": "d422fb9c-93c2-4df8-83b5-893a0fbbfbe5",
   "metadata": {},
   "outputs": [],
   "source": [
    "products = [] # TODO: populate `products` with 30 products appropriate to your fictitious company"
   ]
  },
  {
   "cell_type": "code",
   "execution_count": null,
   "id": "d7d65163-ae9c-4c74-9eb8-2eb4b51579cc",
   "metadata": {},
   "outputs": [],
   "source": [
    "edit_list(products)"
   ]
  },
  {
   "cell_type": "markdown",
   "id": "0111e5ee-c87b-4fa4-be7f-bb34db443540",
   "metadata": {
    "jp-MarkdownHeadingCollapsed": true
   },
   "source": [
    "### Solution"
   ]
  },
  {
   "cell_type": "code",
   "execution_count": null,
   "id": "52291e49-3aec-4acd-b8a2-ab9763030b23",
   "metadata": {},
   "outputs": [],
   "source": [
    "bike_queues = [\n",
    "    \"parts sold at a bicycle shop\",\n",
    "    \"kinds of bike\",\n",
    "    \"bike accesories\",\n",
    "    \"unusual things I would find at a bike store\"\n",
    "]"
   ]
  },
  {
   "cell_type": "code",
   "execution_count": null,
   "id": "5e79c347-5457-47b5-b4c7-5db8bdfd3559",
   "metadata": {},
   "outputs": [],
   "source": [
    "products = []\n",
    "while len(products) < 40: # Overshooting in case some need to be edited out\n",
    "    for bike_queue in bike_queues:\n",
    "        bike_product = generate_list(5, bike_queue, top_k=8, temperature=1)\n",
    "        products.extend(bike_product)\n",
    "        products = list(set(products))\n",
    "        print(len(products))"
   ]
  },
  {
   "cell_type": "code",
   "execution_count": null,
   "id": "02e7d7ae-dcd8-4d6f-8d1d-6e597a7c6d9c",
   "metadata": {},
   "outputs": [],
   "source": [
    "len(products)"
   ]
  },
  {
   "cell_type": "code",
   "execution_count": null,
   "id": "189554a1-5b8d-45b2-bbaa-0cce9e936d75",
   "metadata": {},
   "outputs": [],
   "source": [
    "edit_list(products)"
   ]
  },
  {
   "cell_type": "markdown",
   "id": "a77d3e4f-9c6c-4aed-959a-80e7e95c880a",
   "metadata": {},
   "source": [
    "---"
   ]
  },
  {
   "cell_type": "markdown",
   "id": "76711744-755b-45ca-8058-cc7c617bc4b0",
   "metadata": {
    "jp-MarkdownHeadingCollapsed": true
   },
   "source": [
    "## Generate Moods"
   ]
  },
  {
   "cell_type": "markdown",
   "id": "645a53f4-f1ac-4b6c-b4b9-d7c52d6c2ff2",
   "metadata": {},
   "source": [
    "Use your LoRA fine-tuned GPT8B powered `generate_list` function, along with any other code required, to populate `moods` with 30 moods the customer might be in.\n",
    "\n",
    "Don't forget you can pass in named arguments for `top_k` and `temperature`.\n",
    "\n",
    "Use the `edit_list` helper on your generated list to clean any responses you don't want."
   ]
  },
  {
   "cell_type": "markdown",
   "id": "8574b370-8daa-4767-82ca-3c08cc7bedba",
   "metadata": {},
   "source": [
    "If you'd like to see a solution for this section, expand the _Solution_ section below."
   ]
  },
  {
   "cell_type": "markdown",
   "id": "19df9ec3-088f-494f-b6bd-e13ef1778b08",
   "metadata": {},
   "source": [
    "### Your Work Here"
   ]
  },
  {
   "cell_type": "code",
   "execution_count": null,
   "id": "60e5e7da-b3f1-460c-bbcf-0cfddd92e1b4",
   "metadata": {},
   "outputs": [],
   "source": [
    "moods = [] # TODO: populate `moods` with 30 distinct moods a person (customer) might be in."
   ]
  },
  {
   "cell_type": "code",
   "execution_count": null,
   "id": "e03cfb00-0fb9-4d41-9c07-b690c37cd7df",
   "metadata": {},
   "outputs": [],
   "source": [
    "edit_list(moods)"
   ]
  },
  {
   "cell_type": "markdown",
   "id": "e0524355-a889-4681-9838-3bf6daba0958",
   "metadata": {
    "jp-MarkdownHeadingCollapsed": true
   },
   "source": [
    "### Solution"
   ]
  },
  {
   "cell_type": "code",
   "execution_count": null,
   "id": "f665477a-399a-49b5-ae84-99174c239f1d",
   "metadata": {},
   "outputs": [],
   "source": [
    "mood_queues = [\n",
    "    \"moods a happy customer might be in\",\n",
    "    \"moods a disgruntled customer might be in\",\n",
    "    \"moods an inquisitive customer might be in\"\n",
    "]"
   ]
  },
  {
   "cell_type": "code",
   "execution_count": null,
   "id": "a36ed27d-2af1-4ab4-9d5d-efb8646ddeeb",
   "metadata": {},
   "outputs": [],
   "source": [
    "moods = []\n",
    "while len(moods) < 30:\n",
    "    for mood_queue in mood_queues:\n",
    "        mood = generate_list(5, mood_queue, top_k=8, temperature=1)\n",
    "        moods.extend(mood)\n",
    "        moods = list(set(moods))\n",
    "        print(len(moods))"
   ]
  },
  {
   "cell_type": "code",
   "execution_count": null,
   "id": "cf6a0609-6671-4de4-9cd2-78babb0e6f2d",
   "metadata": {},
   "outputs": [],
   "source": [
    "len(moods)"
   ]
  },
  {
   "cell_type": "code",
   "execution_count": null,
   "id": "6623247f-722d-41d0-b1d4-c6740a3d4df3",
   "metadata": {},
   "outputs": [],
   "source": [
    "edit_list(moods)"
   ]
  },
  {
   "cell_type": "markdown",
   "id": "2d57cb8c-9b83-4872-a354-64548d0cfc5b",
   "metadata": {},
   "source": [
    "---"
   ]
  },
  {
   "cell_type": "markdown",
   "id": "6db6e1ce-522f-420d-9598-317594918966",
   "metadata": {
    "jp-MarkdownHeadingCollapsed": true
   },
   "source": [
    "## Generate Store Locations"
   ]
  },
  {
   "cell_type": "markdown",
   "id": "459aaf61-fc98-4b09-833f-6780e8ab8975",
   "metadata": {},
   "source": [
    "Use your LoRA fine-tuned GPT8B powered `generate_list` function, along with any other code required, to populate `store_locations` with 30 physical locations (city names for example) where a store that the customer purchased their product might be.\n",
    "\n",
    "Don't forget you can pass in named arguments for `top_k` and `temperature`.\n",
    "\n",
    "Use the `edit_list` helper on your generated list to clean any responses you don't want."
   ]
  },
  {
   "cell_type": "markdown",
   "id": "8063c384-229b-4541-a0a2-7a65ad2028a3",
   "metadata": {},
   "source": [
    "If you'd like to see a solution for this section, expand the _Solution_ section below."
   ]
  },
  {
   "cell_type": "markdown",
   "id": "a2a7c96f-0870-474b-b82e-880a574d6d8c",
   "metadata": {},
   "source": [
    "### Your Work Here"
   ]
  },
  {
   "cell_type": "code",
   "execution_count": null,
   "id": "a8fd201b-1891-47a5-a22d-865a63e05423",
   "metadata": {},
   "outputs": [],
   "source": [
    "store_locations  = [] # TODO: populate `store_locations` with 30 physical locations where one of your fictitious stores might be"
   ]
  },
  {
   "cell_type": "code",
   "execution_count": null,
   "id": "a8ce3492-071a-4c0f-8b1d-8fcbfb37afc3",
   "metadata": {},
   "outputs": [],
   "source": [
    "edit_list(store_locations)"
   ]
  },
  {
   "cell_type": "markdown",
   "id": "4db84cf3-547a-4a38-b9f8-29c4ff25710b",
   "metadata": {
    "jp-MarkdownHeadingCollapsed": true
   },
   "source": [
    "### Solution"
   ]
  },
  {
   "cell_type": "code",
   "execution_count": null,
   "id": "bf167fbd-d3ae-4609-bcfc-72ab3d94d80d",
   "metadata": {},
   "outputs": [],
   "source": [
    "store_location_queues = [\n",
    "    \"cities in California\",\n",
    "    \"cities in Maryland\",\n",
    "    \"cities in Alaska\"\n",
    "]"
   ]
  },
  {
   "cell_type": "code",
   "execution_count": null,
   "id": "d80d82dd-24c0-45ed-a23c-4c68f06570b4",
   "metadata": {},
   "outputs": [],
   "source": [
    "store_locations = []\n",
    "while len(store_locations) < 30:\n",
    "    for store_location_queue in store_location_queues:\n",
    "        store_location = generate_list(5, store_location_queue, top_k=8, temperature=1)\n",
    "        store_locations.extend(store_location)\n",
    "        store_locations = list(set(store_locations))\n",
    "        print(len(store_locations))"
   ]
  },
  {
   "cell_type": "code",
   "execution_count": null,
   "id": "7faeae15-abfd-4c0a-aec3-6ec3b11a6624",
   "metadata": {},
   "outputs": [],
   "source": [
    "len(store_locations)"
   ]
  },
  {
   "cell_type": "code",
   "execution_count": null,
   "id": "d46b99ff-5b5e-47ef-acb8-f16cfe7e4b1a",
   "metadata": {},
   "outputs": [],
   "source": [
    "edit_list(store_locations)"
   ]
  },
  {
   "cell_type": "markdown",
   "id": "78b383a3-ed99-4449-a3bd-f7b99c355bf0",
   "metadata": {},
   "source": [
    "---"
   ]
  },
  {
   "cell_type": "markdown",
   "id": "3883f613-8209-4dcd-a922-2f1835e8a4a7",
   "metadata": {
    "jp-MarkdownHeadingCollapsed": true
   },
   "source": [
    "## Check List Lengths"
   ]
  },
  {
   "cell_type": "markdown",
   "id": "47e14761-246f-4b6b-88a9-0b21797dec34",
   "metadata": {},
   "source": [
    "At this point `sender_names`, `products`, `moods` and `store_locations` should each have at least 30 unique items. Please run the following cell to confirm."
   ]
  },
  {
   "cell_type": "code",
   "execution_count": null,
   "id": "0faf74c1-6269-4797-be37-4c5499ac2f05",
   "metadata": {},
   "outputs": [],
   "source": [
    "lists = {'sender_names': sender_names, 'products': products, 'moods': moods, 'store_locations': store_locations}\n",
    "good = True\n",
    "for k, l in lists.items():\n",
    "    if len(set(l)) < 30:\n",
    "        print(f'{k} only has {len(set(l))} items, please correct.')\n",
    "        good = False\n",
    "\n",
    "if good:\n",
    "    print('All your lists have at least 30 items.')"
   ]
  },
  {
   "cell_type": "markdown",
   "id": "efce02c0-088b-4749-9cfe-ae506ee876ac",
   "metadata": {},
   "source": [
    "---"
   ]
  },
  {
   "cell_type": "markdown",
   "id": "a9c024b7-5c6a-47c7-b66b-26578a326296",
   "metadata": {
    "jp-MarkdownHeadingCollapsed": true
   },
   "source": [
    "## Generate Synthetic Customer Emails"
   ]
  },
  {
   "cell_type": "markdown",
   "id": "91b44e77-586e-49dc-a018-b5537ab147cb",
   "metadata": {},
   "source": [
    "![Customer Emails](images/customer_emails.png)"
   ]
  },
  {
   "cell_type": "markdown",
   "id": "c937dcdc-b3c4-4fd7-b3d8-7abe851272da",
   "metadata": {},
   "source": [
    "Now that you have a `generate_customer_emails` LLM function, and synthetic data for all the details we would like to include in the synthetic customer emails, you're ready to create the synthetic customer emails.\n",
    "\n",
    "Using your `generate_customer_emails`, populate an `emails` list with 50 synthetic emails.\n",
    "\n",
    "Remember that you can set parameters like `top_k` and `temperature` to influence the creativity of your emails."
   ]
  },
  {
   "cell_type": "markdown",
   "id": "840e8113-3259-4337-a00d-a1e289eb3fb4",
   "metadata": {},
   "source": [
    "Here are the lists and values you've created to use in your calls to `generate_customer_email`."
   ]
  },
  {
   "cell_type": "code",
   "execution_count": null,
   "id": "dcae9492-6d77-48e5-92fb-cfbee90daee7",
   "metadata": {},
   "outputs": [],
   "source": [
    "company_name"
   ]
  },
  {
   "cell_type": "code",
   "execution_count": null,
   "id": "e206a69a-b33d-4afc-b370-14fc82870d4d",
   "metadata": {},
   "outputs": [],
   "source": [
    "company_industry"
   ]
  },
  {
   "cell_type": "code",
   "execution_count": null,
   "id": "01ad395b-9f49-4e7f-aa50-2d52f19414be",
   "metadata": {},
   "outputs": [],
   "source": [
    "random.choice(sender_names)"
   ]
  },
  {
   "cell_type": "code",
   "execution_count": null,
   "id": "9100b98c-6b6f-420c-90ed-7a7a621f5d91",
   "metadata": {},
   "outputs": [],
   "source": [
    "random.choice(products)"
   ]
  },
  {
   "cell_type": "code",
   "execution_count": null,
   "id": "cd992322-a205-4fbd-b95b-8951d9809c61",
   "metadata": {},
   "outputs": [],
   "source": [
    "random.choice(moods)"
   ]
  },
  {
   "cell_type": "code",
   "execution_count": null,
   "id": "9dce9653-99eb-4b4b-bc53-101cc17f7262",
   "metadata": {},
   "outputs": [],
   "source": [
    "random.choice(store_locations)"
   ]
  },
  {
   "cell_type": "markdown",
   "id": "1d6ed512-678a-4130-ac90-f65b792e8c3b",
   "metadata": {},
   "source": [
    "And for your reference, here are the arguments `generate_customer_emails` expects."
   ]
  },
  {
   "cell_type": "markdown",
   "id": "1fc51300-5789-4596-831e-24e805ca1f04",
   "metadata": {},
   "source": [
    "```python\n",
    "generate_customer_email(sender_name, company_name, industry, product, mood, store_location)\n",
    "```"
   ]
  },
  {
   "cell_type": "markdown",
   "id": "e34b8a5d-0dfb-4ac0-9c40-2ff5a060123d",
   "metadata": {},
   "source": [
    "Before doing a large generation loop, be sure to try out one or several generations first."
   ]
  },
  {
   "cell_type": "markdown",
   "id": "e4c19ae2-7662-4901-80ad-e50c020941ed",
   "metadata": {},
   "source": [
    "Feel free to check out the *Solution* below if you get stuck."
   ]
  },
  {
   "cell_type": "markdown",
   "id": "06a7884a-9e1a-40e5-a759-091ee357b42c",
   "metadata": {},
   "source": [
    "### Your Work Here"
   ]
  },
  {
   "cell_type": "code",
   "execution_count": null,
   "id": "0e8dac7a-00c4-4f0d-aaf1-271a6c328a52",
   "metadata": {},
   "outputs": [],
   "source": [
    "emails = [] # TODO: populate `emails` with 50 synthetically generated emails."
   ]
  },
  {
   "cell_type": "markdown",
   "id": "97b7f00c-c484-4103-96d2-23e36d3b0554",
   "metadata": {
    "jp-MarkdownHeadingCollapsed": true
   },
   "source": [
    "### Solution"
   ]
  },
  {
   "cell_type": "code",
   "execution_count": null,
   "id": "5d519b37-6961-4f97-8107-cac8c56b7eee",
   "metadata": {},
   "outputs": [],
   "source": [
    "emails = []\n",
    "progress_bar = tqdm(total=50)\n",
    "while len(emails) < 50:\n",
    "    sender_name = random.choice(sender_names)\n",
    "    product = random.choice(products)\n",
    "    mood = random.choice(moods)\n",
    "    store_location = random.choice(store_locations)\n",
    "\n",
    "    customer_email = generate_customer_email(sender_name, \n",
    "                                             company_name, \n",
    "                                             company_industry, \n",
    "                                             product, \n",
    "                                             mood, \n",
    "                                             store_location, \n",
    "                                             top_k=4, \n",
    "                                             temperature=1.0)\n",
    "    emails.append(customer_email)\n",
    "    progress_bar.update(1)\n",
    "\n",
    "progress_bar.close()"
   ]
  },
  {
   "cell_type": "code",
   "execution_count": null,
   "id": "4cf52bd0-282e-400f-825f-202a7e531a55",
   "metadata": {},
   "outputs": [],
   "source": [
    "for email in emails[:5]:\n",
    "    print(email+'\\n')"
   ]
  },
  {
   "cell_type": "markdown",
   "id": "957985f3-9f0e-498d-8675-48e545f40d64",
   "metadata": {},
   "source": [
    "---"
   ]
  },
  {
   "cell_type": "markdown",
   "id": "622b6d37-d3fa-4bb4-be72-4f758ee2578f",
   "metadata": {
    "jp-MarkdownHeadingCollapsed": true
   },
   "source": [
    "## Check Synthetic Email List Length"
   ]
  },
  {
   "cell_type": "markdown",
   "id": "20f483a5-8381-470c-8769-b75420c2d55e",
   "metadata": {},
   "source": [
    "At this point `emails` should have at least 50 unique items. Please run the following cell to confirm."
   ]
  },
  {
   "cell_type": "code",
   "execution_count": null,
   "id": "4e0a290c-8943-49d1-91a3-40c2136696f0",
   "metadata": {},
   "outputs": [],
   "source": [
    "num_emails = len(set(emails))\n",
    "if num_emails < 50:\n",
    "    print(f'You only have {num_emails}.')\n",
    "else:\n",
    "    print(f'Good job, you have {num_emails} emails.')"
   ]
  }
 ],
 "metadata": {
  "kernelspec": {
   "display_name": "Python 3 (ipykernel)",
   "language": "python",
   "name": "python3"
  },
  "language_info": {
   "codemirror_mode": {
    "name": "ipython",
    "version": 3
   },
   "file_extension": ".py",
   "mimetype": "text/x-python",
   "name": "python",
   "nbconvert_exporter": "python",
   "pygments_lexer": "ipython3",
   "version": "3.12.1"
  }
 },
 "nbformat": 4,
 "nbformat_minor": 5
}
