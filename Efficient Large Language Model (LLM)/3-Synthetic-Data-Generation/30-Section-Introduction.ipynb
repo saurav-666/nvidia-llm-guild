{
 "cells": [
  {
   "cell_type": "markdown",
   "id": "9503e57e-ea41-4527-9ddd-9ee357d83e26",
   "metadata": {},
   "source": [
    "![NVIDIA Logo](images/nvidia.png)"
   ]
  },
  {
   "cell_type": "markdown",
   "id": "760634f1-770b-439f-9714-071a8ae403c3",
   "metadata": {},
   "source": [
    "# Section 3: Synthetic Data Generation (SDG)"
   ]
  },
  {
   "cell_type": "markdown",
   "id": "b40f726c-7643-4087-b4d1-56b9fa3aca58",
   "metadata": {},
   "source": [
    "In this section you explore creating synthetic data with LLMs, and especially, LLM-generated synthetic data that can be used to fine-tune smaller models to perform tasks that only larger base models had been capable of performing.\n",
    "\n",
    "At the end of this section you will undertake a project to generate synthetic customer emails which will serve as input to the auto-responder you build in section 4."
   ]
  },
  {
   "cell_type": "markdown",
   "id": "8244873d-360e-4ad1-a8a2-7eb7a79fa314",
   "metadata": {},
   "source": [
    "---"
   ]
  },
  {
   "cell_type": "markdown",
   "id": "6dd723bf-6069-4764-ac9c-71a9ed76339e",
   "metadata": {},
   "source": [
    "## Table of Contents"
   ]
  },
  {
   "cell_type": "markdown",
   "id": "38f04cea-144b-481b-bd49-a9d2e822367c",
   "metadata": {},
   "source": [
    "1. **LLM Functions:** In this notebook we introduce the idea of LLM functions where we wrap task-specific LLM behavior into functions to promote modularity and code reuse.\n",
    "1. **List Generator:** In this notebook we create a `generate_list` LLM function capable of generating literal Python lists for a given topic. You will be using this function extensively in SDG tasks and will eventually fine-tune a smaller model to use in the `generate_list` function.\n",
    "1. **Seed Topic Generator:** In this notebook you begin doing synthetic data generation in earnest by undertaking a project to generate many seed topics that will be used in subsequent SDG tasks.\n",
    "1. **List Generation - LoRA Data:** In this notebook you will use your synthetically generated seed topics along with `generate_list` to generate data appropriate to fine-tuning GPT8B to perform the list generation task.\n",
    "1. **List Generation - LoRA:** In this notebook you LoRA fine-tune a GPT8B model to perform list generation.\n",
    "1. **Synthetic Customer Emails:** In this notebook you will undertake a project to use your fine-tuned GPT8B-based `generate_list` LLM function, in conjunction with GPT43B to generate a collection of synthetic customer emails, each containing a variety of distinct and appropriate details."
   ]
  },
  {
   "cell_type": "markdown",
   "id": "db8eef75-3473-4721-9386-9b66f62eb353",
   "metadata": {},
   "source": [
    "---"
   ]
  }
 ],
 "metadata": {
  "kernelspec": {
   "display_name": "Python 3 (ipykernel)",
   "language": "python",
   "name": "python3"
  },
  "language_info": {
   "codemirror_mode": {
    "name": "ipython",
    "version": 3
   },
   "file_extension": ".py",
   "mimetype": "text/x-python",
   "name": "python",
   "nbconvert_exporter": "python",
   "pygments_lexer": "ipython3",
   "version": "3.12.1"
  }
 },
 "nbformat": 4,
 "nbformat_minor": 5
}
