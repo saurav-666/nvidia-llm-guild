{
 "cells": [
  {
   "cell_type": "markdown",
   "id": "9503e57e-ea41-4527-9ddd-9ee357d83e26",
   "metadata": {},
   "source": [
    "![NVIDIA Logo](images/nvidia.png)"
   ]
  },
  {
   "cell_type": "markdown",
   "id": "70b42a64-45e8-4249-abbb-e510eca7e557",
   "metadata": {},
   "source": [
    "# Section 4: Auto-responder"
   ]
  },
  {
   "cell_type": "markdown",
   "id": "4170f09e-79ac-445f-86a9-e97e6893c13b",
   "metadata": {},
   "source": [
    "In this section you undertake the creation of the auto-responder, first by fine-tuning several models to perform the auto-responder's constituent tasks and ultimately composing their functionality into a single auto-respond function as you saw demoed in the workshop introduction.\n",
    "\n",
    "By successfully completing the final auto-responder project you will earn a certificate of competency in the course."
   ]
  },
  {
   "cell_type": "markdown",
   "id": "8244873d-360e-4ad1-a8a2-7eb7a79fa314",
   "metadata": {},
   "source": [
    "---"
   ]
  },
  {
   "cell_type": "markdown",
   "id": "6dd723bf-6069-4764-ac9c-71a9ed76339e",
   "metadata": {},
   "source": [
    "## Table of Contents"
   ]
  },
  {
   "cell_type": "markdown",
   "id": "38f04cea-144b-481b-bd49-a9d2e822367c",
   "metadata": {},
   "source": [
    "1. **Sentiment Analysis:** In this notebook you will begin work on a sentiment analysis task using a dataset of Amazon reviews by performing a baseline zero-shot analysis on 2 GPT models.\n",
    "1. **LoRA for Sentiment Analysis:** In this notebook you will fine tune GPT8B with LoRA to perform sentiment analysis.\n",
    "1. **Sentiment Analysis LLM Function:** In this notebook you will encapsulate the sentiment analysis functionality you enabled in the previous notebook with your LoRA fine-tuned GPT8B model into an LLM function.\n",
    "1. **Extractive Question Answering:** In this notebook you will begin work on an extractive question answering task using the Stanford Question Answering (SQuAD) dataset.\n",
    "1. **LoRA for Extractive Question Answering:** In this notebook you will fine tune GPT8B with LoRA to perform extractive question answering.\n",
    "1. **Final Project - Auto-responder:** In this notebook you will undertake the creation of the auto-responder, leveraging the fine-tuned models created earlier in the section, and responding to the synthetic customer emails created in the previous section.\n",
    "1. **Personal Persona:** In this final notebook you will refactor your `respond_to_email` function to automatically reply to customer emails in a distinct voice."
   ]
  },
  {
   "cell_type": "markdown",
   "id": "4a58b4d8-3edf-4549-bf8a-0b857bba5677",
   "metadata": {},
   "source": [
    "---"
   ]
  }
 ],
 "metadata": {
  "kernelspec": {
   "display_name": "Python 3 (ipykernel)",
   "language": "python",
   "name": "python3"
  },
  "language_info": {
   "codemirror_mode": {
    "name": "ipython",
    "version": 3
   },
   "file_extension": ".py",
   "mimetype": "text/x-python",
   "name": "python",
   "nbconvert_exporter": "python",
   "pygments_lexer": "ipython3",
   "version": "3.12.1"
  }
 },
 "nbformat": 4,
 "nbformat_minor": 5
}
