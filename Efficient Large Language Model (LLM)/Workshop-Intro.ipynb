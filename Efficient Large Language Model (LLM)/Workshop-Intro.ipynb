{
 "cells": [
  {
   "cell_type": "markdown",
   "id": "38a05624-e1c7-43a1-aa8e-95d9c70a95ec",
   "metadata": {},
   "source": [
    "![NVIDIA Logo](images/nvidia.png)"
   ]
  },
  {
   "cell_type": "markdown",
   "id": "5abedeb1-1de6-445a-aad2-b9bb3b46a742",
   "metadata": {},
   "source": [
    "# Efficient Large Language Model Customization"
   ]
  },
  {
   "cell_type": "markdown",
   "id": "492cb091-25e7-41c8-8d4e-d2a309a17788",
   "metadata": {},
   "source": [
    "Welcome.\n",
    "\n",
    "In this workshop you will learn to efficiently customize large language models (LLMs) through a variety of parameter-efficient fine-tuning (PEFT) techniques."
   ]
  },
  {
   "cell_type": "markdown",
   "id": "fb98b53a-bb11-4979-b24e-0d2eb49bd80b",
   "metadata": {},
   "source": [
    "---"
   ]
  },
  {
   "cell_type": "markdown",
   "id": "de58ae3d-3596-454f-919a-f90c44ec1dab",
   "metadata": {},
   "source": [
    "## Workshop Project"
   ]
  },
  {
   "cell_type": "markdown",
   "id": "3244ed9f-bc4a-4ade-8bc1-83049a0318c8",
   "metadata": {},
   "source": [
    "You are going to build an auto-responder for generating responses to customer emails. The auto-responder ascertains several pertinent pieces of information from the customer email and generates a specific and appropriate response. The auto-responder will utilize several parameter-efficient fine-tuned LLMs that you will work towards being able to build and orchestrate throughout the workshop."
   ]
  },
  {
   "cell_type": "code",
   "execution_count": 1,
   "id": "4ccca844-a9a2-45e9-b77a-61a2c7afe7da",
   "metadata": {},
   "outputs": [],
   "source": [
    "from llm_utils.generators import respond_to_email"
   ]
  },
  {
   "cell_type": "code",
   "execution_count": 2,
   "id": "5aaf1ebe-249a-4f4e-9ca4-a600d21b8788",
   "metadata": {},
   "outputs": [],
   "source": [
    "customer_email = \"\"\"\n",
    "Dear ByteWave Support,\n",
    "\n",
    "I am writing to express my disappointment with the ByteWave Earbuds I purchased recently from \\\n",
    "your Bethesda store. Regrettably, the left earbud is completely silent, \\\n",
    "despite my efforts with the troubleshooting steps provided.\n",
    "\n",
    "As a frequent customer, I expected better quality from ByteWave products. \\\n",
    "I request your immediate assistance in this matter. Please let me know if I \\\n",
    "should return the product to the store for a replacement or repair.\n",
    "\n",
    "Sincerely,\n",
    "\n",
    "John Smith\n",
    "\"\"\""
   ]
  },
  {
   "cell_type": "code",
   "execution_count": 3,
   "id": "0036eba0-5e99-467e-a189-3552ecdd1c64",
   "metadata": {},
   "outputs": [
    {
     "name": "stdout",
     "output_type": "stream",
     "text": [
      "--------------------------------------\n",
      "Generating response to customer email:\n",
      "--------------------------------------\n",
      "\n",
      "Dear ByteWave Support,\n",
      "\n",
      "I am writing to express my disappointment with the ByteWave Earbuds I purchased recently from your Bethesda store. Regrettably, the left earbud is completely silent, despite my efforts with the troubleshooting steps provided.\n",
      "\n",
      "As a frequent customer, I expected better quality from ByteWave products. I request your immediate assistance in this matter. Please let me know if I should return the product to the store for a replacement or repair.\n",
      "\n",
      "Sincerely,\n",
      "\n",
      "John Smith\n",
      "\n",
      "----------------------------------------------------------\n",
      "Analysing email sentiment with LoRA fine-tuned NeMo GPT8B.\n",
      "----------------------------------------------------------\n",
      "\n",
      "Sentiment: negative\n",
      "\n",
      "-----------------------------------------------------------------------------------------------\n",
      "Extracting customer name, relevant product, and store location with LoRA fine-tuned NeMo GPT8B.\n",
      "-----------------------------------------------------------------------------------------------\n",
      "\n",
      "Customer name: John Smith\n",
      "Product: Earbuds\n",
      "Store location: Bethesda store\n",
      "\n",
      "------------------------------------------------------\n",
      "Composing response with prompt engineered NeMo GPT43B.\n",
      "------------------------------------------------------\n",
      "\n",
      "Dear John Smith,\n",
      "Thank you for your email. We are sorry to hear that you are not satisfied with your Earbuds. We value our customers in Bethesda store and would like to know more about how we can be of service. A customer service rep from our store in Bethesda store will reach out to you soon.\n",
      "Thank you,\n",
      "ByteWave Customer Support Team\n",
      "\n",
      "------------------------------------------------------------\n",
      "Mimicking personal tone of voice with LoRA fine-tuned GPT8B.\n",
      "------------------------------------------------------------\n",
      "\n",
      "Arrrr, me hearty!\n",
      "\n",
      "Ahoy, John Smith!\n",
      "\n",
      "Thank ye for yer email, matey! We be sorry to hear that ye be not satisfied with yer Earbuds, but we be happy to help ye out, savvy? A customer service rep from our store in Bethesda store will be reaching out to ye soon, so keep yer eyes peeled, matey!\n",
      "\n",
      "We value our customers, and we be eager to help ye out, me hearties!\n",
      "\n",
      "Fair winds and following seas,\n",
      "ByteWave Customer Support Team\n"
     ]
    }
   ],
   "source": [
    "respond_to_email(customer_email)"
   ]
  },
  {
   "cell_type": "markdown",
   "id": "b698ef06-6937-4a8d-8a6f-b7a07e10fdfd",
   "metadata": {},
   "source": [
    "---"
   ]
  },
  {
   "cell_type": "markdown",
   "id": "e03cb4a9-95e6-4e83-92e2-0730306d0650",
   "metadata": {},
   "source": [
    "## Engineering Overview"
   ]
  },
  {
   "cell_type": "markdown",
   "id": "5d49c224-8173-4369-b7f0-f605f85feb94",
   "metadata": {},
   "source": [
    "Run the cell below to load a slide deck that gives an overview of how you will build `respond_to_email`. Consider these slides motivation for what's to come, and not as content that you should thoroughly understand (yet)."
   ]
  },
  {
   "cell_type": "code",
   "execution_count": 4,
   "id": "e7d04900-4fe1-4879-858d-1e11900af7db",
   "metadata": {},
   "outputs": [
    {
     "data": {
      "text/html": [
       "\n",
       "        <iframe\n",
       "            width=\"800\"\n",
       "            height=\"600\"\n",
       "            src=\"https://view.officeapps.live.com/op/view.aspx?src=https://developer.download.nvidia.com/training/courses/C-FX-10-V2/respond-v5.pptx\"\n",
       "            frameborder=\"0\"\n",
       "            allowfullscreen\n",
       "            \n",
       "        ></iframe>\n",
       "        "
      ],
      "text/plain": [
       "<IPython.lib.display.IFrame at 0x7f47921db230>"
      ]
     },
     "execution_count": 4,
     "metadata": {},
     "output_type": "execute_result"
    }
   ],
   "source": [
    "from llm_utils.slides import load_respond_to_email_slides\n",
    "load_respond_to_email_slides()"
   ]
  },
  {
   "cell_type": "markdown",
   "id": "d63dfc54-dbc1-4b95-a638-9b0e29e9585b",
   "metadata": {},
   "source": [
    "---"
   ]
  },
  {
   "cell_type": "markdown",
   "id": "897f8063-b99a-4c1b-b36c-dc55f8f35425",
   "metadata": {},
   "source": [
    "## Workshop Outline"
   ]
  },
  {
   "cell_type": "markdown",
   "id": "d47ec259-db2e-4632-b0e5-fd921ca0f4fe",
   "metadata": {},
   "source": [
    "This workshop is comprised of 4 sections, accessible via the file viewer on the left-hand side of your JupyterLab window."
   ]
  },
  {
   "cell_type": "markdown",
   "id": "c55f6d23-cb13-4576-86a5-ffc86376a288",
   "metadata": {},
   "source": [
    "---"
   ]
  },
  {
   "cell_type": "markdown",
   "id": "35bdf214-dd80-4937-bbac-c31161e136f9",
   "metadata": {},
   "source": [
    "### Section 1: NeMo Service"
   ]
  },
  {
   "cell_type": "markdown",
   "id": "e08d6a8f-3510-4094-878e-0de2111bb086",
   "metadata": {},
   "source": [
    "In this short introductory section you will learn how to connect to NeMo Service, which hosts the large language models we will be working with today and manages the GPU infrastructure they run on. You will learn how to interact, in this Jupyter environment, with NeMo Service LLMs."
   ]
  },
  {
   "cell_type": "markdown",
   "id": "116a7772-a6df-4830-a992-057f7c2c0e0c",
   "metadata": {},
   "source": [
    "---"
   ]
  },
  {
   "cell_type": "markdown",
   "id": "bd2c61b3-57c8-4517-ab16-c2a581970716",
   "metadata": {},
   "source": [
    "### Section 2: PEFT Essentials"
   ]
  },
  {
   "cell_type": "markdown",
   "id": "47eaef68-c18e-4351-b080-7d57bf67e55c",
   "metadata": {},
   "source": [
    "In this section you will learn to perform the parameter efficient fine-tuning techniques p-tuning and LoRA in the context of a challenging medical question answering task while performing quantitative performance analysis across multiple GPT models."
   ]
  },
  {
   "cell_type": "markdown",
   "id": "b0421443-d2e4-4242-be54-2fb7b81a4afe",
   "metadata": {},
   "source": [
    "---"
   ]
  },
  {
   "cell_type": "markdown",
   "id": "c8c9e3eb-f6ac-4b56-a7ea-d64c030b773c",
   "metadata": {},
   "source": [
    "### Section 3: Synthetic Data Generation"
   ]
  },
  {
   "cell_type": "markdown",
   "id": "d230c70c-ce55-45b6-a1ce-2857ffc685db",
   "metadata": {},
   "source": [
    "In this section you explore creating synthetic data with LLMs, and especially, LLM-generated synthetic data that can be used to fine-tune smaller models to perform tasks that only larger base models had been capable of performing.\n",
    "\n",
    "At the end of this section you will undertake a project to generate synthetic customer emails which will serve as input to the auto-responder you build in section 4."
   ]
  },
  {
   "cell_type": "markdown",
   "id": "54813958-bcc9-427d-b179-8f0fec0c76bc",
   "metadata": {},
   "source": [
    "---"
   ]
  },
  {
   "cell_type": "markdown",
   "id": "a7b528ec-5b62-4f92-bff9-cb0362a5a43b",
   "metadata": {},
   "source": [
    "### Section 4: Auto-responder"
   ]
  },
  {
   "cell_type": "markdown",
   "id": "4c9eeba4-fe1b-4851-a2bc-6f338dedd3ec",
   "metadata": {},
   "source": [
    "In this section you undertake the creation of the auto-responder, first by fine-tuning several models to perform the auto-responder's constituent tasks and ultimately composing their functionality into a single auto-respond function as you saw demoed above.\n",
    "\n",
    "By successfully completing the final auto-responder project you will earn a certificate of competency in the course."
   ]
  },
  {
   "cell_type": "markdown",
   "id": "245004ba-91ea-4855-afbe-871c6368ec3e",
   "metadata": {},
   "source": [
    "---"
   ]
  },
  {
   "cell_type": "markdown",
   "id": "a0192820-5e83-42cb-91de-69bad2f2a0c6",
   "metadata": {},
   "source": [
    "##"
   ]
  }
 ],
 "metadata": {
  "kernelspec": {
   "display_name": "Python 3 (ipykernel)",
   "language": "python",
   "name": "python3"
  },
  "language_info": {
   "codemirror_mode": {
    "name": "ipython",
    "version": 3
   },
   "file_extension": ".py",
   "mimetype": "text/x-python",
   "name": "python",
   "nbconvert_exporter": "python",
   "pygments_lexer": "ipython3",
   "version": "3.12.1"
  }
 },
 "nbformat": 4,
 "nbformat_minor": 5
}
